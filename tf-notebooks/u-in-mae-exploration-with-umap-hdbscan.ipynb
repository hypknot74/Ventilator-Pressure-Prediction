{
 "cells": [
  {
   "cell_type": "markdown",
   "metadata": {},
   "source": [
    "# Taget / Error exploration with umap / hdbscan\n"
   ]
  },
  {
   "cell_type": "markdown",
   "metadata": {},
   "source": [
    "The general idea of this notebook is to explore where we get high MAE in terms of clusters of the main feature u_in. We use umap and hdbscan to proceed to dimensionnality reduction and clustering. This allow for 2D plot and aggregation of MAE by cluster to priorize wich clusters we have to deal with. Another version of this notebook, including some changes, exploring pressure and MAE is available here (https://www.kaggle.com/lucasmorin/pressure-mae-exploration-with-umap-hdbscan/edit/run/76608318)."
   ]
  },
  {
   "cell_type": "markdown",
   "metadata": {
    "tags": []
   },
   "source": [
    "# Base construction"
   ]
  },
  {
   "cell_type": "code",
   "execution_count": null,
   "metadata": {},
   "outputs": [],
   "source": [
    "# import numpy as np\n",
    "# import pandas as pd\n",
    "\n",
    "# import optuna\n",
    "\n",
    "# import os \n",
    "# os.environ['TF_CPP_MIN_LOG_LEVEL'] = '3' \n",
    "# # https://www.kaggle.com/c/ventilator-pressure-prediction/discussion/274717\n",
    "\n",
    "# import matplotlib.pyplot as plt\n",
    "# import tensorflow as tf, gc\n",
    "# from tensorflow import keras\n",
    "# import tensorflow.keras.backend as K\n",
    "# from tensorflow.keras.callbacks import EarlyStopping, ModelCheckpoint\n",
    "# from tensorflow.keras.callbacks import LearningRateScheduler, ReduceLROnPlateau\n",
    "# from tensorflow.keras.optimizers.schedules import ExponentialDecay\n",
    "\n",
    "# from sklearn.metrics import mean_absolute_error as mae\n",
    "# from sklearn.preprocessing import RobustScaler, normalize\n",
    "# from sklearn.model_selection import train_test_split, GroupKFold, KFold\n",
    "\n",
    "# from IPython.display import display\n",
    "\n",
    "# import pickle\n",
    "\n",
    "# DEBUG = False\n",
    "# TRAIN_MODEL = False\n",
    "\n",
    "# df_train = pd.read_csv('../input/ventilator-pressure-prediction/train.csv')\n",
    "# df_test = pd.read_csv('../input/ventilator-pressure-prediction/test.csv')\n",
    "# submission = pd.read_csv('../input/ventilator-pressure-prediction/sample_submission.csv')\n",
    "\n",
    "# if DEBUG:\n",
    "#     n = 1000\n",
    "#     df_train = df_train[:80*n]\n",
    "\n",
    "# def add_features(df):\n",
    "#     df['area'] = df['time_step'] * df['u_in']\n",
    "#     df['area'] = df.groupby('breath_id')['area'].cumsum()\n",
    "    \n",
    "#     df['u_in_cumsum'] = (df['u_in']).groupby(df['breath_id']).cumsum()\n",
    "    \n",
    "#     df['u_in_lag1'] = df.groupby('breath_id')['u_in'].shift(1)\n",
    "#     df['u_out_lag1'] = df.groupby('breath_id')['u_out'].shift(1)\n",
    "#     df['u_in_lag_back1'] = df.groupby('breath_id')['u_in'].shift(-1)\n",
    "#     df['u_out_lag_back1'] = df.groupby('breath_id')['u_out'].shift(-1)\n",
    "#     df['u_in_lag2'] = df.groupby('breath_id')['u_in'].shift(2)\n",
    "#     df['u_out_lag2'] = df.groupby('breath_id')['u_out'].shift(2)\n",
    "#     df['u_in_lag_back2'] = df.groupby('breath_id')['u_in'].shift(-2)\n",
    "#     df['u_out_lag_back2'] = df.groupby('breath_id')['u_out'].shift(-2)\n",
    "#     df['u_in_lag3'] = df.groupby('breath_id')['u_in'].shift(3)\n",
    "#     df['u_out_lag3'] = df.groupby('breath_id')['u_out'].shift(3)\n",
    "#     df['u_in_lag_back3'] = df.groupby('breath_id')['u_in'].shift(-3)\n",
    "#     df['u_out_lag_back3'] = df.groupby('breath_id')['u_out'].shift(-3)\n",
    "#     df['u_in_lag4'] = df.groupby('breath_id')['u_in'].shift(4)\n",
    "#     df['u_out_lag4'] = df.groupby('breath_id')['u_out'].shift(4)\n",
    "#     df['u_in_lag_back4'] = df.groupby('breath_id')['u_in'].shift(-4)\n",
    "#     df['u_out_lag_back4'] = df.groupby('breath_id')['u_out'].shift(-4)\n",
    "#     df = df.fillna(0)\n",
    "    \n",
    "#     df['breath_id__u_in__max'] = df.groupby(['breath_id'])['u_in'].transform('max')\n",
    "#     df['breath_id__u_out__max'] = df.groupby(['breath_id'])['u_out'].transform('max')\n",
    "    \n",
    "#     df['u_in_diff1'] = df['u_in'] - df['u_in_lag1']\n",
    "#     df['u_out_diff1'] = df['u_out'] - df['u_out_lag1']\n",
    "#     df['u_in_diff2'] = df['u_in'] - df['u_in_lag2']\n",
    "#     df['u_out_diff2'] = df['u_out'] - df['u_out_lag2']\n",
    "    \n",
    "#     df['breath_id__u_in__diffmax'] = df.groupby(['breath_id'])['u_in'].transform('max') - df['u_in']\n",
    "#     df['breath_id__u_in__diffmean'] = df.groupby(['breath_id'])['u_in'].transform('mean') - df['u_in']\n",
    "    \n",
    "#     df['breath_id__u_in__diffmax'] = df.groupby(['breath_id'])['u_in'].transform('max') - df['u_in']\n",
    "#     df['breath_id__u_in__diffmean'] = df.groupby(['breath_id'])['u_in'].transform('mean') - df['u_in']\n",
    "    \n",
    "#     df['u_in_diff3'] = df['u_in'] - df['u_in_lag3']\n",
    "#     df['u_out_diff3'] = df['u_out'] - df['u_out_lag3']\n",
    "#     df['u_in_diff4'] = df['u_in'] - df['u_in_lag4']\n",
    "#     df['u_out_diff4'] = df['u_out'] - df['u_out_lag4']\n",
    "#     df['cross']= df['u_in']*df['u_out']\n",
    "#     df['cross2']= df['time_step']*df['u_out']\n",
    "    \n",
    "#     df['R'] = df['R'].astype(str)\n",
    "#     df['C'] = df['C'].astype(str)\n",
    "#     df['R__C'] = df[\"R\"].astype(str) + '__' + df[\"C\"].astype(str)\n",
    "#     df = pd.get_dummies(df)\n",
    "#     return df\n",
    "\n",
    "# train = add_features(df_train)\n",
    "# test = add_features(df_test)\n",
    "\n",
    "# targets = train[['pressure']].to_numpy().reshape(-1, 80)\n",
    "# train.drop(['pressure', 'id', 'breath_id'], axis=1, inplace=True)\n",
    "# test = test.drop(['id', 'breath_id'], axis=1)\n",
    "\n",
    "# RS = RobustScaler()\n",
    "# train = RS.fit_transform(train)\n",
    "# test = RS.transform(test)\n",
    "\n",
    "# train = train.reshape(-1, 80, train.shape[-1])\n",
    "# test = test.reshape(-1, 80, train.shape[-1])"
   ]
  },
  {
   "cell_type": "markdown",
   "metadata": {
    "tags": []
   },
   "source": [
    "# Infer train data to compare"
   ]
  },
  {
   "cell_type": "markdown",
   "metadata": {
    "papermill": {
     "duration": 0.016034,
     "end_time": "2021-10-05T20:56:45.034725",
     "exception": false,
     "start_time": "2021-10-05T20:56:45.018691",
     "status": "completed"
    },
    "tags": []
   },
   "source": [
    "## Import libraries"
   ]
  },
  {
   "cell_type": "code",
   "execution_count": 3,
   "metadata": {},
   "outputs": [],
   "source": [
    "# For EDA\n",
    "from sklearn.metrics import mean_absolute_error as mae\n",
    "from sklearn.preprocessing import RobustScaler, normalize\n",
    "from sklearn.model_selection import train_test_split, GroupKFold, KFold\n",
    "\n",
    "from IPython.display import display\n",
    "\n",
    "import pickle\n",
    "import matplotlib.pyplot as plt"
   ]
  },
  {
   "cell_type": "code",
   "execution_count": 1,
   "metadata": {},
   "outputs": [],
   "source": [
    "import os \n",
    "\n",
    "CUDA=1\n",
    "\n",
    "NAME = '1027_tf_ver5'\n",
    "OUTPUT_DIR = f'./results/{NAME}/'\n",
    "if not os.path.exists(OUTPUT_DIR):\n",
    "    os.makedirs(OUTPUT_DIR)\n",
    "    \n",
    "DATA_DIR = '../input/ventilator-pressure-prediction/'"
   ]
  },
  {
   "cell_type": "code",
   "execution_count": 1,
   "metadata": {
    "_cell_guid": "3e5a0bd1-3e22-4b2c-a565-68985e55f95e",
    "_uuid": "e331dbcc-0346-4019-9ff6-b890154a878b",
    "collapsed": false,
    "jupyter": {
     "outputs_hidden": false
    },
    "papermill": {
     "duration": 6.267071,
     "end_time": "2021-10-05T20:56:51.316914",
     "exception": false,
     "start_time": "2021-10-05T20:56:45.049843",
     "status": "completed"
    },
    "tags": []
   },
   "outputs": [],
   "source": [
    "import gc\n",
    "import numpy as np\n",
    "import pandas as pd\n",
    "from sklearn.model_selection import KFold\n",
    "from sklearn.preprocessing import RobustScaler\n",
    "from sklearn.metrics import mean_absolute_error\n",
    "\n",
    "import tensorflow as tf\n",
    "from tensorflow.keras.utils import plot_model\n",
    "from tensorflow.keras.models import Model, load_model\n",
    "from tensorflow.keras.callbacks import EarlyStopping\n",
    "from tensorflow.keras.callbacks import ModelCheckpoint\n",
    "from tensorflow.keras.callbacks import ReduceLROnPlateau\n",
    "#from tensorflow.keras.optimizers.schedules import CosineDecayRestarts\n",
    "#from tensorflow.keras.optimizers import Adam\n",
    "from tensorflow.keras.layers import BatchNormalization, LayerNormalization\n",
    "from tensorflow.keras.layers import Dense, Dropout, Input, Activation\n",
    "from tensorflow.keras.layers import Concatenate, LSTM, GRU\n",
    "from tensorflow.keras.layers import Bidirectional, Multiply\n",
    "\n",
    "np.random.seed(42)\n",
    "tf.random.set_seed(42)"
   ]
  },
  {
   "cell_type": "markdown",
   "metadata": {
    "papermill": {
     "duration": 0.015359,
     "end_time": "2021-10-05T20:56:51.348082",
     "exception": false,
     "start_time": "2021-10-05T20:56:51.332723",
     "status": "completed"
    },
    "tags": []
   },
   "source": [
    "## Load source datasets"
   ]
  },
  {
   "cell_type": "code",
   "execution_count": 5,
   "metadata": {
    "_cell_guid": "89eb257e-0ed2-4f8b-94d6-462a5e995eb1",
    "_uuid": "ca71d87d-6594-4f31-906d-0b53cd4c1374",
    "collapsed": false,
    "jupyter": {
     "outputs_hidden": false
    },
    "papermill": {
     "duration": 10.739701,
     "end_time": "2021-10-05T20:57:02.103774",
     "exception": false,
     "start_time": "2021-10-05T20:56:51.364073",
     "status": "completed"
    },
    "tags": []
   },
   "outputs": [
    {
     "name": "stdout",
     "output_type": "stream",
     "text": [
      "train_df: (6036000, 8)\n"
     ]
    },
    {
     "data": {
      "text/html": [
       "<div>\n",
       "<style scoped>\n",
       "    .dataframe tbody tr th:only-of-type {\n",
       "        vertical-align: middle;\n",
       "    }\n",
       "\n",
       "    .dataframe tbody tr th {\n",
       "        vertical-align: top;\n",
       "    }\n",
       "\n",
       "    .dataframe thead th {\n",
       "        text-align: right;\n",
       "    }\n",
       "</style>\n",
       "<table border=\"1\" class=\"dataframe\">\n",
       "  <thead>\n",
       "    <tr style=\"text-align: right;\">\n",
       "      <th></th>\n",
       "      <th>id</th>\n",
       "      <th>breath_id</th>\n",
       "      <th>R</th>\n",
       "      <th>C</th>\n",
       "      <th>time_step</th>\n",
       "      <th>u_in</th>\n",
       "      <th>u_out</th>\n",
       "      <th>pressure</th>\n",
       "    </tr>\n",
       "  </thead>\n",
       "  <tbody>\n",
       "    <tr>\n",
       "      <th>0</th>\n",
       "      <td>1</td>\n",
       "      <td>1</td>\n",
       "      <td>20</td>\n",
       "      <td>50</td>\n",
       "      <td>0.000000</td>\n",
       "      <td>0.083334</td>\n",
       "      <td>0</td>\n",
       "      <td>5.837492</td>\n",
       "    </tr>\n",
       "    <tr>\n",
       "      <th>1</th>\n",
       "      <td>2</td>\n",
       "      <td>1</td>\n",
       "      <td>20</td>\n",
       "      <td>50</td>\n",
       "      <td>0.033652</td>\n",
       "      <td>18.383041</td>\n",
       "      <td>0</td>\n",
       "      <td>5.907794</td>\n",
       "    </tr>\n",
       "    <tr>\n",
       "      <th>2</th>\n",
       "      <td>3</td>\n",
       "      <td>1</td>\n",
       "      <td>20</td>\n",
       "      <td>50</td>\n",
       "      <td>0.067514</td>\n",
       "      <td>22.509278</td>\n",
       "      <td>0</td>\n",
       "      <td>7.876254</td>\n",
       "    </tr>\n",
       "    <tr>\n",
       "      <th>3</th>\n",
       "      <td>4</td>\n",
       "      <td>1</td>\n",
       "      <td>20</td>\n",
       "      <td>50</td>\n",
       "      <td>0.101542</td>\n",
       "      <td>22.808822</td>\n",
       "      <td>0</td>\n",
       "      <td>11.742872</td>\n",
       "    </tr>\n",
       "    <tr>\n",
       "      <th>4</th>\n",
       "      <td>5</td>\n",
       "      <td>1</td>\n",
       "      <td>20</td>\n",
       "      <td>50</td>\n",
       "      <td>0.135756</td>\n",
       "      <td>25.355850</td>\n",
       "      <td>0</td>\n",
       "      <td>12.234987</td>\n",
       "    </tr>\n",
       "  </tbody>\n",
       "</table>\n",
       "</div>"
      ],
      "text/plain": [
       "   id  breath_id   R   C  time_step       u_in  u_out   pressure\n",
       "0   1          1  20  50   0.000000   0.083334      0   5.837492\n",
       "1   2          1  20  50   0.033652  18.383041      0   5.907794\n",
       "2   3          1  20  50   0.067514  22.509278      0   7.876254\n",
       "3   4          1  20  50   0.101542  22.808822      0  11.742872\n",
       "4   5          1  20  50   0.135756  25.355850      0  12.234987"
      ]
     },
     "execution_count": 5,
     "metadata": {},
     "output_type": "execute_result"
    }
   ],
   "source": [
    "train_df = pd.read_csv('../input/ventilator-pressure-prediction/train.csv')\n",
    "print(f\"train_df: {train_df.shape}\")\n",
    "train_df.head()"
   ]
  },
  {
   "cell_type": "code",
   "execution_count": 6,
   "metadata": {
    "papermill": {
     "duration": 5.214126,
     "end_time": "2021-10-05T20:57:07.334119",
     "exception": false,
     "start_time": "2021-10-05T20:57:02.119993",
     "status": "completed"
    },
    "tags": []
   },
   "outputs": [
    {
     "name": "stdout",
     "output_type": "stream",
     "text": [
      "test_df: (4024000, 7)\n"
     ]
    },
    {
     "data": {
      "text/html": [
       "<div>\n",
       "<style scoped>\n",
       "    .dataframe tbody tr th:only-of-type {\n",
       "        vertical-align: middle;\n",
       "    }\n",
       "\n",
       "    .dataframe tbody tr th {\n",
       "        vertical-align: top;\n",
       "    }\n",
       "\n",
       "    .dataframe thead th {\n",
       "        text-align: right;\n",
       "    }\n",
       "</style>\n",
       "<table border=\"1\" class=\"dataframe\">\n",
       "  <thead>\n",
       "    <tr style=\"text-align: right;\">\n",
       "      <th></th>\n",
       "      <th>id</th>\n",
       "      <th>breath_id</th>\n",
       "      <th>R</th>\n",
       "      <th>C</th>\n",
       "      <th>time_step</th>\n",
       "      <th>u_in</th>\n",
       "      <th>u_out</th>\n",
       "    </tr>\n",
       "  </thead>\n",
       "  <tbody>\n",
       "    <tr>\n",
       "      <th>0</th>\n",
       "      <td>1</td>\n",
       "      <td>0</td>\n",
       "      <td>5</td>\n",
       "      <td>20</td>\n",
       "      <td>0.000000</td>\n",
       "      <td>0.000000</td>\n",
       "      <td>0</td>\n",
       "    </tr>\n",
       "    <tr>\n",
       "      <th>1</th>\n",
       "      <td>2</td>\n",
       "      <td>0</td>\n",
       "      <td>5</td>\n",
       "      <td>20</td>\n",
       "      <td>0.031904</td>\n",
       "      <td>7.515046</td>\n",
       "      <td>0</td>\n",
       "    </tr>\n",
       "    <tr>\n",
       "      <th>2</th>\n",
       "      <td>3</td>\n",
       "      <td>0</td>\n",
       "      <td>5</td>\n",
       "      <td>20</td>\n",
       "      <td>0.063827</td>\n",
       "      <td>14.651675</td>\n",
       "      <td>0</td>\n",
       "    </tr>\n",
       "    <tr>\n",
       "      <th>3</th>\n",
       "      <td>4</td>\n",
       "      <td>0</td>\n",
       "      <td>5</td>\n",
       "      <td>20</td>\n",
       "      <td>0.095751</td>\n",
       "      <td>21.230610</td>\n",
       "      <td>0</td>\n",
       "    </tr>\n",
       "    <tr>\n",
       "      <th>4</th>\n",
       "      <td>5</td>\n",
       "      <td>0</td>\n",
       "      <td>5</td>\n",
       "      <td>20</td>\n",
       "      <td>0.127644</td>\n",
       "      <td>26.320956</td>\n",
       "      <td>0</td>\n",
       "    </tr>\n",
       "  </tbody>\n",
       "</table>\n",
       "</div>"
      ],
      "text/plain": [
       "   id  breath_id  R   C  time_step       u_in  u_out\n",
       "0   1          0  5  20   0.000000   0.000000      0\n",
       "1   2          0  5  20   0.031904   7.515046      0\n",
       "2   3          0  5  20   0.063827  14.651675      0\n",
       "3   4          0  5  20   0.095751  21.230610      0\n",
       "4   5          0  5  20   0.127644  26.320956      0"
      ]
     },
     "execution_count": 6,
     "metadata": {},
     "output_type": "execute_result"
    }
   ],
   "source": [
    "test_df = pd.read_csv('../input/ventilator-pressure-prediction/test.csv')\n",
    "print(f\"test_df: {test_df.shape}\")\n",
    "test_df.head()"
   ]
  },
  {
   "cell_type": "markdown",
   "metadata": {
    "papermill": {
     "duration": 0.017894,
     "end_time": "2021-10-05T20:57:07.369026",
     "exception": false,
     "start_time": "2021-10-05T20:57:07.351132",
     "status": "completed"
    },
    "tags": []
   },
   "source": [
    "## Feature Engineering"
   ]
  },
  {
   "cell_type": "code",
   "execution_count": 7,
   "metadata": {
    "_cell_guid": "13a36b46-7067-4b29-aad3-7e3b15e8415b",
    "_uuid": "dc41dbf2-f199-4b9d-bbd9-bf6084162b47",
    "collapsed": false,
    "jupyter": {
     "outputs_hidden": false
    },
    "papermill": {
     "duration": 143.013489,
     "end_time": "2021-10-05T20:59:30.39949",
     "exception": false,
     "start_time": "2021-10-05T20:57:07.386001",
     "status": "completed"
    },
    "tags": []
   },
   "outputs": [
    {
     "name": "stdout",
     "output_type": "stream",
     "text": [
      "Train data...\n",
      "\n",
      "Step-1...Completed\n",
      "Step-2...Completed\n",
      "Step-3...Completed\n",
      "Step-4...Completed\n",
      "Step-5...Completed\n",
      "Step-6...Completed\n",
      "Step-7...Completed\n",
      "Step-8...Completed\n",
      "\n",
      "Test data...\n",
      "\n",
      "Step-1...Completed\n",
      "Step-2...Completed\n",
      "Step-3...Completed\n",
      "Step-4...Completed\n",
      "Step-5...Completed\n",
      "Step-6...Completed\n",
      "Step-7...Completed\n",
      "Step-8...Completed\n"
     ]
    },
    {
     "data": {
      "text/plain": [
       "0"
      ]
     },
     "execution_count": 7,
     "metadata": {},
     "output_type": "execute_result"
    }
   ],
   "source": [
    "def add_features(df):\n",
    "    df['cross']= df['u_in'] * df['u_out']\n",
    "    df['cross2']= df['time_step'] * df['u_out']\n",
    "    df['area'] = df['time_step'] * df['u_in']\n",
    "    df['area'] = df.groupby('breath_id')['area'].cumsum()\n",
    "    df['time_step_cumsum'] = df.groupby(['breath_id'])['time_step'].cumsum()\n",
    "    df['u_in_cumsum'] = (df['u_in']).groupby(df['breath_id']).cumsum()\n",
    "    print(\"Step-1...Completed\")\n",
    "    \n",
    "    df['u_in_lag1'] = df.groupby('breath_id')['u_in'].shift(1)\n",
    "    df['u_out_lag1'] = df.groupby('breath_id')['u_out'].shift(1)\n",
    "    df['u_in_lag_back1'] = df.groupby('breath_id')['u_in'].shift(-1)\n",
    "    df['u_out_lag_back1'] = df.groupby('breath_id')['u_out'].shift(-1)\n",
    "    df['u_in_lag2'] = df.groupby('breath_id')['u_in'].shift(2)\n",
    "    df['u_out_lag2'] = df.groupby('breath_id')['u_out'].shift(2)\n",
    "    df['u_in_lag_back2'] = df.groupby('breath_id')['u_in'].shift(-2)\n",
    "    df['u_out_lag_back2'] = df.groupby('breath_id')['u_out'].shift(-2)\n",
    "    df['u_in_lag3'] = df.groupby('breath_id')['u_in'].shift(3)\n",
    "    df['u_out_lag3'] = df.groupby('breath_id')['u_out'].shift(3)\n",
    "    df['u_in_lag_back3'] = df.groupby('breath_id')['u_in'].shift(-3)\n",
    "    df['u_out_lag_back3'] = df.groupby('breath_id')['u_out'].shift(-3)\n",
    "    df['u_in_lag4'] = df.groupby('breath_id')['u_in'].shift(4)\n",
    "    df['u_out_lag4'] = df.groupby('breath_id')['u_out'].shift(4)\n",
    "    df['u_in_lag_back4'] = df.groupby('breath_id')['u_in'].shift(-4)\n",
    "    df['u_out_lag_back4'] = df.groupby('breath_id')['u_out'].shift(-4)\n",
    "    df = df.fillna(0)\n",
    "    print(\"Step-2...Completed\")\n",
    "    \n",
    "    df['breath_id__u_in__max'] = df.groupby(['breath_id'])['u_in'].transform('max')\n",
    "    df['breath_id__u_in__mean'] = df.groupby(['breath_id'])['u_in'].transform('mean')\n",
    "    df['breath_id__u_in__diffmax'] = df.groupby(['breath_id'])['u_in'].transform('max') - df['u_in']\n",
    "    df['breath_id__u_in__diffmean'] = df.groupby(['breath_id'])['u_in'].transform('mean') - df['u_in']\n",
    "    print(\"Step-3...Completed\")\n",
    "    \n",
    "    df['u_in_diff1'] = df['u_in'] - df['u_in_lag1']\n",
    "    df['u_out_diff1'] = df['u_out'] - df['u_out_lag1']\n",
    "    df['u_in_diff2'] = df['u_in'] - df['u_in_lag2']\n",
    "    df['u_out_diff2'] = df['u_out'] - df['u_out_lag2']\n",
    "    df['u_in_diff3'] = df['u_in'] - df['u_in_lag3']\n",
    "    df['u_out_diff3'] = df['u_out'] - df['u_out_lag3']\n",
    "    df['u_in_diff4'] = df['u_in'] - df['u_in_lag4']\n",
    "    df['u_out_diff4'] = df['u_out'] - df['u_out_lag4']\n",
    "    print(\"Step-4...Completed\")\n",
    "    \n",
    "    df['one'] = 1\n",
    "    df['count'] = (df['one']).groupby(df['breath_id']).cumsum()\n",
    "    df['u_in_cummean'] =df['u_in_cumsum'] /df['count']\n",
    "    \n",
    "    df['breath_id_lag']=df['breath_id'].shift(1).fillna(0)\n",
    "    df['breath_id_lag2']=df['breath_id'].shift(2).fillna(0)\n",
    "    df['breath_id_lagsame']=np.select([df['breath_id_lag']==df['breath_id']],[1],0)\n",
    "    df['breath_id_lag2same']=np.select([df['breath_id_lag2']==df['breath_id']],[1],0)\n",
    "    df['breath_id__u_in_lag'] = df['u_in'].shift(1).fillna(0)\n",
    "    df['breath_id__u_in_lag'] = df['breath_id__u_in_lag'] * df['breath_id_lagsame']\n",
    "    df['breath_id__u_in_lag2'] = df['u_in'].shift(2).fillna(0)\n",
    "    df['breath_id__u_in_lag2'] = df['breath_id__u_in_lag2'] * df['breath_id_lag2same']\n",
    "    print(\"Step-5...Completed\")\n",
    "    \n",
    "    df['time_step_diff'] = df.groupby('breath_id')['time_step'].diff().fillna(0)\n",
    "    df['ewm_u_in_mean'] = (df\\\n",
    "                           .groupby('breath_id')['u_in']\\\n",
    "                           .ewm(halflife=9)\\\n",
    "                           .mean()\\\n",
    "                           .reset_index(level=0,drop=True))\n",
    "    df[[\"15_in_sum\",\"15_in_min\",\"15_in_max\",\"15_in_mean\"]] = (df\\\n",
    "                                                              .groupby('breath_id')['u_in']\\\n",
    "                                                              .rolling(window=15,min_periods=1)\\\n",
    "                                                              .agg({\"15_in_sum\":\"sum\",\n",
    "                                                                    \"15_in_min\":\"min\",\n",
    "                                                                    \"15_in_max\":\"max\",\n",
    "                                                                    \"15_in_mean\":\"mean\"})\\\n",
    "                                                               .reset_index(level=0,drop=True))\n",
    "    print(\"Step-6...Completed\")\n",
    "    \n",
    "    df['u_in_lagback_diff1'] = df['u_in'] - df['u_in_lag_back1']\n",
    "    df['u_out_lagback_diff1'] = df['u_out'] - df['u_out_lag_back1']\n",
    "    df['u_in_lagback_diff2'] = df['u_in'] - df['u_in_lag_back2']\n",
    "    df['u_out_lagback_diff2'] = df['u_out'] - df['u_out_lag_back2']\n",
    "    print(\"Step-7...Completed\")\n",
    "    \n",
    "    df['R'] = df['R'].astype(str)\n",
    "    df['C'] = df['C'].astype(str)\n",
    "    df['R__C'] = df[\"R\"].astype(str) + '__' + df[\"C\"].astype(str)\n",
    "    df = pd.get_dummies(df)\n",
    "    print(\"Step-8...Completed\")\n",
    "    \n",
    "    return df\n",
    "\n",
    "\n",
    "print(\"Train data...\\n\")\n",
    "train = add_features(train_df)\n",
    "\n",
    "print(\"\\nTest data...\\n\")\n",
    "test = add_features(test_df)\n",
    "\n",
    "del train_df\n",
    "del test_df\n",
    "gc.collect()"
   ]
  },
  {
   "cell_type": "code",
   "execution_count": 8,
   "metadata": {
    "_cell_guid": "01328860-fa2a-421c-9e5f-ea0048246f98",
    "_uuid": "346bf2c0-96d2-4da5-8837-c0f820294a85",
    "collapsed": false,
    "jupyter": {
     "outputs_hidden": false
    },
    "papermill": {
     "duration": 4.913232,
     "end_time": "2021-10-05T20:59:35.334614",
     "exception": false,
     "start_time": "2021-10-05T20:59:30.421382",
     "status": "completed"
    },
    "tags": []
   },
   "outputs": [
    {
     "name": "stdout",
     "output_type": "stream",
     "text": [
      "train: (6036000, 64) \n",
      "test: (4024000, 64)\n"
     ]
    }
   ],
   "source": [
    "targets = train[['pressure']].to_numpy().reshape(-1, 80)\n",
    "\n",
    "train.drop(['pressure','id', 'breath_id','one','count',\n",
    "            'breath_id_lag','breath_id_lag2','breath_id_lagsame',\n",
    "            'breath_id_lag2same'], axis=1, inplace=True)\n",
    "\n",
    "test = test.drop(['id', 'breath_id','one','count','breath_id_lag',\n",
    "                  'breath_id_lag2','breath_id_lagsame',\n",
    "                  'breath_id_lag2same'], axis=1)\n",
    "\n",
    "print(f\"train: {train.shape} \\ntest: {test.shape}\")"
   ]
  },
  {
   "cell_type": "code",
   "execution_count": 9,
   "metadata": {
    "papermill": {
     "duration": 13.174585,
     "end_time": "2021-10-05T20:59:48.53083",
     "exception": false,
     "start_time": "2021-10-05T20:59:35.356245",
     "status": "completed"
    },
    "tags": []
   },
   "outputs": [
    {
     "name": "stdout",
     "output_type": "stream",
     "text": [
      "train: (75450, 80, 64) \n",
      "test: (50300, 80, 64) \n",
      "targets: (75450, 80)\n"
     ]
    }
   ],
   "source": [
    "scaler = RobustScaler()\n",
    "train = scaler.fit_transform(train)\n",
    "test = scaler.transform(test)\n",
    "\n",
    "train = train.reshape(-1, 80, train.shape[-1])\n",
    "test = test.reshape(-1, 80, train.shape[-1])\n",
    "\n",
    "print(f\"train: {train.shape} \\ntest: {test.shape} \\ntargets: {targets.shape}\")"
   ]
  },
  {
   "cell_type": "code",
   "execution_count": 10,
   "metadata": {
    "tags": []
   },
   "outputs": [
    {
     "name": "stdout",
     "output_type": "stream",
     "text": [
      "Min pressure: -1.8957443237304688\n",
      "Max pressure: 64.82099151611328\n",
      "Pressure step: 0.07030248641967773\n",
      "Unique values:  950\n"
     ]
    },
    {
     "data": {
      "text/plain": [
       "69"
      ]
     },
     "execution_count": 10,
     "metadata": {},
     "output_type": "execute_result"
    }
   ],
   "source": [
    "pressure = targets.squeeze().reshape(-1,1).astype('float32')\n",
    "\n",
    "P_MIN = np.min(pressure)\n",
    "P_MAX = np.max(pressure)\n",
    "P_STEP = (pressure[1] - pressure[0])[0]\n",
    "print('Min pressure: {}'.format(P_MIN))\n",
    "print('Max pressure: {}'.format(P_MAX))\n",
    "print('Pressure step: {}'.format(P_STEP))\n",
    "print('Unique values:  {}'.format(np.unique(pressure).shape[0]))\n",
    "\n",
    "del pressure\n",
    "gc.collect()"
   ]
  },
  {
   "cell_type": "markdown",
   "metadata": {
    "papermill": {
     "duration": 0.021616,
     "end_time": "2021-10-05T20:59:48.574409",
     "exception": false,
     "start_time": "2021-10-05T20:59:48.552793",
     "status": "completed"
    },
    "tags": []
   },
   "source": [
    "## Hardware config"
   ]
  },
  {
   "cell_type": "code",
   "execution_count": 11,
   "metadata": {
    "papermill": {
     "duration": 5.519949,
     "end_time": "2021-10-05T20:59:54.116202",
     "exception": false,
     "start_time": "2021-10-05T20:59:48.596253",
     "status": "completed"
    },
    "tags": []
   },
   "outputs": [
    {
     "name": "stdout",
     "output_type": "stream",
     "text": [
      "Running on 1 replicas\n",
      "Batch Size: 512\n"
     ]
    }
   ],
   "source": [
    "try:\n",
    "    tpu = tf.distribute.cluster_resolver.TPUClusterResolver()\n",
    "    tf.config.experimental_connect_to_cluster(tpu)\n",
    "    tf.tpu.experimental.initialize_tpu_system(tpu)\n",
    "    tpu_strategy = tf.distribute.experimental.TPUStrategy(tpu)\n",
    "    BATCH_SIZE = tpu_strategy.num_replicas_in_sync * 64\n",
    "    print(\"Running on TPU:\", tpu.master())\n",
    "    print(f\"Batch Size: {BATCH_SIZE}\")\n",
    "    \n",
    "except ValueError:\n",
    "    strategy = tf.distribute.get_strategy()\n",
    "    BATCH_SIZE = 512\n",
    "    print(f\"Running on {strategy.num_replicas_in_sync} replicas\")\n",
    "    print(f\"Batch Size: {BATCH_SIZE}\")"
   ]
  },
  {
   "cell_type": "markdown",
   "metadata": {
    "papermill": {
     "duration": 0.022294,
     "end_time": "2021-10-05T20:59:54.161528",
     "exception": false,
     "start_time": "2021-10-05T20:59:54.139234",
     "status": "completed"
    },
    "tags": []
   },
   "source": [
    "## Keras DNN Model"
   ]
  },
  {
   "cell_type": "code",
   "execution_count": 12,
   "metadata": {
    "papermill": {
     "duration": 0.035112,
     "end_time": "2021-10-05T20:59:54.2192",
     "exception": false,
     "start_time": "2021-10-05T20:59:54.184088",
     "status": "completed"
    },
    "tags": []
   },
   "outputs": [],
   "source": [
    "def dnn_model():\n",
    "    \n",
    "    x_input = Input(shape=(train.shape[-2:]))\n",
    "    \n",
    "    # x_emb = Dense(units=1024)(x_input)\n",
    "    # x_emb = LayerNormalization()(x_emb)\n",
    "    # x_emb = Activation('selu')(x_emb)\n",
    "    \n",
    "    x1 = Bidirectional(LSTM(units=768, return_sequences=True))(x_input)\n",
    "    x2 = Bidirectional(LSTM(units=512, return_sequences=True))(x1)\n",
    "    x3 = Bidirectional(LSTM(units=384, return_sequences=True))(x2)\n",
    "    x4 = Bidirectional(LSTM(units=256, return_sequences=True))(x3)\n",
    "    x5 = Bidirectional(LSTM(units=128, return_sequences=True))(x4)\n",
    "    \n",
    "    z2 = Bidirectional(GRU(units=384, return_sequences=True))(x2)\n",
    "    \n",
    "    z31 = Multiply()([x3, z2])\n",
    "    z31 = BatchNormalization()(z31)\n",
    "    z3 = Bidirectional(LSTM(units=256, return_sequences=True))(z31)\n",
    "    \n",
    "    z41 = Multiply()([x4, z3])\n",
    "    z41 = BatchNormalization()(z41)\n",
    "    z4 = Bidirectional(LSTM(units=128, return_sequences=True))(z41)\n",
    "    \n",
    "    z51 = Multiply()([x5, z4])\n",
    "    z51 = BatchNormalization()(z51)\n",
    "    z5 = Bidirectional(LSTM(units=64, return_sequences=True))(z51)\n",
    "    \n",
    "    y = Dense(units=128, activation='selu')(z2)\n",
    "    y = Dense(units=128, activation='selu')(y)\n",
    "    y = Dense(units=128, activation='selu')(y)\n",
    "    \n",
    "    x = Concatenate(axis=2)([x5, z2, z3, z4, z5, y])\n",
    "    \n",
    "    x = Dense(units=128, activation='selu')(x)\n",
    "    \n",
    "    x_output = Dense(units=1)(x)\n",
    "\n",
    "    model = Model(inputs=x_input, outputs=x_output, \n",
    "                  name='DNN_Model')\n",
    "    return model"
   ]
  },
  {
   "cell_type": "code",
   "execution_count": 13,
   "metadata": {
    "papermill": {
     "duration": 4.688219,
     "end_time": "2021-10-05T20:59:58.929952",
     "exception": false,
     "start_time": "2021-10-05T20:59:54.241733",
     "status": "completed"
    },
    "tags": []
   },
   "outputs": [
    {
     "name": "stdout",
     "output_type": "stream",
     "text": [
      "Model: \"DNN_Model\"\n",
      "__________________________________________________________________________________________________\n",
      "Layer (type)                    Output Shape         Param #     Connected to                     \n",
      "==================================================================================================\n",
      "input_1 (InputLayer)            [(None, 80, 64)]     0                                            \n",
      "__________________________________________________________________________________________________\n",
      "bidirectional (Bidirectional)   (None, 80, 1536)     5117952     input_1[0][0]                    \n",
      "__________________________________________________________________________________________________\n",
      "bidirectional_1 (Bidirectional) (None, 80, 1024)     8392704     bidirectional[0][0]              \n",
      "__________________________________________________________________________________________________\n",
      "bidirectional_2 (Bidirectional) (None, 80, 768)      4328448     bidirectional_1[0][0]            \n",
      "__________________________________________________________________________________________________\n",
      "bidirectional_5 (Bidirectional) (None, 80, 768)      3248640     bidirectional_1[0][0]            \n",
      "__________________________________________________________________________________________________\n",
      "multiply (Multiply)             (None, 80, 768)      0           bidirectional_2[0][0]            \n",
      "                                                                 bidirectional_5[0][0]            \n",
      "__________________________________________________________________________________________________\n",
      "batch_normalization (BatchNorma (None, 80, 768)      3072        multiply[0][0]                   \n",
      "__________________________________________________________________________________________________\n",
      "bidirectional_3 (Bidirectional) (None, 80, 512)      2099200     bidirectional_2[0][0]            \n",
      "__________________________________________________________________________________________________\n",
      "bidirectional_6 (Bidirectional) (None, 80, 512)      2099200     batch_normalization[0][0]        \n",
      "__________________________________________________________________________________________________\n",
      "multiply_1 (Multiply)           (None, 80, 512)      0           bidirectional_3[0][0]            \n",
      "                                                                 bidirectional_6[0][0]            \n",
      "__________________________________________________________________________________________________\n",
      "batch_normalization_1 (BatchNor (None, 80, 512)      2048        multiply_1[0][0]                 \n",
      "__________________________________________________________________________________________________\n",
      "bidirectional_4 (Bidirectional) (None, 80, 256)      656384      bidirectional_3[0][0]            \n",
      "__________________________________________________________________________________________________\n",
      "bidirectional_7 (Bidirectional) (None, 80, 256)      656384      batch_normalization_1[0][0]      \n",
      "__________________________________________________________________________________________________\n",
      "multiply_2 (Multiply)           (None, 80, 256)      0           bidirectional_4[0][0]            \n",
      "                                                                 bidirectional_7[0][0]            \n",
      "__________________________________________________________________________________________________\n",
      "dense (Dense)                   (None, 80, 128)      98432       bidirectional_5[0][0]            \n",
      "__________________________________________________________________________________________________\n",
      "batch_normalization_2 (BatchNor (None, 80, 256)      1024        multiply_2[0][0]                 \n",
      "__________________________________________________________________________________________________\n",
      "dense_1 (Dense)                 (None, 80, 128)      16512       dense[0][0]                      \n",
      "__________________________________________________________________________________________________\n",
      "bidirectional_8 (Bidirectional) (None, 80, 128)      164352      batch_normalization_2[0][0]      \n",
      "__________________________________________________________________________________________________\n",
      "dense_2 (Dense)                 (None, 80, 128)      16512       dense_1[0][0]                    \n",
      "__________________________________________________________________________________________________\n",
      "concatenate (Concatenate)       (None, 80, 2048)     0           bidirectional_4[0][0]            \n",
      "                                                                 bidirectional_5[0][0]            \n",
      "                                                                 bidirectional_6[0][0]            \n",
      "                                                                 bidirectional_7[0][0]            \n",
      "                                                                 bidirectional_8[0][0]            \n",
      "                                                                 dense_2[0][0]                    \n",
      "__________________________________________________________________________________________________\n",
      "dense_3 (Dense)                 (None, 80, 128)      262272      concatenate[0][0]                \n",
      "__________________________________________________________________________________________________\n",
      "dense_4 (Dense)                 (None, 80, 1)        129         dense_3[0][0]                    \n",
      "==================================================================================================\n",
      "Total params: 27,163,265\n",
      "Trainable params: 27,160,193\n",
      "Non-trainable params: 3,072\n",
      "__________________________________________________________________________________________________\n"
     ]
    }
   ],
   "source": [
    "with tf.device(f'/device:GPU:{CUDA}'):\n",
    "    model = dnn_model()\n",
    "    model.summary()"
   ]
  },
  {
   "cell_type": "code",
   "execution_count": 14,
   "metadata": {
    "papermill": {
     "duration": 1.233882,
     "end_time": "2021-10-05T21:00:00.186822",
     "exception": false,
     "start_time": "2021-10-05T20:59:58.95294",
     "status": "completed"
    },
    "tags": []
   },
   "outputs": [
    {
     "data": {
      "image/png": "[encoded data removed]",
      "text/plain": [
       "<IPython.core.display.Image object>"
      ]
     },
     "execution_count": 14,
     "metadata": {},
     "output_type": "execute_result"
    }
   ],
   "source": [
    "plot_model(\n",
    "    model, \n",
    "    to_file=OUTPUT_DIR+'Google_Brain_Keras_Model.png', \n",
    "    show_shapes=True,\n",
    "    show_layer_names=True\n",
    ")"
   ]
  },
  {
   "cell_type": "markdown",
   "metadata": {},
   "source": [
    "## inference"
   ]
  },
  {
   "cell_type": "code",
   "execution_count": 36,
   "metadata": {
    "papermill": {
     "duration": 14568.5637,
     "end_time": "2021-10-06T01:02:48.778341",
     "exception": false,
     "start_time": "2021-10-05T21:00:00.214641",
     "status": "completed"
    },
    "tags": []
   },
   "outputs": [
    {
     "name": "stdout",
     "output_type": "stream",
     "text": [
      "Fold-1 | OOF Score: 0.1626128874655641\n",
      "Fold-2 | OOF Score: 0.16484353846380045\n",
      "Fold-3 | OOF Score: 0.16189404859782702\n",
      "Fold-4 | OOF Score: 0.16265356261861544\n",
      "Fold-5 | OOF Score: 0.16189823949329657\n",
      "CV Score: 0.1628\n"
     ]
    }
   ],
   "source": [
    "with tf.device(f'/device:GPU:{CUDA}'):\n",
    "    VERBOSE = 1\n",
    "    test_preds = []\n",
    "    kf = KFold(n_splits=5, shuffle=True, random_state=2021)\n",
    "\n",
    "    all_score = 0\n",
    "    count = 0\n",
    "    \n",
    "    y_trues = []\n",
    "    y_preds = []\n",
    "    \n",
    "    for fold, (train_idx, test_idx) in enumerate(kf.split(train, targets)):\n",
    "        \n",
    "        X_train, X_valid = train[train_idx], train[test_idx]\n",
    "        y_train, y_valid = targets[train_idx], targets[test_idx]\n",
    "\n",
    "        model = dnn_model()\n",
    "        model.compile(optimizer=\"adam\", loss=\"mae\")\n",
    "        model = load_model(OUTPUT_DIR+f'./Bidirect_LSTM_model_2021_{fold+1}C.h5') #options=load_locally\n",
    "\n",
    "        y_true = y_valid.squeeze().reshape(-1, 1)\n",
    "        y_pred = model.predict(X_valid, batch_size=BATCH_SIZE).squeeze().reshape(-1, 1)\n",
    "        y_trues.extend(y_true.squeeze())\n",
    "        y_preds.extend(y_pred.squeeze())\n",
    "        score = mean_absolute_error(y_true, y_pred)\n",
    "        print(f\"Fold-{fold+1} | OOF Score: {score}\")\n",
    "        count += 1\n",
    "        all_score += score\n",
    "\n",
    "        test_preds.append(model.predict(test, batch_size=BATCH_SIZE).squeeze().reshape(-1, 1).squeeze())\n",
    "                \n",
    "    print(f'CV Score: {all_score/count:<.4f}')"
   ]
  },
  {
   "cell_type": "code",
   "execution_count": 39,
   "metadata": {
    "tags": []
   },
   "outputs": [],
   "source": [
    "DEBUG = False\n",
    "\n",
    "if DEBUG: n=1000\n",
    "else: n=75450\n",
    "    \n",
    "df = pd.DataFrame({'target': y_trues, 'preds': y_preds, 'id': [i+1 for i in range(n) for e in range(80)]})\n",
    "preds_by_id = np.array(y_preds).reshape(-1, 80)\n",
    "df['u_out_mask'] = (train[:,:,2] == -1).flatten()\n",
    "df['error'] = np.abs(df['target']-df['preds'])\n",
    "df_masked = df.mask(~df['u_out_mask'])\n",
    "MAE_id = df_masked.groupby('id').agg(np.nanmean)['error']"
   ]
  },
  {
   "cell_type": "code",
   "execution_count": null,
   "metadata": {
    "execution": {
     "iopub.execute_input": "2021-10-16T15:05:29.596858Z",
     "iopub.status.busy": "2021-10-16T15:05:29.596513Z",
     "iopub.status.idle": "2021-10-16T15:05:29.604336Z",
     "shell.execute_reply": "2021-10-16T15:05:29.603558Z",
     "shell.execute_reply.started": "2021-10-16T15:05:29.596829Z"
    }
   },
   "outputs": [],
   "source": [
    "MAE_file = \"MAE_id.pkl\"\n",
    "\n",
    "with open(MAE_file,'wb') as f:\n",
    "    pickle.dump(MAE_id, f)\n",
    "    \n",
    "MAE_id.to_csv(\"MAE_id.csv\", index=False)"
   ]
  },
  {
   "cell_type": "markdown",
   "metadata": {
    "tags": []
   },
   "source": [
    "# Basic Exploration"
   ]
  },
  {
   "cell_type": "code",
   "execution_count": null,
   "metadata": {
    "execution": {
     "iopub.status.busy": "2021-10-16T14:59:07.793746Z",
     "iopub.status.idle": "2021-10-16T14:59:07.794245Z"
    }
   },
   "outputs": [],
   "source": [
    "MAE_id.describe()"
   ]
  },
  {
   "cell_type": "code",
   "execution_count": null,
   "metadata": {
    "execution": {
     "iopub.execute_input": "2021-10-08T09:11:54.786271Z",
     "iopub.status.busy": "2021-10-08T09:11:54.785566Z",
     "iopub.status.idle": "2021-10-08T09:11:55.379919Z",
     "shell.execute_reply": "2021-10-08T09:11:55.378949Z",
     "shell.execute_reply.started": "2021-10-08T09:11:54.78623Z"
    }
   },
   "outputs": [],
   "source": [
    "np.log(MAE_id).hist(bins=100)"
   ]
  },
  {
   "cell_type": "code",
   "execution_count": null,
   "metadata": {
    "execution": {
     "iopub.execute_input": "2021-10-08T09:11:55.387881Z",
     "iopub.status.busy": "2021-10-08T09:11:55.387185Z",
     "iopub.status.idle": "2021-10-08T09:11:55.418157Z",
     "shell.execute_reply": "2021-10-08T09:11:55.417356Z",
     "shell.execute_reply.started": "2021-10-08T09:11:55.387841Z"
    }
   },
   "outputs": [],
   "source": [
    "MAE_id_sorted = MAE_id.sort_values(ascending=False)"
   ]
  },
  {
   "cell_type": "markdown",
   "metadata": {},
   "source": [
    "# worst predictions"
   ]
  },
  {
   "cell_type": "code",
   "execution_count": null,
   "metadata": {
    "execution": {
     "iopub.execute_input": "2021-10-08T09:11:55.420446Z",
     "iopub.status.busy": "2021-10-08T09:11:55.419716Z",
     "iopub.status.idle": "2021-10-08T09:11:59.519969Z",
     "shell.execute_reply": "2021-10-08T09:11:59.518962Z",
     "shell.execute_reply.started": "2021-10-08T09:11:55.420392Z"
    }
   },
   "outputs": [],
   "source": [
    "for i in MAE_id_sorted.index[:10]:\n",
    "    ind = np.int(i)\n",
    "    ind_labels = (MAE_id.index.values == i)\n",
    "    \n",
    "    print('cluster:'+str(i) + ' MAE: '+str(np.round(MAE_id_sorted[i],3)))\n",
    "\n",
    "    plt.figure(figsize=(24,8))\n",
    "    \n",
    "    plt.subplot(1, 3, 1)\n",
    "    plt.plot(train[ind_labels,:,1].transpose());\n",
    "    plt.title('u_in')\n",
    "    \n",
    "    plt.subplot(1, 3, 2)\n",
    "    plt.plot(targets[ind_labels].transpose(), label='target');\n",
    "    plt.plot(preds_by_id[ind_labels].transpose(), label='preds');\n",
    "    plt.legend()\n",
    "    plt.title('pressure')\n",
    "    \n",
    "    plt.subplot(1, 3, 3)\n",
    "    plt.plot((targets[ind_labels] - preds_by_id[ind_labels]).transpose());\n",
    "    plt.title('error')\n",
    "    \n",
    "    plt.show()"
   ]
  },
  {
   "cell_type": "markdown",
   "metadata": {},
   "source": [
    "LTSM seems to be able to predict weird noise, but has some constant error on some ids. However such errors seems rather rare. The instance with 15 MAE only account for 0.0002 global MAE. We must find if some clusters of output have more important global error (less individual MAE but high number of instances)."
   ]
  },
  {
   "cell_type": "markdown",
   "metadata": {},
   "source": [
    "# Explaining worst predictions\n",
    "\n",
    "Worst errors seems to come from a shift in values. \n",
    "From the discussion here: https://www.kaggle.com/c/ventilator-pressure-prediction/discussion/278935 we see that most of the time a change in R and C only translate in some shift. So my main hypothese for explaining the worst predictions was some noise in R & C that translate into shiting the predictions. See the discussion here:https://www.kaggle.com/c/ventilator-pressure-prediction/discussion/280356\n",
    "\n",
    "One way to test this hypothese was to try and switch R & C values and see if we get better predictions.\n",
    "With at least 3-4 values of the top 10 MAE explained by a shift in C, this appears something to be worth investigating more. Maybe we can try to predict better R and C from u_in values."
   ]
  },
  {
   "cell_type": "code",
   "execution_count": null,
   "metadata": {},
   "outputs": [],
   "source": [
    "df_trainw = pd.read_csv('../input/ventilator-pressure-prediction/train.csv')\n",
    "df_trainw['breath_id'] = [i+1 for i in range(75450) for e in range(80)]\n",
    "\n",
    "for i in MAE_id_sorted.index[:10]:\n",
    "    \n",
    "    ind = np.int(i)\n",
    "    ind_labels = (MAE_id.index.values == i)\n",
    "    \n",
    "    print(ind)\n",
    "    \n",
    "    df = df_trainw[df_trainw.breath_id == np.int(i)].reset_index(drop=True)\n",
    "\n",
    "    print('original R: '+str(df.R.unique()[0]))\n",
    "    print('original C: '+str(df.C.unique()[0]))\n",
    "    \n",
    "    \n",
    "    basew_all = pd.DataFrame()\n",
    "\n",
    "    for R in [20, 50,  5]:\n",
    "        for C in [50, 20, 10]:\n",
    "            basew_temp = df.copy()\n",
    "            basew_temp['R']=R\n",
    "            basew_temp['C']=C\n",
    "            basew_temp['breath_id'] = basew_temp['breath_id']*100000 + C * 1000 + R\n",
    "            basew_all = basew_all.append(basew_temp)\n",
    "    \n",
    "    trainw = add_features(basew_all)\n",
    "    trainw.drop(['pressure', 'id', 'breath_id'], axis=1, inplace=True)\n",
    "    trainw = RS.transform(trainw)\n",
    "    trainw = trainw.reshape(-1, 80, trainw.shape[-1])\n",
    "    \n",
    "    gpu_strategy = tf.distribute.get_strategy()\n",
    "\n",
    "    with gpu_strategy.scope():\n",
    "        kf = KFold(n_splits=NUM_FOLDS, shuffle=True, random_state=2021)\n",
    "        trainw_preds = []\n",
    "        for fold, (train_idx, test_idx) in enumerate(kf.split(train, targets)):\n",
    "            if fold>0:\n",
    "                break\n",
    "            K.clear_session()\n",
    "            print('-'*15, '>', f'Fold {fold+1}', '<', '-'*15)\n",
    "            checkpoint_filepath = f\"folds{fold}.hdf5\"\n",
    "            model = keras.models.load_model('../input/finetune-of-tensorflow-bidirectional-lstm/'+checkpoint_filepath)\n",
    "            trainw_preds.append(model.predict(trainw, batch_size=BATCH_SIZE, verbose=2).squeeze().reshape(-1, 1).squeeze())\n",
    "            del model\n",
    "            gc.collect()\n",
    "    \n",
    "    preds = trainw_preds[0]\n",
    "    \n",
    "    plt.figure(figsize=(16,8))\n",
    "    \n",
    "    plot_max = np.max([np.max(preds), np.max(df.pressure), np.max(preds_by_id[ind_labels])])\n",
    "    plot_min = np.min([np.max(preds), np.min(df.pressure), np.min(preds_by_id[ind_labels])])\n",
    "    \n",
    "    \n",
    "    plt.subplot(1, 2, 1)\n",
    "    plt.plot(df.pressure, label='target');\n",
    "    plt.plot(preds_by_id[ind_labels].transpose(), label='preds');\n",
    "    plt.ylim((np.min(plot_min), np.max(plot_max))) \n",
    "    plt.legend()\n",
    "    plt.title('pressure')\n",
    "    \n",
    "    plt.subplot(1, 2, 2)\n",
    "    plt.plot(preds.reshape(-1,80).transpose(), label = ('R '+basew_all.R.astype('str') +' - C '+ basew_all.C.astype('str')).unique());\n",
    "    plt.ylim((np.min(plot_min), np.max(plot_max))) \n",
    "    plt.title('predicted_pressure')\n",
    "    plt.legend()\n",
    "    plt.show()\n",
    "    \n",
    "del trainw"
   ]
  },
  {
   "cell_type": "markdown",
   "metadata": {},
   "source": [
    "# UMAP / Hdbscan"
   ]
  },
  {
   "cell_type": "code",
   "execution_count": null,
   "metadata": {
    "execution": {
     "iopub.execute_input": "2021-10-08T09:11:59.522292Z",
     "iopub.status.busy": "2021-10-08T09:11:59.521964Z",
     "iopub.status.idle": "2021-10-08T09:12:09.008019Z",
     "shell.execute_reply": "2021-10-08T09:12:09.007043Z",
     "shell.execute_reply.started": "2021-10-08T09:11:59.522257Z"
    }
   },
   "outputs": [],
   "source": [
    "!mkdir -p /tmp/pip/cache/\n",
    "!cp ../input/hdbscan0827-whl/hdbscan-0.8.27-cp37-cp37m-linux_x86_64.whl /tmp/pip/cache/\n",
    "!pip install --no-index --find-links /tmp/pip/cache/ hdbscan"
   ]
  },
  {
   "cell_type": "markdown",
   "metadata": {},
   "source": [
    "# exploration on u_in - UMAP Embedding - hdbscan clustering"
   ]
  },
  {
   "cell_type": "markdown",
   "metadata": {},
   "source": [
    "As the idea is to observe the main feature, we embed u_in with umap then we fit hdbscan on the embedding. Maybe better to fit hdbscan on the original data..."
   ]
  },
  {
   "cell_type": "code",
   "execution_count": null,
   "metadata": {
    "execution": {
     "iopub.execute_input": "2021-10-08T09:19:21.253626Z",
     "iopub.status.busy": "2021-10-08T09:19:21.253235Z",
     "iopub.status.idle": "2021-10-08T09:21:24.529295Z",
     "shell.execute_reply": "2021-10-08T09:21:24.524081Z",
     "shell.execute_reply.started": "2021-10-08T09:19:21.253591Z"
    }
   },
   "outputs": [],
   "source": [
    "%%time\n",
    "\n",
    "import hdbscan\n",
    "import umap\n",
    "\n",
    "n=75450\n",
    "\n",
    "# Switch to do the exploration on pressure\n",
    "X = train[:,:,1]\n",
    "#X = targets\n",
    "\n",
    "reducer = umap.UMAP(random_state=42, n_components=2)\n",
    "embedding = reducer.fit_transform(X)\n",
    "clusterer = hdbscan.HDBSCAN(prediction_data=True, min_cluster_size = 50).fit(embedding)\n",
    "u, counts = np.unique(clusterer.labels_, return_counts=True)\n",
    "\n",
    "print(u)\n",
    "print(counts)"
   ]
  },
  {
   "cell_type": "code",
   "execution_count": null,
   "metadata": {
    "execution": {
     "iopub.execute_input": "2021-10-08T09:21:28.378653Z",
     "iopub.status.busy": "2021-10-08T09:21:28.378277Z",
     "iopub.status.idle": "2021-10-08T09:21:29.047755Z",
     "shell.execute_reply": "2021-10-08T09:21:29.046689Z",
     "shell.execute_reply.started": "2021-10-08T09:21:28.378619Z"
    }
   },
   "outputs": [],
   "source": [
    "plt.figure(figsize=(10, 8))\n",
    "plt.scatter(embedding[:, 0], embedding[:, 1], s=5, c=clusterer.labels_, edgecolors='none', cmap='jet');"
   ]
  },
  {
   "cell_type": "markdown",
   "metadata": {},
   "source": [
    "Doesn't seems to good of a clustering... there seems to be lot of 'outliers'."
   ]
  },
  {
   "cell_type": "markdown",
   "metadata": {},
   "source": [
    "# Plot error - log_scale"
   ]
  },
  {
   "cell_type": "code",
   "execution_count": null,
   "metadata": {
    "execution": {
     "iopub.execute_input": "2021-10-08T09:21:48.463965Z",
     "iopub.status.busy": "2021-10-08T09:21:48.463634Z",
     "iopub.status.idle": "2021-10-08T09:21:49.73919Z",
     "shell.execute_reply": "2021-10-08T09:21:49.738413Z",
     "shell.execute_reply.started": "2021-10-08T09:21:48.463935Z"
    }
   },
   "outputs": [],
   "source": [
    "import matplotlib.colors as colors\n",
    "plt.figure(figsize=(10, 8))\n",
    "plt.scatter(embedding[:, 0], embedding[:, 1], s=5, c=MAE_id[:n], edgecolors='none', cmap='jet', norm=colors.LogNorm(vmin=MAE_id[:n].quantile(0.05), vmax=MAE_id[:n].quantile(0.95)));\n",
    "plt.colorbar();"
   ]
  },
  {
   "cell_type": "markdown",
   "metadata": {},
   "source": [
    "# MAE by cluster"
   ]
  },
  {
   "cell_type": "markdown",
   "metadata": {},
   "source": [
    "not exact as mean of MAE is not exactly the evaluation metric (due to u_out not starting at the same time), but should be ok for exploration."
   ]
  },
  {
   "cell_type": "code",
   "execution_count": null,
   "metadata": {
    "execution": {
     "iopub.execute_input": "2021-10-08T09:21:55.312667Z",
     "iopub.status.busy": "2021-10-08T09:21:55.312323Z",
     "iopub.status.idle": "2021-10-08T09:21:55.326426Z",
     "shell.execute_reply": "2021-10-08T09:21:55.325039Z",
     "shell.execute_reply.started": "2021-10-08T09:21:55.312635Z"
    }
   },
   "outputs": [],
   "source": [
    "MAE_by_cluster = pd.DataFrame({'cluster':clusterer.labels_,'MAE':MAE_id})\n",
    "\n",
    "MAE_cluster = MAE_by_cluster.groupby('cluster').agg(np.sum)['MAE']\n",
    "\n",
    "#remove some base MAE, then divide by gloabl number\n",
    "MAE_cluster_global = (MAE_cluster - counts * 0.1)/counts.sum()\n",
    "MAE_cluster_global = MAE_cluster_global.sort_values(ascending=False)"
   ]
  },
  {
   "cell_type": "code",
   "execution_count": null,
   "metadata": {
    "execution": {
     "iopub.execute_input": "2021-10-08T09:21:56.11532Z",
     "iopub.status.busy": "2021-10-08T09:21:56.114989Z",
     "iopub.status.idle": "2021-10-08T09:21:56.12462Z",
     "shell.execute_reply": "2021-10-08T09:21:56.123626Z",
     "shell.execute_reply.started": "2021-10-08T09:21:56.115289Z"
    }
   },
   "outputs": [],
   "source": [
    "MAE_cluster_global"
   ]
  },
  {
   "cell_type": "code",
   "execution_count": null,
   "metadata": {
    "execution": {
     "iopub.execute_input": "2021-10-08T09:21:57.21621Z",
     "iopub.status.busy": "2021-10-08T09:21:57.215891Z",
     "iopub.status.idle": "2021-10-08T09:22:39.37952Z",
     "shell.execute_reply": "2021-10-08T09:22:39.378692Z",
     "shell.execute_reply.started": "2021-10-08T09:21:57.21618Z"
    }
   },
   "outputs": [],
   "source": [
    "for i in MAE_cluster_global.index[:10]:\n",
    "    ind_labels = (clusterer.labels_ == i)\n",
    "    print('cluster:'+str(i) + ' Global MAE: '+str(np.round(MAE_cluster_global[i],4)) + ' count: '+str(np.sum(ind_labels)))\n",
    "\n",
    "    plt.figure(figsize=(24,6))\n",
    "    \n",
    "    plt.subplot(1, 4, 1)\n",
    "    plt.scatter(embedding[:, 0], embedding[:, 1], s=5+100*ind_labels, c=ind_labels, edgecolors='none', cmap='viridis');\n",
    "    plt.title('position')\n",
    "    \n",
    "    plt.subplot(1, 4, 2)\n",
    "    plt.plot(train[ind_labels,:,1].transpose());\n",
    "    plt.title('u_in')\n",
    "    \n",
    "    plt.subplot(1, 4, 3)\n",
    "    plt.plot(targets[ind_labels].transpose());\n",
    "    plt.title('pressure')\n",
    "    \n",
    "    plt.subplot(1, 4, 4)\n",
    "    plt.plot((targets[ind_labels] - preds_by_id[ind_labels]).transpose());\n",
    "    plt.title('error: target-preds')\n",
    "    \n",
    "    plt.show()"
   ]
  },
  {
   "cell_type": "markdown",
   "metadata": {},
   "source": [
    "We have found some clusters with high MAE. The cluster 4 with 0.52 MAE and 360 instances account for 0.002 global MAE, while a single instance with 15 MAE account for 0,0002 of global MAE. It appears to be 10 times more important to deal with this cluster than to deal with the higher individual MAE. \n",
    "\n",
    "Regarding specific clusters and how to deal with them, some spike of errors seems concentrated. We might want to try some adapted features. "
   ]
  },
  {
   "cell_type": "markdown",
   "metadata": {},
   "source": [
    "# Study with u_out masking"
   ]
  },
  {
   "cell_type": "markdown",
   "metadata": {},
   "source": [
    "We mask u_in with ~u_out to see if we get a better clustering."
   ]
  },
  {
   "cell_type": "code",
   "execution_count": null,
   "metadata": {
    "execution": {
     "iopub.execute_input": "2021-10-08T09:28:58.362148Z",
     "iopub.status.busy": "2021-10-08T09:28:58.361808Z",
     "iopub.status.idle": "2021-10-08T09:30:55.201648Z",
     "shell.execute_reply": "2021-10-08T09:30:55.200538Z",
     "shell.execute_reply.started": "2021-10-08T09:28:58.362115Z"
    }
   },
   "outputs": [],
   "source": [
    "%%time\n",
    "\n",
    "import hdbscan\n",
    "import umap\n",
    "\n",
    "n=75450\n",
    "\n",
    "# Switch to do the exploration on pressure\n",
    "X = train[:,:,1]\n",
    "X_mask = X*((train[:,:,2]==-1)+0)\n",
    "#X = targets\n",
    "\n",
    "reducer_mask = umap.UMAP(random_state=42, n_components=2)\n",
    "embedding_mask = reducer_mask.fit_transform(X_mask)\n",
    "clusterer_mask = hdbscan.HDBSCAN(prediction_data=True, min_cluster_size = 50).fit(embedding_mask)\n",
    "u_mask, counts_mask = np.unique(clusterer_mask.labels_, return_counts=True)\n",
    "\n",
    "print(u_mask)\n",
    "print(counts_mask)"
   ]
  },
  {
   "cell_type": "code",
   "execution_count": null,
   "metadata": {
    "execution": {
     "iopub.execute_input": "2021-10-08T09:31:14.881143Z",
     "iopub.status.busy": "2021-10-08T09:31:14.880776Z",
     "iopub.status.idle": "2021-10-08T09:31:15.604268Z",
     "shell.execute_reply": "2021-10-08T09:31:15.603276Z",
     "shell.execute_reply.started": "2021-10-08T09:31:14.881106Z"
    }
   },
   "outputs": [],
   "source": [
    "plt.figure(figsize=(10, 8))\n",
    "plt.scatter(embedding_mask[:, 0], embedding_mask[:, 1], s=5, c=clusterer_mask.labels_, edgecolors='none', cmap='jet');"
   ]
  },
  {
   "cell_type": "code",
   "execution_count": null,
   "metadata": {
    "execution": {
     "iopub.execute_input": "2021-10-08T09:31:16.279053Z",
     "iopub.status.busy": "2021-10-08T09:31:16.2787Z",
     "iopub.status.idle": "2021-10-08T09:31:17.445419Z",
     "shell.execute_reply": "2021-10-08T09:31:17.444284Z",
     "shell.execute_reply.started": "2021-10-08T09:31:16.279004Z"
    }
   },
   "outputs": [],
   "source": [
    "import matplotlib.colors as colors\n",
    "plt.figure(figsize=(10, 8))\n",
    "plt.scatter(embedding_mask[:, 0], embedding_mask[:, 1], s=5, c=MAE_id[:n], edgecolors='none', cmap='jet', norm=colors.LogNorm(vmin=MAE_id[:n].quantile(0.05), vmax=MAE_id[:n].quantile(0.95)));\n",
    "plt.colorbar();"
   ]
  },
  {
   "cell_type": "markdown",
   "metadata": {},
   "source": [
    "# Study by R and C"
   ]
  },
  {
   "cell_type": "code",
   "execution_count": null,
   "metadata": {
    "execution": {
     "iopub.execute_input": "2021-10-08T09:38:44.935555Z",
     "iopub.status.busy": "2021-10-08T09:38:44.93516Z",
     "iopub.status.idle": "2021-10-08T09:42:14.779254Z",
     "shell.execute_reply": "2021-10-08T09:42:14.778282Z",
     "shell.execute_reply.started": "2021-10-08T09:38:44.935518Z"
    }
   },
   "outputs": [],
   "source": [
    "df_rc = df_train[['breath_id','R','C']].groupby('breath_id').agg(np.min)\n",
    "\n",
    "for r in [5,20,50]:\n",
    "    for c in [10,20,50]:\n",
    "        \n",
    "        print('r: '+str(r)+', c: '+str(c))\n",
    "        ind_rc = (df_rc.R==r) & (df_rc.C==c)\n",
    "\n",
    "        X = targets[ind_rc]\n",
    "        #u_in\n",
    "        X_train = train[ind_rc,:,1]\n",
    "        X_targets = targets[ind_rc]\n",
    "        X_preds = preds_by_id[ind_rc]\n",
    "\n",
    "        reducer = umap.UMAP(random_state=42, n_components=2)\n",
    "        \n",
    "        # switch to embed on u_in (not tested)\n",
    "        embedding = reducer.fit_transform(X_train)\n",
    "        #embedding = reducer.fit_transform(X)\n",
    "\n",
    "        clusterer = hdbscan.HDBSCAN(prediction_data=True, min_cluster_size = 20).fit(embedding)\n",
    "        u, counts = np.unique(clusterer.labels_, return_counts=True)\n",
    "\n",
    "        plt.figure(figsize=(20, 8))\n",
    "        plt.subplot(1, 2, 1)\n",
    "        plt.scatter(embedding[:, 0], embedding[:, 1], s=5, c=clusterer.labels_, edgecolors='none', cmap='jet');\n",
    "        plt.title('clusters')\n",
    "        plt.subplot(1, 2, 2)\n",
    "        plt.scatter(embedding[:, 0], embedding[:, 1], s=5, c=MAE_id[ind_rc.values], edgecolors='none', cmap='jet', norm=colors.LogNorm(vmin=1e-2, vmax=1e0));\n",
    "        plt.title('MAE')\n",
    "        plt.colorbar();\n",
    "        plt.show();\n",
    "        \n",
    "        \n",
    "        MAE_by_cluster = pd.DataFrame({'cluster':clusterer.labels_,'MAE':MAE_id[ind_rc.values]})\n",
    "        MAE_cluster = MAE_by_cluster.groupby('cluster').agg(np.sum)['MAE']\n",
    "        #remove some base MAE, then divide by gloabl number\n",
    "        MAE_cluster_global = (MAE_cluster - counts * 0.15)/counts.sum()\n",
    "        MAE_cluster_global = MAE_cluster_global.sort_values(ascending=False)\n",
    "        \n",
    "        \n",
    "        for i in MAE_cluster_global.index[:3]:\n",
    "            ind_labels = (clusterer.labels_ == i)\n",
    "            print('cluster:'+str(i) + ' Global MAE: '+str(np.round(MAE_cluster_global[i],4)) + ' count: '+str(np.sum(ind_labels)))\n",
    "\n",
    "            plt.figure(figsize=(24,6))\n",
    "            plt.subplot(1, 4, 1)\n",
    "            plt.scatter(embedding[:, 0], embedding[:, 1], s=5+100*ind_labels, c=ind_labels, edgecolors='none', cmap='viridis');\n",
    "            plt.title('position')\n",
    "            plt.subplot(1, 4, 2)\n",
    "            plt.plot(X_train[ind_labels,:].transpose());\n",
    "            plt.title('u_in')\n",
    "            plt.subplot(1, 4, 3)\n",
    "            plt.plot(X_targets[ind_labels].transpose());\n",
    "            plt.title('pressure')\n",
    "            plt.subplot(1, 4, 4)\n",
    "            plt.plot((X_targets[ind_labels] - X_preds[ind_labels]).transpose());\n",
    "            plt.title('error: target-preds')\n",
    "            plt.show()\n",
    "        \n",
    "        \n",
    "        \n",
    "        "
   ]
  },
  {
   "cell_type": "markdown",
   "metadata": {},
   "source": [
    "Some observations :\n",
    "\n",
    "    - High Errors appear quite clustered for some R&C values. \n",
    "    \n",
    "    - This does seems exploitable as we identify some cluster that seems to be responsible for more than 0.01 MAE gloably.\n",
    "    \n",
    "    - There might be some work to get better parameters for hdbscan (the three clusters for r: 5, c: 50 should be one). \n",
    "    \n",
    "    - From the u_in graph and further inverstigation (coloring by first and last u_in - see below) the weirdest cluster appears linked to first and last values of u_in. "
   ]
  },
  {
   "cell_type": "markdown",
   "metadata": {},
   "source": [
    "# Role of u_in_first, u_in_last"
   ]
  },
  {
   "cell_type": "code",
   "execution_count": null,
   "metadata": {
    "execution": {
     "iopub.execute_input": "2021-10-08T08:26:15.240042Z",
     "iopub.status.busy": "2021-10-08T08:26:15.239674Z",
     "iopub.status.idle": "2021-10-08T08:26:37.482208Z",
     "shell.execute_reply": "2021-10-08T08:26:37.481376Z",
     "shell.execute_reply.started": "2021-10-08T08:26:15.240009Z"
    }
   },
   "outputs": [],
   "source": [
    "df_rc = df_train[['breath_id','R','C']].groupby('breath_id').agg(np.min)\n",
    "\n",
    "for r in [20]:\n",
    "    for c in [50]:\n",
    "        \n",
    "        print('r: '+str(r)+', c: '+str(c))\n",
    "        ind_rc = (df_rc.R==r) & (df_rc.C==c)\n",
    "\n",
    "        X = targets[ind_rc]\n",
    "        #u_in\n",
    "        X_train = train[ind_rc,:,1]\n",
    "        X_targets = targets[ind_rc]\n",
    "        X_preds = preds_by_id[ind_rc]\n",
    "\n",
    "        reducer = umap.UMAP(random_state=42, n_components=2)\n",
    "        embedding = reducer.fit_transform(X)\n",
    "\n",
    "        clusterer = hdbscan.HDBSCAN(prediction_data=True, min_cluster_size = 20).fit(embedding)\n",
    "        u, counts = np.unique(clusterer.labels_, return_counts=True)\n",
    "\n",
    "        plt.figure(figsize=(20, 8))\n",
    "        plt.subplot(1, 2, 1)\n",
    "        plt.scatter(embedding[:, 0], embedding[:, 1], s=5, c=clusterer.labels_, edgecolors='none', cmap='jet');\n",
    "        plt.title('clusters')\n",
    "        plt.subplot(1, 2, 2)\n",
    "        plt.scatter(embedding[:, 0], embedding[:, 1], s=5, c=MAE_id[ind_rc.values], edgecolors='none', cmap='jet', norm=colors.LogNorm(vmin=1e-2, vmax=1e0));\n",
    "        plt.title('MAE')\n",
    "        plt.colorbar();\n",
    "        plt.show();\n",
    "        \n",
    "        plt.figure(figsize=(20, 8))\n",
    "        plt.subplot(1, 2, 1)\n",
    "        plt.scatter(embedding[:, 0], embedding[:, 1], s=5, c=X_train[:,1], edgecolors='none', cmap='jet');\n",
    "        plt.title('u_in_first')\n",
    "        plt.colorbar();\n",
    "        plt.subplot(1, 2, 2)\n",
    "        plt.scatter(embedding[:, 0], embedding[:, 1], s=5, c=X_train[:,-1], edgecolors='none', cmap='jet');\n",
    "        plt.title('u_in_last')\n",
    "        plt.colorbar();\n",
    "        plt.show();"
   ]
  },
  {
   "cell_type": "markdown",
   "metadata": {},
   "source": [
    " My idea was to  get the first and last values separately. I implemented some dedicated functions. But it doesn't exactly seems optimal to build constant time series for LSTM. Maybe we can build a second head that would take individual time series features. From my time series feature engineering notebook here :https://www.kaggle.com/lucasmorin/time-series-agregation-functions:"
   ]
  },
  {
   "cell_type": "code",
   "execution_count": null,
   "metadata": {
    "execution": {
     "iopub.execute_input": "2021-10-08T08:39:25.43894Z",
     "iopub.status.busy": "2021-10-08T08:39:25.438557Z",
     "iopub.status.idle": "2021-10-08T08:39:29.741991Z",
     "shell.execute_reply": "2021-10-08T08:39:29.740984Z",
     "shell.execute_reply.started": "2021-10-08T08:39:25.438876Z"
    }
   },
   "outputs": [],
   "source": [
    "get_first = lambda x: x.iloc[0]\n",
    "get_first.__name__ = 'get_first'\n",
    "\n",
    "get_last = lambda x: x.iloc[-1]\n",
    "get_last.__name__ = 'get_last'\n",
    "\n",
    "get_first_fn = [get_first,get_last]\n",
    "\n",
    "create_feature_dict = {\n",
    "    'u_in': get_first_fn,\n",
    "}\n",
    "\n",
    "train_features = df_train.groupby('breath_id').agg(create_feature_dict)\n",
    "train_features.columns = ['_'.join(col) for col in train_features.columns]\n",
    "\n",
    "train_features.head()"
   ]
  }
 ],
 "metadata": {
  "kernelspec": {
   "display_name": "Python 3",
   "language": "python",
   "name": "python3"
  },
  "language_info": {
   "codemirror_mode": {
    "name": "ipython",
    "version": 3
   },
   "file_extension": ".py",
   "mimetype": "text/x-python",
   "name": "python",
   "nbconvert_exporter": "python",
   "pygments_lexer": "ipython3",
   "version": "3.8.5"
  }
 },
 "nbformat": 4,
 "nbformat_minor": 4
}
