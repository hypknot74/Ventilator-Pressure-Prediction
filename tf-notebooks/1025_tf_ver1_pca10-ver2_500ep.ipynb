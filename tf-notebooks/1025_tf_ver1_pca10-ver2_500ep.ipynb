{
 "cells": [
  {
   "cell_type": "markdown",
   "metadata": {
    "papermill": {
     "duration": 0.016034,
     "end_time": "2021-10-05T20:56:45.034725",
     "exception": false,
     "start_time": "2021-10-05T20:56:45.018691",
     "status": "completed"
    },
    "tags": []
   },
   "source": [
    "## Import libraries"
   ]
  },
  {
   "cell_type": "code",
   "execution_count": 1,
   "metadata": {},
   "outputs": [],
   "source": [
    "import os \n",
    "\n",
    "CUDA=2\n",
    "\n",
    "NAME = '1025_tf_ver1_pca10-ver2_500ep'\n",
    "OUTPUT_DIR = f'./results/{NAME}/'\n",
    "if not os.path.exists(OUTPUT_DIR):\n",
    "    os.makedirs(OUTPUT_DIR)\n",
    "    \n",
    "DATA_DIR = '../input/ventilator-pressure-prediction/'"
   ]
  },
  {
   "cell_type": "code",
   "execution_count": 2,
   "metadata": {
    "_cell_guid": "3e5a0bd1-3e22-4b2c-a565-68985e55f95e",
    "_uuid": "e331dbcc-0346-4019-9ff6-b890154a878b",
    "collapsed": false,
    "jupyter": {
     "outputs_hidden": false
    },
    "papermill": {
     "duration": 6.267071,
     "end_time": "2021-10-05T20:56:51.316914",
     "exception": false,
     "start_time": "2021-10-05T20:56:45.049843",
     "status": "completed"
    },
    "tags": []
   },
   "outputs": [],
   "source": [
    "import gc\n",
    "import numpy as np\n",
    "import pandas as pd\n",
    "from sklearn.model_selection import KFold\n",
    "from sklearn.preprocessing import RobustScaler\n",
    "from sklearn.metrics import mean_absolute_error\n",
    "from sklearn.decomposition import PCA \n",
    "\n",
    "import tensorflow as tf\n",
    "from tensorflow.keras.utils import plot_model\n",
    "from tensorflow.keras.models import Model, load_model\n",
    "from tensorflow.keras.callbacks import EarlyStopping\n",
    "from tensorflow.keras.callbacks import ModelCheckpoint\n",
    "from tensorflow.keras.callbacks import ReduceLROnPlateau\n",
    "#from tensorflow.keras.optimizers.schedules import CosineDecayRestarts\n",
    "#from tensorflow.keras.optimizers import Adam\n",
    "from tensorflow.keras.layers import BatchNormalization, LayerNormalization\n",
    "from tensorflow.keras.layers import Dense, Dropout, Input, Activation\n",
    "from tensorflow.keras.layers import Concatenate, LSTM, GRU\n",
    "from tensorflow.keras.layers import Bidirectional, Multiply\n",
    "\n",
    "np.random.seed(42)\n",
    "tf.random.set_seed(42)"
   ]
  },
  {
   "cell_type": "markdown",
   "metadata": {
    "papermill": {
     "duration": 0.015359,
     "end_time": "2021-10-05T20:56:51.348082",
     "exception": false,
     "start_time": "2021-10-05T20:56:51.332723",
     "status": "completed"
    },
    "tags": []
   },
   "source": [
    "## Load source datasets"
   ]
  },
  {
   "cell_type": "code",
   "execution_count": 3,
   "metadata": {
    "_cell_guid": "89eb257e-0ed2-4f8b-94d6-462a5e995eb1",
    "_uuid": "ca71d87d-6594-4f31-906d-0b53cd4c1374",
    "collapsed": false,
    "jupyter": {
     "outputs_hidden": false
    },
    "papermill": {
     "duration": 10.739701,
     "end_time": "2021-10-05T20:57:02.103774",
     "exception": false,
     "start_time": "2021-10-05T20:56:51.364073",
     "status": "completed"
    },
    "tags": []
   },
   "outputs": [
    {
     "name": "stdout",
     "output_type": "stream",
     "text": [
      "train_df: (6036000, 8)\n"
     ]
    },
    {
     "data": {
      "text/html": [
       "<div>\n",
       "<style scoped>\n",
       "    .dataframe tbody tr th:only-of-type {\n",
       "        vertical-align: middle;\n",
       "    }\n",
       "\n",
       "    .dataframe tbody tr th {\n",
       "        vertical-align: top;\n",
       "    }\n",
       "\n",
       "    .dataframe thead th {\n",
       "        text-align: right;\n",
       "    }\n",
       "</style>\n",
       "<table border=\"1\" class=\"dataframe\">\n",
       "  <thead>\n",
       "    <tr style=\"text-align: right;\">\n",
       "      <th></th>\n",
       "      <th>id</th>\n",
       "      <th>breath_id</th>\n",
       "      <th>R</th>\n",
       "      <th>C</th>\n",
       "      <th>time_step</th>\n",
       "      <th>u_in</th>\n",
       "      <th>u_out</th>\n",
       "      <th>pressure</th>\n",
       "    </tr>\n",
       "  </thead>\n",
       "  <tbody>\n",
       "    <tr>\n",
       "      <th>0</th>\n",
       "      <td>1</td>\n",
       "      <td>1</td>\n",
       "      <td>20</td>\n",
       "      <td>50</td>\n",
       "      <td>0.000000</td>\n",
       "      <td>0.083334</td>\n",
       "      <td>0</td>\n",
       "      <td>5.837492</td>\n",
       "    </tr>\n",
       "    <tr>\n",
       "      <th>1</th>\n",
       "      <td>2</td>\n",
       "      <td>1</td>\n",
       "      <td>20</td>\n",
       "      <td>50</td>\n",
       "      <td>0.033652</td>\n",
       "      <td>18.383041</td>\n",
       "      <td>0</td>\n",
       "      <td>5.907794</td>\n",
       "    </tr>\n",
       "    <tr>\n",
       "      <th>2</th>\n",
       "      <td>3</td>\n",
       "      <td>1</td>\n",
       "      <td>20</td>\n",
       "      <td>50</td>\n",
       "      <td>0.067514</td>\n",
       "      <td>22.509278</td>\n",
       "      <td>0</td>\n",
       "      <td>7.876254</td>\n",
       "    </tr>\n",
       "    <tr>\n",
       "      <th>3</th>\n",
       "      <td>4</td>\n",
       "      <td>1</td>\n",
       "      <td>20</td>\n",
       "      <td>50</td>\n",
       "      <td>0.101542</td>\n",
       "      <td>22.808822</td>\n",
       "      <td>0</td>\n",
       "      <td>11.742872</td>\n",
       "    </tr>\n",
       "    <tr>\n",
       "      <th>4</th>\n",
       "      <td>5</td>\n",
       "      <td>1</td>\n",
       "      <td>20</td>\n",
       "      <td>50</td>\n",
       "      <td>0.135756</td>\n",
       "      <td>25.355850</td>\n",
       "      <td>0</td>\n",
       "      <td>12.234987</td>\n",
       "    </tr>\n",
       "  </tbody>\n",
       "</table>\n",
       "</div>"
      ],
      "text/plain": [
       "   id  breath_id   R   C  time_step       u_in  u_out   pressure\n",
       "0   1          1  20  50   0.000000   0.083334      0   5.837492\n",
       "1   2          1  20  50   0.033652  18.383041      0   5.907794\n",
       "2   3          1  20  50   0.067514  22.509278      0   7.876254\n",
       "3   4          1  20  50   0.101542  22.808822      0  11.742872\n",
       "4   5          1  20  50   0.135756  25.355850      0  12.234987"
      ]
     },
     "execution_count": 3,
     "metadata": {},
     "output_type": "execute_result"
    }
   ],
   "source": [
    "train_df = pd.read_csv('../input/ventilator-pressure-prediction/train.csv')\n",
    "print(f\"train_df: {train_df.shape}\")\n",
    "train_df.head()"
   ]
  },
  {
   "cell_type": "code",
   "execution_count": 4,
   "metadata": {
    "papermill": {
     "duration": 5.214126,
     "end_time": "2021-10-05T20:57:07.334119",
     "exception": false,
     "start_time": "2021-10-05T20:57:02.119993",
     "status": "completed"
    },
    "tags": []
   },
   "outputs": [
    {
     "name": "stdout",
     "output_type": "stream",
     "text": [
      "test_df: (4024000, 7)\n"
     ]
    },
    {
     "data": {
      "text/html": [
       "<div>\n",
       "<style scoped>\n",
       "    .dataframe tbody tr th:only-of-type {\n",
       "        vertical-align: middle;\n",
       "    }\n",
       "\n",
       "    .dataframe tbody tr th {\n",
       "        vertical-align: top;\n",
       "    }\n",
       "\n",
       "    .dataframe thead th {\n",
       "        text-align: right;\n",
       "    }\n",
       "</style>\n",
       "<table border=\"1\" class=\"dataframe\">\n",
       "  <thead>\n",
       "    <tr style=\"text-align: right;\">\n",
       "      <th></th>\n",
       "      <th>id</th>\n",
       "      <th>breath_id</th>\n",
       "      <th>R</th>\n",
       "      <th>C</th>\n",
       "      <th>time_step</th>\n",
       "      <th>u_in</th>\n",
       "      <th>u_out</th>\n",
       "    </tr>\n",
       "  </thead>\n",
       "  <tbody>\n",
       "    <tr>\n",
       "      <th>0</th>\n",
       "      <td>1</td>\n",
       "      <td>0</td>\n",
       "      <td>5</td>\n",
       "      <td>20</td>\n",
       "      <td>0.000000</td>\n",
       "      <td>0.000000</td>\n",
       "      <td>0</td>\n",
       "    </tr>\n",
       "    <tr>\n",
       "      <th>1</th>\n",
       "      <td>2</td>\n",
       "      <td>0</td>\n",
       "      <td>5</td>\n",
       "      <td>20</td>\n",
       "      <td>0.031904</td>\n",
       "      <td>7.515046</td>\n",
       "      <td>0</td>\n",
       "    </tr>\n",
       "    <tr>\n",
       "      <th>2</th>\n",
       "      <td>3</td>\n",
       "      <td>0</td>\n",
       "      <td>5</td>\n",
       "      <td>20</td>\n",
       "      <td>0.063827</td>\n",
       "      <td>14.651675</td>\n",
       "      <td>0</td>\n",
       "    </tr>\n",
       "    <tr>\n",
       "      <th>3</th>\n",
       "      <td>4</td>\n",
       "      <td>0</td>\n",
       "      <td>5</td>\n",
       "      <td>20</td>\n",
       "      <td>0.095751</td>\n",
       "      <td>21.230610</td>\n",
       "      <td>0</td>\n",
       "    </tr>\n",
       "    <tr>\n",
       "      <th>4</th>\n",
       "      <td>5</td>\n",
       "      <td>0</td>\n",
       "      <td>5</td>\n",
       "      <td>20</td>\n",
       "      <td>0.127644</td>\n",
       "      <td>26.320956</td>\n",
       "      <td>0</td>\n",
       "    </tr>\n",
       "  </tbody>\n",
       "</table>\n",
       "</div>"
      ],
      "text/plain": [
       "   id  breath_id  R   C  time_step       u_in  u_out\n",
       "0   1          0  5  20   0.000000   0.000000      0\n",
       "1   2          0  5  20   0.031904   7.515046      0\n",
       "2   3          0  5  20   0.063827  14.651675      0\n",
       "3   4          0  5  20   0.095751  21.230610      0\n",
       "4   5          0  5  20   0.127644  26.320956      0"
      ]
     },
     "execution_count": 4,
     "metadata": {},
     "output_type": "execute_result"
    }
   ],
   "source": [
    "test_df = pd.read_csv('../input/ventilator-pressure-prediction/test.csv')\n",
    "print(f\"test_df: {test_df.shape}\")\n",
    "test_df.head()"
   ]
  },
  {
   "cell_type": "markdown",
   "metadata": {
    "papermill": {
     "duration": 0.017894,
     "end_time": "2021-10-05T20:57:07.369026",
     "exception": false,
     "start_time": "2021-10-05T20:57:07.351132",
     "status": "completed"
    },
    "tags": []
   },
   "source": [
    "## Feature Engineering"
   ]
  },
  {
   "cell_type": "code",
   "execution_count": 13,
   "metadata": {
    "_cell_guid": "13a36b46-7067-4b29-aad3-7e3b15e8415b",
    "_uuid": "dc41dbf2-f199-4b9d-bbd9-bf6084162b47",
    "collapsed": false,
    "jupyter": {
     "outputs_hidden": false
    },
    "papermill": {
     "duration": 143.013489,
     "end_time": "2021-10-05T20:59:30.39949",
     "exception": false,
     "start_time": "2021-10-05T20:57:07.386001",
     "status": "completed"
    },
    "tags": []
   },
   "outputs": [
    {
     "name": "stdout",
     "output_type": "stream",
     "text": [
      "Train data...\n",
      "\n",
      "Step-1...Completed\n",
      "Step-2...Completed\n",
      "Step-3...Completed\n",
      "Step-4...Completed\n",
      "Step-5...Completed\n",
      "Step-6...Completed\n",
      "Step-7...Completed\n",
      "Step-8...Completed\n",
      "Step-9...Completed\n",
      "\n",
      "Test data...\n",
      "\n",
      "Step-1...Completed\n",
      "Step-2...Completed\n",
      "Step-3...Completed\n",
      "Step-4...Completed\n",
      "Step-5...Completed\n",
      "Step-6...Completed\n",
      "Step-7...Completed\n",
      "Step-8...Completed\n",
      "Step-9...Completed\n"
     ]
    }
   ],
   "source": [
    "def add_features(df):\n",
    "    df['cross']= df['u_in'] * df['u_out']\n",
    "    df['cross2']= df['time_step'] * df['u_out']\n",
    "    df['area'] = df['time_step'] * df['u_in']\n",
    "    df['area'] = df.groupby('breath_id')['area'].cumsum()\n",
    "    df['time_step_cumsum'] = df.groupby(['breath_id'])['time_step'].cumsum()\n",
    "    df['u_in_cumsum'] = (df['u_in']).groupby(df['breath_id']).cumsum()\n",
    "    print(\"Step-1...Completed\")\n",
    "    \n",
    "    df['u_in_lag1'] = df.groupby('breath_id')['u_in'].shift(1)\n",
    "    df['u_out_lag1'] = df.groupby('breath_id')['u_out'].shift(1)\n",
    "    df['u_in_lag_back1'] = df.groupby('breath_id')['u_in'].shift(-1)\n",
    "    df['u_out_lag_back1'] = df.groupby('breath_id')['u_out'].shift(-1)\n",
    "    df['u_in_lag2'] = df.groupby('breath_id')['u_in'].shift(2)\n",
    "    df['u_out_lag2'] = df.groupby('breath_id')['u_out'].shift(2)\n",
    "    df['u_in_lag_back2'] = df.groupby('breath_id')['u_in'].shift(-2)\n",
    "    df['u_out_lag_back2'] = df.groupby('breath_id')['u_out'].shift(-2)\n",
    "    df['u_in_lag3'] = df.groupby('breath_id')['u_in'].shift(3)\n",
    "    df['u_out_lag3'] = df.groupby('breath_id')['u_out'].shift(3)\n",
    "    df['u_in_lag_back3'] = df.groupby('breath_id')['u_in'].shift(-3)\n",
    "    df['u_out_lag_back3'] = df.groupby('breath_id')['u_out'].shift(-3)\n",
    "    df['u_in_lag4'] = df.groupby('breath_id')['u_in'].shift(4)\n",
    "    df['u_out_lag4'] = df.groupby('breath_id')['u_out'].shift(4)\n",
    "    df['u_in_lag_back4'] = df.groupby('breath_id')['u_in'].shift(-4)\n",
    "    df['u_out_lag_back4'] = df.groupby('breath_id')['u_out'].shift(-4)\n",
    "    df = df.fillna(0)\n",
    "    print(\"Step-2...Completed\")\n",
    "    \n",
    "    df['breath_id__u_in__max'] = df.groupby(['breath_id'])['u_in'].transform('max')\n",
    "    df['breath_id__u_in__mean'] = df.groupby(['breath_id'])['u_in'].transform('mean')\n",
    "    df['breath_id__u_in__diffmax'] = df.groupby(['breath_id'])['u_in'].transform('max') - df['u_in']\n",
    "    df['breath_id__u_in__diffmean'] = df.groupby(['breath_id'])['u_in'].transform('mean') - df['u_in']\n",
    "    print(\"Step-3...Completed\")\n",
    "    \n",
    "    df['u_in_diff1'] = df['u_in'] - df['u_in_lag1']\n",
    "    df['u_out_diff1'] = df['u_out'] - df['u_out_lag1']\n",
    "    df['u_in_diff2'] = df['u_in'] - df['u_in_lag2']\n",
    "    df['u_out_diff2'] = df['u_out'] - df['u_out_lag2']\n",
    "    df['u_in_diff3'] = df['u_in'] - df['u_in_lag3']\n",
    "    df['u_out_diff3'] = df['u_out'] - df['u_out_lag3']\n",
    "    df['u_in_diff4'] = df['u_in'] - df['u_in_lag4']\n",
    "    df['u_out_diff4'] = df['u_out'] - df['u_out_lag4']\n",
    "    print(\"Step-4...Completed\")\n",
    "    \n",
    "    df['one'] = 1\n",
    "    df['count'] = (df['one']).groupby(df['breath_id']).cumsum()\n",
    "    df['u_in_cummean'] =df['u_in_cumsum'] /df['count']\n",
    "    \n",
    "    # df['breath_id_lag']=df['breath_id'].shift(1).fillna(0)\n",
    "    # df['breath_id_lag2']=df['breath_id'].shift(2).fillna(0)\n",
    "    # df['breath_id_lagsame']=np.select([df['breath_id_lag']==df['breath_id']],[1],0)\n",
    "    # df['breath_id_lag2same']=np.select([df['breath_id_lag2']==df['breath_id']],[1],0)\n",
    "    # df['breath_id__u_in_lag'] = df['u_in'].shift(1).fillna(0)\n",
    "    # df['breath_id__u_in_lag'] = df['breath_id__u_in_lag'] * df['breath_id_lagsame']\n",
    "    # df['breath_id__u_in_lag2'] = df['u_in'].shift(2).fillna(0)\n",
    "    # df['breath_id__u_in_lag2'] = df['breath_id__u_in_lag2'] * df['breath_id_lag2same']\n",
    "    print(\"Step-5...Completed\")\n",
    "    \n",
    "    df['time_step_diff'] = df.groupby('breath_id')['time_step'].diff().fillna(0)\n",
    "    df['ewm_u_in_mean'] = (df\\\n",
    "                           .groupby('breath_id')['u_in']\\\n",
    "                           .ewm(halflife=9)\\\n",
    "                           .mean()\\\n",
    "                           .reset_index(level=0,drop=True))\n",
    "    print(\"Step-6...Completed\")\n",
    "    \n",
    "    df['u_in_lagback_diff1'] = df['u_in'] - df['u_in_lag_back1']\n",
    "    df['u_out_lagback_diff1'] = df['u_out'] - df['u_out_lag_back1']\n",
    "    df['u_in_lagback_diff2'] = df['u_in'] - df['u_in_lag_back2']\n",
    "    df['u_out_lagback_diff2'] = df['u_out'] - df['u_out_lag_back2']\n",
    "    print(\"Step-7...Completed\")\n",
    "    \n",
    "    df['R'] = df['R'].astype(str)\n",
    "    df['C'] = df['C'].astype(str)\n",
    "    df['R__C'] = df[\"R\"].astype(str) + '__' + df[\"C\"].astype(str)\n",
    "    df = pd.get_dummies(df)\n",
    "    print(\"Step-8...Completed\")\n",
    "    \n",
    "    \n",
    "    df[[\"5_in_sum\",\"5_in_min\",\"5_in_max\",\"5_in_mean\"]] = (df\\\n",
    "                                                              .groupby('breath_id')['u_in']\\\n",
    "                                                              .rolling(window=5,min_periods=1)\\\n",
    "                                                              .agg({\"15_in_sum\":\"sum\",\n",
    "                                                                    \"15_in_min\":\"min\",\n",
    "                                                                    \"15_in_max\":\"max\",\n",
    "                                                                    \"15_in_mean\":\"mean\"})\\\n",
    "                                                               .reset_index(level=0,drop=True))    \n",
    "    df[[\"15_in_sum\",\"15_in_min\",\"15_in_max\",\"15_in_mean\"]] = (df\\\n",
    "                                                              .groupby('breath_id')['u_in']\\\n",
    "                                                              .rolling(window=15,min_periods=1)\\\n",
    "                                                              .agg({\"15_in_sum\":\"sum\",\n",
    "                                                                    \"15_in_min\":\"min\",\n",
    "                                                                    \"15_in_max\":\"max\",\n",
    "                                                                    \"15_in_mean\":\"mean\"})\\\n",
    "                                                               .reset_index(level=0,drop=True))\n",
    "    print(\"Step-9...Completed\")\n",
    "    \n",
    "    return df\n",
    "\n",
    "\n",
    "print(\"Train data...\\n\")\n",
    "train_df = add_features(train_df)\n",
    "\n",
    "print(\"\\nTest data...\\n\")\n",
    "test_df = add_features(test_df)"
   ]
  },
  {
   "cell_type": "code",
   "execution_count": 14,
   "metadata": {
    "_cell_guid": "01328860-fa2a-421c-9e5f-ea0048246f98",
    "_uuid": "346bf2c0-96d2-4da5-8837-c0f820294a85",
    "collapsed": false,
    "jupyter": {
     "outputs_hidden": false
    },
    "papermill": {
     "duration": 4.913232,
     "end_time": "2021-10-05T20:59:35.334614",
     "exception": false,
     "start_time": "2021-10-05T20:59:30.421382",
     "status": "completed"
    },
    "tags": []
   },
   "outputs": [
    {
     "name": "stdout",
     "output_type": "stream",
     "text": [
      "train: (6036000, 66) \n",
      "test: (4024000, 66)\n"
     ]
    }
   ],
   "source": [
    "targets = train_df[['pressure']].to_numpy().reshape(-1, 80)\n",
    "\n",
    "train_df.drop(['pressure','id', 'breath_id','one','count'], axis=1, inplace=True)\n",
    "\n",
    "test_df = test_df.drop(['id', 'breath_id','one','count'], axis=1)\n",
    "\n",
    "print(f\"train: {train_df.shape} \\ntest: {test_df.shape}\")"
   ]
  },
  {
   "cell_type": "markdown",
   "metadata": {},
   "source": [
    "## Normalization"
   ]
  },
  {
   "cell_type": "code",
   "execution_count": 15,
   "metadata": {
    "papermill": {
     "duration": 13.174585,
     "end_time": "2021-10-05T20:59:48.53083",
     "exception": false,
     "start_time": "2021-10-05T20:59:35.356245",
     "status": "completed"
    },
    "tags": []
   },
   "outputs": [],
   "source": [
    "scaler = RobustScaler()\n",
    "train = scaler.fit_transform(train_df)\n",
    "test = scaler.transform(test_df)\n",
    "\n",
    "train_df[:] = train\n",
    "test_df[:] = test"
   ]
  },
  {
   "cell_type": "markdown",
   "metadata": {},
   "source": [
    "## PCA"
   ]
  },
  {
   "cell_type": "code",
   "execution_count": 16,
   "metadata": {},
   "outputs": [
    {
     "data": {
      "text/plain": [
       "0"
      ]
     },
     "execution_count": 16,
     "metadata": {},
     "output_type": "execute_result"
    }
   ],
   "source": [
    "n_components=5\n",
    "\n",
    "# PCA for all features\n",
    "pca = PCA(n_components=n_components)\n",
    "pca.fit(train)\n",
    "train_pca_feature = pca.transform(train)\n",
    "test_pca_feature = pca.transform(test)\n",
    "\n",
    "train = np.concatenate([train, train_pca_feature], 1)\n",
    "test = np.concatenate([test, test_pca_feature], 1)\n",
    "\n",
    "# PCA for u_in or u_out freatures\n",
    "pca = PCA(n_components=n_components)\n",
    "pca.fit(train_df[[col for col in train_df.columns.tolist() if 'u_in' in col or 'u_out' in col]])\n",
    "train_pca_feature = pca.transform(train_df[[col for col in train_df.columns.tolist() if 'u_in' in col or 'u_out' in col]])\n",
    "test_pca_feature = pca.transform(test_df[[col for col in test_df.columns.tolist() if 'u_in' in col or 'u_out' in col]])\n",
    "\n",
    "train = np.concatenate([train, train_pca_feature], 1)\n",
    "test = np.concatenate([test, test_pca_feature], 1)\n",
    "\n",
    "del train_df\n",
    "del test_df\n",
    "gc.collect()"
   ]
  },
  {
   "cell_type": "markdown",
   "metadata": {},
   "source": [
    "## Reshape"
   ]
  },
  {
   "cell_type": "code",
   "execution_count": 17,
   "metadata": {},
   "outputs": [
    {
     "name": "stdout",
     "output_type": "stream",
     "text": [
      "train: (75450, 80, 76) \n",
      "test: (50300, 80, 76) \n",
      "targets: (75450, 80)\n"
     ]
    }
   ],
   "source": [
    "train = train.reshape(-1, 80, train.shape[-1])\n",
    "test = test.reshape(-1, 80, train.shape[-1])\n",
    "\n",
    "print(f\"train: {train.shape} \\ntest: {test.shape} \\ntargets: {targets.shape}\")"
   ]
  },
  {
   "cell_type": "markdown",
   "metadata": {
    "papermill": {
     "duration": 0.021616,
     "end_time": "2021-10-05T20:59:48.574409",
     "exception": false,
     "start_time": "2021-10-05T20:59:48.552793",
     "status": "completed"
    },
    "tags": []
   },
   "source": [
    "## Hardware config"
   ]
  },
  {
   "cell_type": "code",
   "execution_count": 18,
   "metadata": {
    "papermill": {
     "duration": 5.519949,
     "end_time": "2021-10-05T20:59:54.116202",
     "exception": false,
     "start_time": "2021-10-05T20:59:48.596253",
     "status": "completed"
    },
    "tags": []
   },
   "outputs": [
    {
     "name": "stdout",
     "output_type": "stream",
     "text": [
      "Running on 1 replicas\n",
      "Batch Size: 512\n"
     ]
    }
   ],
   "source": [
    "try:\n",
    "    tpu = tf.distribute.cluster_resolver.TPUClusterResolver()\n",
    "    tf.config.experimental_connect_to_cluster(tpu)\n",
    "    tf.tpu.experimental.initialize_tpu_system(tpu)\n",
    "    tpu_strategy = tf.distribute.experimental.TPUStrategy(tpu)\n",
    "    BATCH_SIZE = tpu_strategy.num_replicas_in_sync * 64\n",
    "    print(\"Running on TPU:\", tpu.master())\n",
    "    print(f\"Batch Size: {BATCH_SIZE}\")\n",
    "    \n",
    "except ValueError:\n",
    "    strategy = tf.distribute.get_strategy()\n",
    "    BATCH_SIZE = 512\n",
    "    print(f\"Running on {strategy.num_replicas_in_sync} replicas\")\n",
    "    print(f\"Batch Size: {BATCH_SIZE}\")"
   ]
  },
  {
   "cell_type": "markdown",
   "metadata": {
    "papermill": {
     "duration": 0.022294,
     "end_time": "2021-10-05T20:59:54.161528",
     "exception": false,
     "start_time": "2021-10-05T20:59:54.139234",
     "status": "completed"
    },
    "tags": []
   },
   "source": [
    "## Keras DNN Model"
   ]
  },
  {
   "cell_type": "code",
   "execution_count": 19,
   "metadata": {
    "papermill": {
     "duration": 0.035112,
     "end_time": "2021-10-05T20:59:54.2192",
     "exception": false,
     "start_time": "2021-10-05T20:59:54.184088",
     "status": "completed"
    },
    "tags": []
   },
   "outputs": [],
   "source": [
    "def dnn_model():\n",
    "    \n",
    "    x_input = Input(shape=(train.shape[-2:]))\n",
    "    \n",
    "    # x_emb = Dense(units=1024)(x_input)\n",
    "    # x_emb = LayerNormalization()(x_emb)\n",
    "    # x_emb = Activation('selu')(x_emb)\n",
    "    \n",
    "    x1 = Bidirectional(LSTM(units=768, return_sequences=True))(x_input)\n",
    "    x2 = Bidirectional(LSTM(units=512, return_sequences=True))(x1)\n",
    "    x3 = Bidirectional(LSTM(units=384, return_sequences=True))(x2)\n",
    "    x4 = Bidirectional(LSTM(units=256, return_sequences=True))(x3)\n",
    "    x5 = Bidirectional(LSTM(units=128, return_sequences=True))(x4)\n",
    "    \n",
    "    z2 = Bidirectional(GRU(units=384, return_sequences=True))(x2)\n",
    "    \n",
    "    z31 = Multiply()([x3, z2])\n",
    "    z31 = BatchNormalization()(z31)\n",
    "    z3 = Bidirectional(LSTM(units=256, return_sequences=True))(z31)\n",
    "    \n",
    "    z41 = Multiply()([x4, z3])\n",
    "    z41 = BatchNormalization()(z41)\n",
    "    z4 = Bidirectional(LSTM(units=128, return_sequences=True))(z41)\n",
    "    \n",
    "    z51 = Multiply()([x5, z4])\n",
    "    z51 = BatchNormalization()(z51)\n",
    "    z5 = Bidirectional(LSTM(units=64, return_sequences=True))(z51)\n",
    "    \n",
    "    x = Concatenate(axis=2)([x5, z2, z3, z4, z5])\n",
    "    \n",
    "    x = Dense(units=128, activation='selu')(x)\n",
    "    \n",
    "    x_output = Dense(units=1)(x)\n",
    "\n",
    "    model = Model(inputs=x_input, outputs=x_output, \n",
    "                  name='DNN_Model')\n",
    "    return model"
   ]
  },
  {
   "cell_type": "code",
   "execution_count": null,
   "metadata": {
    "papermill": {
     "duration": 4.688219,
     "end_time": "2021-10-05T20:59:58.929952",
     "exception": false,
     "start_time": "2021-10-05T20:59:54.241733",
     "status": "completed"
    },
    "tags": []
   },
   "outputs": [],
   "source": [
    "with tf.device(f'/device:GPU:{CUDA}'):\n",
    "    model = dnn_model()\n",
    "    model.summary()"
   ]
  },
  {
   "cell_type": "code",
   "execution_count": null,
   "metadata": {
    "papermill": {
     "duration": 1.233882,
     "end_time": "2021-10-05T21:00:00.186822",
     "exception": false,
     "start_time": "2021-10-05T20:59:58.95294",
     "status": "completed"
    },
    "tags": []
   },
   "outputs": [],
   "source": [
    "plot_model(\n",
    "    model, \n",
    "    to_file=OUTPUT_DIR+'Google_Brain_Keras_Model.png', \n",
    "    show_shapes=True,\n",
    "    show_layer_names=True\n",
    ")"
   ]
  },
  {
   "cell_type": "code",
   "execution_count": null,
   "metadata": {
    "papermill": {
     "duration": 14568.5637,
     "end_time": "2021-10-06T01:02:48.778341",
     "exception": false,
     "start_time": "2021-10-05T21:00:00.214641",
     "status": "completed"
    },
    "tags": []
   },
   "outputs": [],
   "source": [
    "import wandb\n",
    "from wandb.keras import WandbCallback\n",
    "\n",
    "\n",
    "\n",
    "\n",
    "with tf.device(f'/device:GPU:{CUDA}'):\n",
    "    VERBOSE = 1\n",
    "    test_preds = []\n",
    "    kf = KFold(n_splits=5, shuffle=True, random_state=2021)\n",
    "\n",
    "    all_score = 0\n",
    "    count = 0\n",
    "    for fold, (train_idx, test_idx) in enumerate(kf.split(train, targets)):\n",
    "        run = wandb.init(project=\"Ventilator-Pressure-Public-tf\", \n",
    "                     name=f'fold_{fold}',\n",
    "                     config={\"hyper\": \"parameter\"},\n",
    "                     group=NAME,\n",
    "                    job_type='train')\n",
    "        \n",
    "        X_train, X_valid = train[train_idx], train[test_idx]\n",
    "        y_train, y_valid = targets[train_idx], targets[test_idx]\n",
    "\n",
    "        model = dnn_model()\n",
    "\n",
    "        #scheduler = CosineDecayRestarts(initial_learning_rate=1e-3, first_decay_steps=20, t_mul=1, alpha=1e-5)\n",
    "        #optimizer = Adam(learning_rate=scheduler)\n",
    "\n",
    "        model.compile(optimizer=\"adam\", loss=\"mae\")\n",
    "\n",
    "        lr = ReduceLROnPlateau(monitor=\"val_loss\", factor=0.85, \n",
    "                               patience=10, verbose=VERBOSE)\n",
    "\n",
    "        # save_locally = tf.saved_model.SaveOptions(experimental_io_device='/job:localhost')\n",
    "        chk_point = ModelCheckpoint(OUTPUT_DIR+f'./Bidirect_LSTM_model_2021_{fold+1}C.h5', #options=save_locally, \n",
    "                                    monitor='val_loss', verbose=VERBOSE, \n",
    "                                    save_best_only=True, mode='min')\n",
    "\n",
    "        es = EarlyStopping(monitor=\"val_loss\", patience=30, \n",
    "                           verbose=VERBOSE, mode=\"min\", \n",
    "                           restore_best_weights=True)\n",
    "\n",
    "        model.fit(X_train, y_train, \n",
    "                  validation_data=(X_valid, y_valid), \n",
    "                  epochs=500,\n",
    "                  verbose=VERBOSE,\n",
    "                  batch_size=BATCH_SIZE, \n",
    "                  callbacks=[lr, chk_point, es, WandbCallback()])\n",
    "\n",
    "        # load_locally = tf.saved_model.LoadOptions(experimental_io_device='/job:localhost')\n",
    "        model = load_model(OUTPUT_DIR+f'./Bidirect_LSTM_model_2021_{fold+1}C.h5') #options=load_locally\n",
    "\n",
    "        y_true = y_valid.squeeze().reshape(-1, 1)\n",
    "        y_pred = model.predict(X_valid, batch_size=BATCH_SIZE).squeeze().reshape(-1, 1)\n",
    "        score = mean_absolute_error(y_true, y_pred)\n",
    "        print(f\"Fold-{fold+1} | OOF Score: {score}\")\n",
    "        count += 1\n",
    "        all_score += score\n",
    "\n",
    "        test_preds.append(model.predict(test, batch_size=BATCH_SIZE).squeeze().reshape(-1, 1).squeeze())\n",
    "        \n",
    "        run.finish()\n",
    "        \n",
    "    print(f'CV Score: {all_score/count:<.4f}')"
   ]
  },
  {
   "cell_type": "markdown",
   "metadata": {
    "papermill": {
     "duration": 0.031714,
     "end_time": "2021-10-06T01:02:48.842336",
     "exception": false,
     "start_time": "2021-10-06T01:02:48.810622",
     "status": "completed"
    },
    "tags": []
   },
   "source": [
    "## Create submission file"
   ]
  },
  {
   "cell_type": "code",
   "execution_count": null,
   "metadata": {},
   "outputs": [],
   "source": [
    "train = pd.read_csv(DATA_DIR + 'train.csv')\n",
    "test = pd.read_csv(DATA_DIR + 'test.csv')\n",
    "sub = pd.read_csv(DATA_DIR + 'sample_submission.csv')\n",
    "\n",
    "unique_pressures = train[\"pressure\"].unique()\n",
    "sorted_pressures = np.sort(unique_pressures)\n",
    "total_pressures_len = len(sorted_pressures)\n",
    "\n",
    "def find_nearest(prediction):\n",
    "    '''\n",
    "    予測値は離散値であるため、学習データにある最も近い離散値に置き換える\n",
    "    '''\n",
    "    insert_idx = np.searchsorted(sorted_pressures, prediction)\n",
    "    if insert_idx == total_pressures_len:\n",
    "        # If the predicted value is bigger than the highest pressure in the train dataset,\n",
    "        # return the max value.\n",
    "        return sorted_pressures[-1]\n",
    "    elif insert_idx == 0:\n",
    "        # Same control but for the lower bound.\n",
    "        return sorted_pressures[0]\n",
    "    lower_val = sorted_pressures[insert_idx - 1]\n",
    "    upper_val = sorted_pressures[insert_idx]\n",
    "    return lower_val if abs(lower_val - prediction) < abs(upper_val - prediction) else upper_val"
   ]
  },
  {
   "cell_type": "code",
   "execution_count": null,
   "metadata": {
    "papermill": {
     "duration": 13.206498,
     "end_time": "2021-10-06T01:03:02.080076",
     "exception": false,
     "start_time": "2021-10-06T01:02:48.873578",
     "status": "completed"
    },
    "tags": []
   },
   "outputs": [],
   "source": [
    "submission = pd.read_csv('../input/ventilator-pressure-prediction/sample_submission.csv')\n",
    "submission[\"pressure\"] = sum(test_preds)/5\n",
    "submission.to_csv(OUTPUT_DIR+'mean_submission.csv', index=False)"
   ]
  },
  {
   "cell_type": "code",
   "execution_count": null,
   "metadata": {
    "papermill": {
     "duration": 0.030658,
     "end_time": "2021-10-06T01:03:02.1421",
     "exception": false,
     "start_time": "2021-10-06T01:03:02.111442",
     "status": "completed"
    },
    "tags": []
   },
   "outputs": [],
   "source": [
    "submission[\"pressure\"] = np.median(np.vstack(test_preds),axis=0)\n",
    "submission[\"pressure\"] = submission[\"pressure\"].apply(find_nearest)\n",
    "submission.to_csv(OUTPUT_DIR+'median_submission.csv', index=False)"
   ]
  },
  {
   "cell_type": "code",
   "execution_count": null,
   "metadata": {},
   "outputs": [],
   "source": []
  }
 ],
 "metadata": {
  "kernelspec": {
   "display_name": "Python 3",
   "language": "python",
   "name": "python3"
  },
  "language_info": {
   "codemirror_mode": {
    "name": "ipython",
    "version": 3
   },
   "file_extension": ".py",
   "mimetype": "text/x-python",
   "name": "python",
   "nbconvert_exporter": "python",
   "pygments_lexer": "ipython3",
   "version": "3.8.5"
  }
 },
 "nbformat": 4,
 "nbformat_minor": 4
}
