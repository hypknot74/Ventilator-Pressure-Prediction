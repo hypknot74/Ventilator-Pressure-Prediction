{
 "cells": [
  {
   "cell_type": "code",
   "execution_count": 80,
   "id": "ac89262e-51fc-4194-b9fa-9d478c2ab957",
   "metadata": {},
   "outputs": [],
   "source": [
    "import numpy as np # linear algebra\n",
    "import pandas as pd # data processing, CSV file I/O (e.g. pd.read_csv)\n",
    "import os\n",
    "import copy\n",
    "import glob\n",
    "import random\n",
    "from random import random as rd\n",
    "import gc\n",
    "from tqdm import tqdm\n",
    "import matplotlib.pyplot as plt\n",
    "import scipy.stats\n",
    "from sklearn import preprocessing"
   ]
  },
  {
   "cell_type": "code",
   "execution_count": 91,
   "id": "59347f69-f64b-4caa-97b1-e944f03dff12",
   "metadata": {},
   "outputs": [],
   "source": [
    "# 表示形式\n",
    "pd.options.display.float_format = '{:.5f}'.format\n",
    "np.set_printoptions(precision=5, floatmode='maxprec')\n",
    "np.set_printoptions(suppress=True)"
   ]
  },
  {
   "cell_type": "code",
   "execution_count": null,
   "id": "c28a9681-6e9c-4734-b53d-879b71b85be1",
   "metadata": {},
   "outputs": [],
   "source": [
    "df_train = pd.read_csv(\"../input/ventilator-pressure-prediction/train.csv\")\n",
    "unique_pressures = df_train[\"pressure\"].unique()\n",
    "sorted_pressures = np.sort(unique_pressures)\n",
    "total_pressures_len = len(sorted_pressures)"
   ]
  },
  {
   "cell_type": "code",
   "execution_count": 128,
   "id": "ffc8aafa-5c64-4681-9005-03ca4ac2eebd",
   "metadata": {},
   "outputs": [],
   "source": [
    "def show_hist(dir_path):\n",
    "    file_paths = glob.glob(f'{dir_path}/*')\n",
    "    file_paths.sort()    \n",
    "    pred = []\n",
    "    for path in tqdm(file_paths):\n",
    "        tmp_df = pd.read_csv(path)\n",
    "        pred.append(tmp_df['pressure'].values)\n",
    "        root, ext = os.path.splitext(path)\n",
    "        basename = os.path.basename(root)\n",
    "    pred = np.array(pred)\n",
    "    spread = pred.max(axis=0) - pred.min(axis=0) \n",
    "    norm_spread = scipy.stats.zscore(spread, ddof=1)\n",
    "    norm_spread += -norm_spread.min()\n",
    "    \n",
    "    plt.figure(figsize=(24,8))\n",
    "    \n",
    "    plt.subplot(1, 2, 1)\n",
    "    plt.hist(spread, label='spread', bins=100, alpha=0.3)\n",
    "    plt.hist(norm_spread, label='norm spread', bins=100, alpha=0.3)\n",
    "    plt.legend()\n",
    "    \n",
    "    plt.subplot(1, 2, 2)\n",
    "    plt.hist(spread, label='spread', bins=100, range=(0, 1.5), alpha=0.3)\n",
    "    plt.hist(norm_spread, label='norm spread', bins=100, range=(0, 1.5), alpha=0.3)\n",
    "    plt.legend()\n",
    "    \n",
    "    plt.show()"
   ]
  },
  {
   "cell_type": "code",
   "execution_count": 134,
   "id": "2b3c507f-1d71-4dc5-9b07-5065e7578167",
   "metadata": {},
   "outputs": [],
   "source": [
    "def find_nearest(prediction):\n",
    "    insert_idx = np.searchsorted(sorted_pressures, prediction)\n",
    "    if insert_idx == total_pressures_len:\n",
    "        return sorted_pressures[-1]\n",
    "    elif insert_idx == 0:\n",
    "        return sorted_pressures[0]\n",
    "    lower_val = sorted_pressures[insert_idx - 1]\n",
    "    upper_val = sorted_pressures[insert_idx]\n",
    "    return lower_val if abs(lower_val - prediction) < abs(upper_val - prediction) else upper_val\n",
    "\n",
    "\n",
    "def set_seed(seed = 42):\n",
    "    np.random.seed(seed)\n",
    "    random_state = np.random.RandomState(seed)\n",
    "    random.seed(seed)\n",
    "    os.environ['PYTHONHASHSEED'] = str(seed)\n",
    "    return random_state\n",
    "\n",
    "\n",
    "def better_than_median(inputs, axis, spread_lim):\n",
    "    \"\"\"Compute the mean of the predictions if there are no outliers,\n",
    "    or the median if there are outliers.\n",
    "    Parameter: inputs = ndarray of shape (n_samples, n_folds)\"\"\"\n",
    "    inputs = np.array(inputs)\n",
    "    spread = inputs.max(axis=axis) - inputs.min(axis=axis) \n",
    "    spread_lim = spread_lim\n",
    "    print(f\"Inliers:  {(spread < spread_lim).sum():7} -> compute mean\")\n",
    "    print(f\"Outliers: {(spread >= spread_lim).sum():7} -> compute median\")\n",
    "    print(f\"Total:    {len(inputs):7}\")\n",
    "    return np.where(spread < spread_lim,\n",
    "                    np.mean(inputs, axis=axis),\n",
    "                    np.median(inputs, axis=axis))\n",
    "\n",
    "\n",
    "def blend(dir_path, spread_lim=0.2):\n",
    "    file_paths = glob.glob(f'{dir_path}/*')\n",
    "    file_paths.sort()\n",
    "    for path in file_paths:\n",
    "        root, ext = os.path.splitext(path)\n",
    "        basename = os.path.basename(root)\n",
    "        print(basename)\n",
    "    sub_df = pd.read_csv('../input/ventilator-pressure-prediction/sample_submission.csv')\n",
    "    pred = []\n",
    "    for path in tqdm(file_paths):\n",
    "        tmp_df = pd.read_csv(path)\n",
    "        #np.append(pred, tmp_df['pressure'].values, axis=0)\n",
    "        pred.append(tmp_df['pressure'].values)\n",
    "        root, ext = os.path.splitext(path)\n",
    "        basename = os.path.basename(root)\n",
    "    pred = better_than_median(pred, axis=0, spread_lim=spread_lim)\n",
    "    sub_df['pressure'] = pred\n",
    "    sub_df[\"pressure\"] = sub_df[\"pressure\"].apply(find_nearest)\n",
    "    output_dir = './btm_submissions/'\n",
    "    os.makedirs(output_dir, exist_ok=True)\n",
    "    sub_df.to_csv(output_dir+f'btm_submission_{input_dir}_{spread_lim}.csv', index=False)"
   ]
  },
  {
   "cell_type": "code",
   "execution_count": 118,
   "id": "dca8a3ac-794b-4321-8a1a-258e406ad1d6",
   "metadata": {},
   "outputs": [],
   "source": [
    "# dir_path = f'./submissions/{input_dir}'\n",
    "# file_paths = glob.glob(f'{dir_path}/*')\n",
    "# file_paths.sort()    \n",
    "# pred = []\n",
    "# for path in tqdm(file_paths):\n",
    "#     tmp_df = pd.read_csv(path)\n",
    "#     pred.append(tmp_df['pressure'].values)\n",
    "#     root, ext = os.path.splitext(path)\n",
    "#     basename = os.path.basename(root)\n",
    "# pred = np.array(pred)\n",
    "# spread = pred.max(axis=0) - pred.min(axis=0) \n",
    "# norm_spread = scipy.stats.zscore(spread, ddof=1)\n",
    "# norm_spread += -norm_spread.min()"
   ]
  },
  {
   "cell_type": "code",
   "execution_count": 119,
   "id": "f0ea0296-1736-44dc-b64e-e5abd0e13a0a",
   "metadata": {},
   "outputs": [],
   "source": [
    "# for p in range(0, 101, 10):\n",
    "#     print(p, \"パーセンタイル・・・\", np.percentile(spread, p))"
   ]
  },
  {
   "cell_type": "code",
   "execution_count": 147,
   "id": "97a4515a-eaa2-4a29-ad7a-4eaf66ac7159",
   "metadata": {},
   "outputs": [],
   "source": [
    "input_dir='level5_1101_btm'"
   ]
  },
  {
   "cell_type": "code",
   "execution_count": 148,
   "id": "8b8cdb03-146e-4696-8dac-88596880afc1",
   "metadata": {},
   "outputs": [
    {
     "name": "stderr",
     "output_type": "stream",
     "text": [
      "100%|████████████████████████████████████████████████████████████████████████████████████████████████████████████████████████████████████████████████████████████████████████| 21/21 [00:16<00:00,  1.30it/s]\n"
     ]
    },
    {
     "data": {
      "image/png": "[encoded data removed]",
      "text/plain": [
       "<Figure size 1728x576 with 2 Axes>"
      ]
     },
     "metadata": {
      "needs_background": "light"
     },
     "output_type": "display_data"
    }
   ],
   "source": [
    "show_hist(f'./submissions/{input_dir}')"
   ]
  },
  {
   "cell_type": "code",
   "execution_count": 150,
   "id": "5ea96053-c02a-460b-bb0f-5c962da9cf65",
   "metadata": {},
   "outputs": [
    {
     "name": "stdout",
     "output_type": "stream",
     "text": [
      "0.1393_DNN-LSTM - (TPU)_median_submission\n",
      "0.139_Pulp _iction_median_submission\n",
      "0.140_Gaps_Features_submission\n",
      "0.1413_VPP- A Basic Ensembling Technique with RidgeCV_submission_pp\n",
      "0.1413_median_submission_1024_tf_ver1\n",
      "0.1430_median_submission_PF_ver1\n",
      "0.1437_median_submission_1025_tf_ver1_pca10_500ep\n",
      "0.1439_median_submission_1027_tf_ver1_pca10-ver2\n",
      "0.144_median_submission_GB_VPP_Whoppity_dub_dub\n",
      "0.1452_median_submission_1024_tf_ver2_batch256\n",
      "btm_submission_level1_1026_0.12\n",
      "btm_submission_level2_1031_0.1\n",
      "btm_submission_level3_1101_0.12\n",
      "btm_submission_level4_1101_0.12\n",
      "median_submission_1025_tf_ver1_pca5_500ep\n",
      "median_submission_1026_tf_ver1_CosineDecayRestarts_fds40_500ep\n",
      "median_submission_1026_tf_ver3\n",
      "median_submission_1027_tf_ver4\n",
      "median_submission_1027_tf_ver5\n",
      "median_submission_1031_tf_ver6\n",
      "median_submission_1031_tf_ver7\n"
     ]
    },
    {
     "name": "stderr",
     "output_type": "stream",
     "text": [
      "100%|████████████████████████████████████████████████████████████████████████████████████████████████████████████████████████████████████████████████████████████████████████| 21/21 [00:16<00:00,  1.30it/s]\n"
     ]
    },
    {
     "name": "stdout",
     "output_type": "stream",
     "text": [
      "Inliers:  1283553 -> compute mean\n",
      "Outliers: 2740447 -> compute median\n",
      "Total:         21\n"
     ]
    }
   ],
   "source": [
    "spread_lim = 0.3\n",
    "blend(f'./submissions/{input_dir}', spread_lim)"
   ]
  },
  {
   "cell_type": "code",
   "execution_count": null,
   "id": "d1f587b4-c81a-4a7d-8ec9-e923b751e464",
   "metadata": {},
   "outputs": [],
   "source": []
  }
 ],
 "metadata": {
  "kernelspec": {
   "display_name": "Python 3 (ipykernel)",
   "language": "python",
   "name": "python3"
  },
  "language_info": {
   "codemirror_mode": {
    "name": "ipython",
    "version": 3
   },
   "file_extension": ".py",
   "mimetype": "text/x-python",
   "name": "python",
   "nbconvert_exporter": "python",
   "pygments_lexer": "ipython3",
   "version": "3.8.3"
  }
 },
 "nbformat": 4,
 "nbformat_minor": 5
}
