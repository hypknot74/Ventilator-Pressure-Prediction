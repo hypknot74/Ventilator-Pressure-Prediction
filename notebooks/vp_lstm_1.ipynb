{
 "cells": [
  {
   "cell_type": "markdown",
   "metadata": {},
   "source": [
    "# About this notebook  \n",
    "- PyTorch RNN starter code with W&B  \n",
    "- Pytorch W&B Usage Examples from https://docs.wandb.ai/guides/integrations/pytorch  \n",
    "\n",
    "If this notebook is helpful, feel free to upvote :)"
   ]
  },
  {
   "cell_type": "markdown",
   "metadata": {},
   "source": [
    "![](https://raw.githubusercontent.com/google/deluca-lung/main/assets/2020-10-02%20Ventilator%20diagram.svg)"
   ]
  },
  {
   "cell_type": "code",
   "execution_count": 1,
   "metadata": {},
   "outputs": [],
   "source": [
    "# for local\n",
    "import os\n",
    "os.environ[\"CUDA_VISIBLE_DEVICES\"]=\"1\""
   ]
  },
  {
   "cell_type": "code",
   "execution_count": 2,
   "metadata": {
    "tags": []
   },
   "outputs": [],
   "source": [
    "# ====================================================\n",
    "# Directory settings\n",
    "# ====================================================\n",
    "import os\n",
    "\n",
    "EXP_NAME='1005_1024_512'\n",
    "\n",
    "OUTPUT_DIR = f'./results/{EXP_NAME}/'\n",
    "if not os.path.exists(OUTPUT_DIR):\n",
    "    os.makedirs(OUTPUT_DIR)"
   ]
  },
  {
   "cell_type": "code",
   "execution_count": 3,
   "metadata": {
    "tags": []
   },
   "outputs": [],
   "source": [
    "# ====================================================\n",
    "# CFG\n",
    "# ====================================================\n",
    "class CFG:\n",
    "    experiment_name=EXP_NAME\n",
    "    competition='ventilator'\n",
    "    _wandb_kernel='hypknot'\n",
    "    apex=False\n",
    "    print_freq=20\n",
    "    num_workers=4\n",
    "    model_name='rnn'\n",
    "    scheduler='CosineAnnealingLR' # ['linear', 'cosine', 'ReduceLROnPlateau', 'CosineAnnealingLR', 'CosineAnnealingWarmRestarts']\n",
    "    batch_scheduler=False\n",
    "    #num_warmup_steps=100 # ['linear', 'cosine']\n",
    "    #num_cycles=0.5 # 'cosine'\n",
    "    #factor=0.2 # ReduceLROnPlateau\n",
    "    #patience=4 # ReduceLROnPlateau\n",
    "    #eps=1e-6 # ReduceLROnPlateau\n",
    "    T_max=50 # CosineAnnealingLR\n",
    "    #T_0=50 # CosineAnnealingWarmRestarts\n",
    "    epochs=30\n",
    "    max_grad_norm=1000\n",
    "    gradient_accumulation_steps=1\n",
    "    hidden_size=1024\n",
    "    hidden2_size=512\n",
    "    lr=5e-3\n",
    "    min_lr=1e-6\n",
    "    weight_decay=1e-6\n",
    "    batch_size=1024\n",
    "    n_fold=5\n",
    "    trn_fold=[0, 1, 2, 3, 4]\n",
    "    cate_seq_cols=['R', 'C']\n",
    "    cont_seq_cols=['time_step', 'u_in', 'u_out'] \\\n",
    "            + ['area', 'u_in_cumsum', 'u_in_lag1', 'u_in_lag2', 'u_in_lag3', 'u_in_lag4',\n",
    "               'u_out_lag1', 'u_out_lag2', 'u_out_lag3', 'u_out_lag4',\n",
    "               'u_in_lag_back1', 'u_in_lag_back2', 'u_in_lag_back3', 'u_in_lag_back4',\n",
    "               'u_out_lag_back1', 'u_out_lag_back2', 'u_out_lag_back3', 'u_out_lag_back4',\n",
    "               'breath_id__u_in__max', 'breath_id__u_out__max',\n",
    "               'u_in_diff1', 'u_in_diff2', 'u_out_diff1', 'u_out_diff2',\n",
    "               'breath_id__u_in__diffmax', 'breath_id__u_in__diffmean',\n",
    "               'u_in_diff3', 'u_in_diff4', 'u_out_diff3', 'u_out_diff4', 'cross', 'cross2']\n",
    "    train=True\n",
    "    inference=True"
   ]
  },
  {
   "cell_type": "code",
   "execution_count": 4,
   "metadata": {
    "tags": []
   },
   "outputs": [],
   "source": [
    "# ====================================================\n",
    "# Library\n",
    "# ====================================================\n",
    "import os\n",
    "import gc\n",
    "import sys\n",
    "import json\n",
    "import time\n",
    "import math\n",
    "import random\n",
    "from datetime import datetime\n",
    "from collections import Counter, defaultdict\n",
    "\n",
    "import scipy as sp\n",
    "import numpy as np\n",
    "import pandas as pd\n",
    "pd.set_option('display.max_rows', 500)\n",
    "pd.set_option('display.max_columns', 500)\n",
    "pd.set_option('display.width', 1000)\n",
    "\n",
    "from tqdm.auto import tqdm\n",
    "import category_encoders as ce\n",
    "\n",
    "from sklearn import preprocessing\n",
    "from sklearn.metrics import mean_absolute_error\n",
    "from sklearn.model_selection import StratifiedKFold, GroupKFold, KFold\n",
    "\n",
    "import torch\n",
    "import torch.nn as nn\n",
    "import torch.optim as optim\n",
    "import torch.nn.init as init\n",
    "import torch.nn.functional as F\n",
    "from torch.utils.data import DataLoader, Dataset\n",
    "from torch.optim.lr_scheduler import CosineAnnealingWarmRestarts, CosineAnnealingLR, ReduceLROnPlateau\n",
    "\n",
    "from transformers import AdamW\n",
    "from transformers import get_linear_schedule_with_warmup, get_cosine_schedule_with_warmup\n",
    "\n",
    "import warnings\n",
    "warnings.filterwarnings(\"ignore\")\n",
    "\n",
    "if CFG.apex:\n",
    "    from apex import amp\n",
    "\n",
    "device = torch.device('cuda' if torch.cuda.is_available() else 'cpu')"
   ]
  },
  {
   "cell_type": "code",
   "execution_count": 5,
   "metadata": {},
   "outputs": [
    {
     "name": "stderr",
     "output_type": "stream",
     "text": [
      "\u001b[34m\u001b[1mwandb\u001b[0m: Currently logged in as: \u001b[33mhypknot\u001b[0m (use `wandb login --relogin` to force relogin)\n",
      "\n",
      "CondaEnvException: Unable to determine environment\n",
      "\n",
      "Please re-run this command with one of the following options:\n",
      "\n",
      "* Provide an environment name via --name or -n\n",
      "* Re-run this command inside an activated conda environment.\n",
      "\n"
     ]
    },
    {
     "data": {
      "text/html": [
       "\n",
       "                    Syncing run <strong><a href=\"https://wandb.ai/hypknot/Ventilator-Pressure-Public/runs/lu9ayi1w\" target=\"_blank\">pleasant-night-11</a></strong> to <a href=\"https://wandb.ai/hypknot/Ventilator-Pressure-Public\" target=\"_blank\">Weights & Biases</a> (<a href=\"https://docs.wandb.com/integrations/jupyter.html\" target=\"_blank\">docs</a>).<br/>\n",
       "\n",
       "                "
      ],
      "text/plain": [
       "<IPython.core.display.HTML object>"
      ]
     },
     "metadata": {},
     "output_type": "display_data"
    }
   ],
   "source": [
    "# ====================================================\n",
    "# wandb\n",
    "# ====================================================\n",
    "import wandb\n",
    "\n",
    "# try:\n",
    "#     from kaggle_secrets import UserSecretsClient\n",
    "#     user_secrets = UserSecretsClient()\n",
    "#     secret_value_0 = user_secrets.get_secret(\"wandb_api\")\n",
    "#     wandb.login(key=secret_value_0)\n",
    "#     anony = None\n",
    "# except:\n",
    "#     anony = \"must\"\n",
    "#     print('If you want to use your W&B account, go to Add-ons -> Secrets and provide your W&B access token. Use the Label name as wandb_api. \\nGet your W&B access token from here: https://wandb.ai/authorize')\n",
    "\n",
    "anony=None # not for kaggle kernel\n",
    "    \n",
    "def class2dict(f):\n",
    "    return dict((name, getattr(f, name)) for name in dir(f) if not name.startswith('__'))\n",
    "\n",
    "run = wandb.init(project=\"Ventilator-Pressure-Public\", \n",
    "                 # name=CFG.model_name,\n",
    "                 config=class2dict(CFG),\n",
    "                 group=CFG.model_name,\n",
    "                 job_type=\"train\",\n",
    "                 anonymous=anony)"
   ]
  },
  {
   "cell_type": "code",
   "execution_count": 6,
   "metadata": {},
   "outputs": [],
   "source": [
    "# ====================================================\n",
    "# Utils\n",
    "# ====================================================\n",
    "def get_score(y_trues, y_preds):\n",
    "    score = mean_absolute_error(y_trues, y_preds)\n",
    "    return score\n",
    "\n",
    "\n",
    "def init_logger(log_file=OUTPUT_DIR+'train.log'):\n",
    "    from logging import getLogger, INFO, FileHandler,  Formatter,  StreamHandler\n",
    "    logger = getLogger(__name__)\n",
    "    logger.setLevel(INFO)\n",
    "    handler1 = StreamHandler()\n",
    "    handler1.setFormatter(Formatter(\"%(message)s\"))\n",
    "    handler2 = FileHandler(filename=log_file)\n",
    "    handler2.setFormatter(Formatter(\"%(message)s\"))\n",
    "    logger.addHandler(handler1)\n",
    "    logger.addHandler(handler2)\n",
    "    return logger\n",
    "\n",
    "LOGGER = init_logger()\n",
    "\n",
    "\n",
    "def seed_everything(seed=42):\n",
    "    random.seed(seed)\n",
    "    os.environ['PYTHONHASHSEED'] = str(seed)\n",
    "    np.random.seed(seed)\n",
    "    torch.manual_seed(seed)\n",
    "    torch.cuda.manual_seed(seed)\n",
    "    torch.backends.cudnn.deterministic = True\n",
    "    \n",
    "seed_everything()"
   ]
  },
  {
   "cell_type": "code",
   "execution_count": 7,
   "metadata": {},
   "outputs": [
    {
     "data": {
      "text/html": [
       "<div>\n",
       "<style scoped>\n",
       "    .dataframe tbody tr th:only-of-type {\n",
       "        vertical-align: middle;\n",
       "    }\n",
       "\n",
       "    .dataframe tbody tr th {\n",
       "        vertical-align: top;\n",
       "    }\n",
       "\n",
       "    .dataframe thead th {\n",
       "        text-align: right;\n",
       "    }\n",
       "</style>\n",
       "<table border=\"1\" class=\"dataframe\">\n",
       "  <thead>\n",
       "    <tr style=\"text-align: right;\">\n",
       "      <th></th>\n",
       "      <th>id</th>\n",
       "      <th>breath_id</th>\n",
       "      <th>R</th>\n",
       "      <th>C</th>\n",
       "      <th>time_step</th>\n",
       "      <th>u_in</th>\n",
       "      <th>u_out</th>\n",
       "      <th>pressure</th>\n",
       "    </tr>\n",
       "  </thead>\n",
       "  <tbody>\n",
       "    <tr>\n",
       "      <th>0</th>\n",
       "      <td>1</td>\n",
       "      <td>1</td>\n",
       "      <td>1</td>\n",
       "      <td>2</td>\n",
       "      <td>0.000000</td>\n",
       "      <td>0.080043</td>\n",
       "      <td>0</td>\n",
       "      <td>5.837492</td>\n",
       "    </tr>\n",
       "    <tr>\n",
       "      <th>1</th>\n",
       "      <td>2</td>\n",
       "      <td>1</td>\n",
       "      <td>1</td>\n",
       "      <td>2</td>\n",
       "      <td>0.033652</td>\n",
       "      <td>2.964399</td>\n",
       "      <td>0</td>\n",
       "      <td>5.907794</td>\n",
       "    </tr>\n",
       "    <tr>\n",
       "      <th>2</th>\n",
       "      <td>3</td>\n",
       "      <td>1</td>\n",
       "      <td>1</td>\n",
       "      <td>2</td>\n",
       "      <td>0.067514</td>\n",
       "      <td>3.157395</td>\n",
       "      <td>0</td>\n",
       "      <td>7.876254</td>\n",
       "    </tr>\n",
       "    <tr>\n",
       "      <th>3</th>\n",
       "      <td>4</td>\n",
       "      <td>1</td>\n",
       "      <td>1</td>\n",
       "      <td>2</td>\n",
       "      <td>0.101542</td>\n",
       "      <td>3.170056</td>\n",
       "      <td>0</td>\n",
       "      <td>11.742872</td>\n",
       "    </tr>\n",
       "    <tr>\n",
       "      <th>4</th>\n",
       "      <td>5</td>\n",
       "      <td>1</td>\n",
       "      <td>1</td>\n",
       "      <td>2</td>\n",
       "      <td>0.135756</td>\n",
       "      <td>3.271690</td>\n",
       "      <td>0</td>\n",
       "      <td>12.234987</td>\n",
       "    </tr>\n",
       "  </tbody>\n",
       "</table>\n",
       "</div>"
      ],
      "text/plain": [
       "   id  breath_id  R  C  time_step      u_in  u_out   pressure\n",
       "0   1          1  1  2   0.000000  0.080043      0   5.837492\n",
       "1   2          1  1  2   0.033652  2.964399      0   5.907794\n",
       "2   3          1  1  2   0.067514  3.157395      0   7.876254\n",
       "3   4          1  1  2   0.101542  3.170056      0  11.742872\n",
       "4   5          1  1  2   0.135756  3.271690      0  12.234987"
      ]
     },
     "metadata": {},
     "output_type": "display_data"
    },
    {
     "data": {
      "text/html": [
       "<div>\n",
       "<style scoped>\n",
       "    .dataframe tbody tr th:only-of-type {\n",
       "        vertical-align: middle;\n",
       "    }\n",
       "\n",
       "    .dataframe tbody tr th {\n",
       "        vertical-align: top;\n",
       "    }\n",
       "\n",
       "    .dataframe thead th {\n",
       "        text-align: right;\n",
       "    }\n",
       "</style>\n",
       "<table border=\"1\" class=\"dataframe\">\n",
       "  <thead>\n",
       "    <tr style=\"text-align: right;\">\n",
       "      <th></th>\n",
       "      <th>id</th>\n",
       "      <th>breath_id</th>\n",
       "      <th>R</th>\n",
       "      <th>C</th>\n",
       "      <th>time_step</th>\n",
       "      <th>u_in</th>\n",
       "      <th>u_out</th>\n",
       "    </tr>\n",
       "  </thead>\n",
       "  <tbody>\n",
       "    <tr>\n",
       "      <th>0</th>\n",
       "      <td>1</td>\n",
       "      <td>0</td>\n",
       "      <td>0</td>\n",
       "      <td>1</td>\n",
       "      <td>0.000000</td>\n",
       "      <td>0.000000</td>\n",
       "      <td>0</td>\n",
       "    </tr>\n",
       "    <tr>\n",
       "      <th>1</th>\n",
       "      <td>2</td>\n",
       "      <td>0</td>\n",
       "      <td>0</td>\n",
       "      <td>1</td>\n",
       "      <td>0.031904</td>\n",
       "      <td>2.141835</td>\n",
       "      <td>0</td>\n",
       "    </tr>\n",
       "    <tr>\n",
       "      <th>2</th>\n",
       "      <td>3</td>\n",
       "      <td>0</td>\n",
       "      <td>0</td>\n",
       "      <td>1</td>\n",
       "      <td>0.063827</td>\n",
       "      <td>2.750578</td>\n",
       "      <td>0</td>\n",
       "    </tr>\n",
       "    <tr>\n",
       "      <th>3</th>\n",
       "      <td>4</td>\n",
       "      <td>0</td>\n",
       "      <td>0</td>\n",
       "      <td>1</td>\n",
       "      <td>0.095751</td>\n",
       "      <td>3.101470</td>\n",
       "      <td>0</td>\n",
       "    </tr>\n",
       "    <tr>\n",
       "      <th>4</th>\n",
       "      <td>5</td>\n",
       "      <td>0</td>\n",
       "      <td>0</td>\n",
       "      <td>1</td>\n",
       "      <td>0.127644</td>\n",
       "      <td>3.307654</td>\n",
       "      <td>0</td>\n",
       "    </tr>\n",
       "  </tbody>\n",
       "</table>\n",
       "</div>"
      ],
      "text/plain": [
       "   id  breath_id  R  C  time_step      u_in  u_out\n",
       "0   1          0  0  1   0.000000  0.000000      0\n",
       "1   2          0  0  1   0.031904  2.141835      0\n",
       "2   3          0  0  1   0.063827  2.750578      0\n",
       "3   4          0  0  1   0.095751  3.101470      0\n",
       "4   5          0  0  1   0.127644  3.307654      0"
      ]
     },
     "metadata": {},
     "output_type": "display_data"
    },
    {
     "data": {
      "text/html": [
       "<div>\n",
       "<style scoped>\n",
       "    .dataframe tbody tr th:only-of-type {\n",
       "        vertical-align: middle;\n",
       "    }\n",
       "\n",
       "    .dataframe tbody tr th {\n",
       "        vertical-align: top;\n",
       "    }\n",
       "\n",
       "    .dataframe thead th {\n",
       "        text-align: right;\n",
       "    }\n",
       "</style>\n",
       "<table border=\"1\" class=\"dataframe\">\n",
       "  <thead>\n",
       "    <tr style=\"text-align: right;\">\n",
       "      <th></th>\n",
       "      <th>id</th>\n",
       "      <th>pressure</th>\n",
       "    </tr>\n",
       "  </thead>\n",
       "  <tbody>\n",
       "    <tr>\n",
       "      <th>0</th>\n",
       "      <td>1</td>\n",
       "      <td>0</td>\n",
       "    </tr>\n",
       "    <tr>\n",
       "      <th>1</th>\n",
       "      <td>2</td>\n",
       "      <td>0</td>\n",
       "    </tr>\n",
       "    <tr>\n",
       "      <th>2</th>\n",
       "      <td>3</td>\n",
       "      <td>0</td>\n",
       "    </tr>\n",
       "    <tr>\n",
       "      <th>3</th>\n",
       "      <td>4</td>\n",
       "      <td>0</td>\n",
       "    </tr>\n",
       "    <tr>\n",
       "      <th>4</th>\n",
       "      <td>5</td>\n",
       "      <td>0</td>\n",
       "    </tr>\n",
       "  </tbody>\n",
       "</table>\n",
       "</div>"
      ],
      "text/plain": [
       "   id  pressure\n",
       "0   1         0\n",
       "1   2         0\n",
       "2   3         0\n",
       "3   4         0\n",
       "4   5         0"
      ]
     },
     "metadata": {},
     "output_type": "display_data"
    }
   ],
   "source": [
    "# ====================================================\n",
    "# Data Loading\n",
    "# ====================================================\n",
    "train = pd.read_csv('../input/ventilator-pressure-prediction/train.csv')\n",
    "test = pd.read_csv('../input/ventilator-pressure-prediction/test.csv')\n",
    "sub = pd.read_csv('../input/ventilator-pressure-prediction/sample_submission.csv')\n",
    "\n",
    "for c in ['u_in']:\n",
    "    train[c] = np.log1p(train[c])\n",
    "    test[c] = np.log1p(test[c])\n",
    "    \n",
    "r_map = {5: 0, 20: 1, 50: 2}\n",
    "c_map = {10: 0, 20: 1, 50: 2}\n",
    "train['R'] = train['R'].map(r_map)\n",
    "test['R'] = test['R'].map(r_map)\n",
    "train['C'] = train['C'].map(c_map)\n",
    "test['C'] = test['C'].map(c_map)\n",
    "\n",
    "display(train.head())\n",
    "display(test.head())\n",
    "display(sub.head())"
   ]
  },
  {
   "cell_type": "code",
   "execution_count": 8,
   "metadata": {},
   "outputs": [],
   "source": [
    "# ====================================================\n",
    "# FE\n",
    "# ====================================================\n",
    "def add_feature(df):\n",
    "#     # breath_time\n",
    "#     df['breath_time'] = df['time_step'] - df['time_step'].shift(1)\n",
    "#     df.loc[df['time_step'] == 0, 'breath_time'] = 0\n",
    "#     # u_in_time\n",
    "#     df['u_in_time'] = df['u_in'] - df['u_in'].shift(1)\n",
    "#     df.loc[df['time_step'] == 0, 'u_in_time'] = 0\n",
    "    df['area'] = df['time_step'] * df['u_in']\n",
    "    df['area'] = df.groupby('breath_id')['area'].cumsum()\n",
    "\n",
    "    df['u_in_cumsum'] = (df['u_in']).groupby(df['breath_id']).cumsum()\n",
    "\n",
    "    df['u_in_lag1'] = df.groupby('breath_id')['u_in'].shift(1)\n",
    "    df['u_out_lag1'] = df.groupby('breath_id')['u_out'].shift(1)\n",
    "    df['u_in_lag_back1'] = df.groupby('breath_id')['u_in'].shift(-1)\n",
    "    df['u_out_lag_back1'] = df.groupby('breath_id')['u_out'].shift(-1)\n",
    "    df['u_in_lag2'] = df.groupby('breath_id')['u_in'].shift(2)\n",
    "    df['u_out_lag2'] = df.groupby('breath_id')['u_out'].shift(2)\n",
    "    df['u_in_lag_back2'] = df.groupby('breath_id')['u_in'].shift(-2)\n",
    "    df['u_out_lag_back2'] = df.groupby('breath_id')['u_out'].shift(-2)\n",
    "    df['u_in_lag3'] = df.groupby('breath_id')['u_in'].shift(3)\n",
    "    df['u_out_lag3'] = df.groupby('breath_id')['u_out'].shift(3)\n",
    "    df['u_in_lag_back3'] = df.groupby('breath_id')['u_in'].shift(-3)\n",
    "    df['u_out_lag_back3'] = df.groupby('breath_id')['u_out'].shift(-3)\n",
    "    df['u_in_lag4'] = df.groupby('breath_id')['u_in'].shift(4)\n",
    "    df['u_out_lag4'] = df.groupby('breath_id')['u_out'].shift(4)\n",
    "    df['u_in_lag_back4'] = df.groupby('breath_id')['u_in'].shift(-4)\n",
    "    df['u_out_lag_back4'] = df.groupby('breath_id')['u_out'].shift(-4)\n",
    "    df = df.fillna(0)\n",
    "\n",
    "    df['breath_id__u_in__max'] = df.groupby(['breath_id'])['u_in'].transform('max')\n",
    "    df['breath_id__u_out__max'] = df.groupby(['breath_id'])['u_out'].transform('max')\n",
    "\n",
    "    df['u_in_diff1'] = df['u_in'] - df['u_in_lag1']\n",
    "    df['u_out_diff1'] = df['u_out'] - df['u_out_lag1']\n",
    "    df['u_in_diff2'] = df['u_in'] - df['u_in_lag2']\n",
    "    df['u_out_diff2'] = df['u_out'] - df['u_out_lag2']\n",
    "\n",
    "    df['breath_id__u_in__diffmax'] = df.groupby(['breath_id'])['u_in'].transform('max') - df['u_in']\n",
    "    df['breath_id__u_in__diffmean'] = df.groupby(['breath_id'])['u_in'].transform('mean') - df['u_in']\n",
    "\n",
    "    df['u_in_diff3'] = df['u_in'] - df['u_in_lag3']\n",
    "    df['u_out_diff3'] = df['u_out'] - df['u_out_lag3']\n",
    "    df['u_in_diff4'] = df['u_in'] - df['u_in_lag4']\n",
    "    df['u_out_diff4'] = df['u_out'] - df['u_out_lag4']\n",
    "    df['cross']= df['u_in']*df['u_out']\n",
    "    df['cross2']= df['time_step']*df['u_out']\n",
    "    return df\n",
    "\n",
    "\n",
    "train = add_feature(train)\n",
    "test = add_feature(test)"
   ]
  },
  {
   "cell_type": "code",
   "execution_count": 9,
   "metadata": {},
   "outputs": [
    {
     "name": "stdout",
     "output_type": "stream",
     "text": [
      "fold\n",
      "0    1207200\n",
      "1    1207200\n",
      "2    1207200\n",
      "3    1207200\n",
      "4    1207200\n",
      "dtype: int64\n"
     ]
    }
   ],
   "source": [
    "# ====================================================\n",
    "# CV split\n",
    "# ====================================================\n",
    "Fold = GroupKFold(n_splits=5)\n",
    "groups = train['breath_id'].values\n",
    "for n, (train_index, val_index) in enumerate(Fold.split(train, train['pressure'], groups)):\n",
    "    train.loc[val_index, 'fold'] = int(n)\n",
    "train['fold'] = train['fold'].astype(int)\n",
    "print(train.groupby('fold').size())"
   ]
  },
  {
   "cell_type": "code",
   "execution_count": 10,
   "metadata": {},
   "outputs": [],
   "source": [
    "# ====================================================\n",
    "# Dataset\n",
    "# ====================================================\n",
    "class TrainDataset(Dataset):\n",
    "    def __init__(self, df):\n",
    "        self.df = df\n",
    "        self.groups = df.groupby('breath_id').groups\n",
    "        self.keys = list(self.groups.keys())\n",
    "        \n",
    "    def __len__(self):\n",
    "        return len(self.groups)\n",
    "\n",
    "    def __getitem__(self, idx):\n",
    "        indexes = self.groups[self.keys[idx]]\n",
    "        df = self.df.iloc[indexes]\n",
    "        cate_seq_x = torch.LongTensor(df[CFG.cate_seq_cols].values)\n",
    "        cont_seq_x = torch.FloatTensor(df[CFG.cont_seq_cols].values)\n",
    "        u_out = torch.LongTensor(df['u_out'].values)\n",
    "        label = torch.FloatTensor(df['pressure'].values)\n",
    "        return cate_seq_x, cont_seq_x, u_out, label\n",
    "    \n",
    "\n",
    "class TestDataset(Dataset):\n",
    "    def __init__(self, df):\n",
    "        self.df = df\n",
    "        self.groups = df.groupby('breath_id').groups\n",
    "        self.keys = list(self.groups.keys())\n",
    "        \n",
    "    def __len__(self):\n",
    "        return len(self.groups)\n",
    "\n",
    "    def __getitem__(self, idx):\n",
    "        indexes = self.groups[self.keys[idx]]\n",
    "        df = self.df.iloc[indexes]\n",
    "        cate_seq_x = torch.LongTensor(df[CFG.cate_seq_cols].values)\n",
    "        cont_seq_x = torch.FloatTensor(df[CFG.cont_seq_cols].values)\n",
    "        return cate_seq_x, cont_seq_x"
   ]
  },
  {
   "cell_type": "code",
   "execution_count": 11,
   "metadata": {},
   "outputs": [],
   "source": [
    "# ====================================================\n",
    "# Model\n",
    "# ====================================================\n",
    "class CustomModel(nn.Module):\n",
    "    def __init__(self, cfg):\n",
    "        super().__init__()\n",
    "        self.cfg = cfg\n",
    "        self.hidden_size = cfg.hidden_size\n",
    "        self.hidden2_size = cfg.hidden2_size\n",
    "        self.r_emb = nn.Embedding(3, 2, padding_idx=0)\n",
    "        self.c_emb = nn.Embedding(3, 2, padding_idx=0)\n",
    "        self.seq_emb = nn.Sequential(\n",
    "            nn.Linear(4 + len(cfg.cont_seq_cols), self.hidden_size),\n",
    "            nn.LayerNorm(self.hidden_size),\n",
    "            nn.ReLU(),\n",
    "            nn.Dropout(0.2),\n",
    "        )\n",
    "        self.lstm1 = nn.LSTM(self.hidden_size, self.hidden_size, dropout=0.2, batch_first=True, bidirectional=True)\n",
    "        self.lstm2 = nn.LSTM(self.hidden_size*2, self.hidden2_size, dropout=0.2, batch_first=True, bidirectional=True)\n",
    "        self.head = nn.Sequential(\n",
    "            nn.Linear(self.hidden2_size * 2, self.hidden2_size * 2),\n",
    "            nn.LayerNorm(self.hidden2_size * 2),\n",
    "            nn.ReLU(),\n",
    "            nn.Dropout(0.),\n",
    "            nn.Linear(self.hidden2_size * 2, 1),\n",
    "        )\n",
    "        for n, m in self.named_modules():\n",
    "            if isinstance(m, nn.LSTM):\n",
    "                print(f'init {m}')\n",
    "                for param in m.parameters():\n",
    "                    if len(param.shape) >= 2:\n",
    "                        nn.init.orthogonal_(param.data)\n",
    "                    else:\n",
    "                        nn.init.normal_(param.data)\n",
    "            elif isinstance(m, nn.GRU):\n",
    "                print(f\"init {m}\")\n",
    "                for param in m.parameters():\n",
    "                    if len(param.shape) >= 2:\n",
    "                        init.orthogonal_(param.data)\n",
    "                    else:\n",
    "                        init.normal_(param.data)\n",
    "\n",
    "    def forward(self, cate_seq_x, cont_seq_x):\n",
    "        bs = cont_seq_x.size(0)\n",
    "        r_emb = self.r_emb(cate_seq_x[:,:,0]).view(bs, 80, -1)\n",
    "        c_emb = self.c_emb(cate_seq_x[:,:,1]).view(bs, 80, -1)\n",
    "        seq_x = torch.cat((r_emb, c_emb, cont_seq_x), 2)\n",
    "        seq_emb = self.seq_emb(seq_x)\n",
    "        lstm_emb, _ = self.lstm1(seq_emb)\n",
    "        lstm_emb, _ = self.lstm2(lstm_emb)\n",
    "        output = self.head(lstm_emb).view(bs, -1)\n",
    "        return output"
   ]
  },
  {
   "cell_type": "code",
   "execution_count": 12,
   "metadata": {},
   "outputs": [],
   "source": [
    "# ====================================================\n",
    "# helper function\n",
    "# ====================================================\n",
    "class AverageMeter(object):\n",
    "    \"\"\"Computes and stores the average and current value\"\"\"\n",
    "    def __init__(self):\n",
    "        self.reset()\n",
    "\n",
    "    def reset(self):\n",
    "        self.val = 0\n",
    "        self.avg = 0\n",
    "        self.sum = 0\n",
    "        self.count = 0\n",
    "\n",
    "    def update(self, val, n=1):\n",
    "        self.val = val\n",
    "        self.sum += val * n\n",
    "        self.count += n\n",
    "        self.avg = self.sum / self.count\n",
    "\n",
    "\n",
    "def asMinutes(s):\n",
    "    m = math.floor(s / 60)\n",
    "    s -= m * 60\n",
    "    return '%dm %ds' % (m, s)\n",
    "\n",
    "\n",
    "def timeSince(since, percent):\n",
    "    now = time.time()\n",
    "    s = now - since\n",
    "    es = s / (percent)\n",
    "    rs = es - s\n",
    "    return '%s (remain %s)' % (asMinutes(s), asMinutes(rs))\n",
    "\n",
    "\n",
    "def train_fn(fold, train_loader, model, criterion, optimizer, epoch, scheduler, device):\n",
    "    model.train()\n",
    "    losses = AverageMeter()\n",
    "    start = end = time.time()\n",
    "    for step, (cate_seq_x, cont_seq_x, u_out, y) in enumerate(train_loader):\n",
    "        loss_mask = u_out == 0\n",
    "        cate_seq_x, cont_seq_x, y = cate_seq_x.to(device), cont_seq_x.to(device), y.to(device)\n",
    "        batch_size = cont_seq_x.size(0)\n",
    "        pred = model(cate_seq_x, cont_seq_x)\n",
    "        loss = 2. * criterion(pred[loss_mask], y[loss_mask]) + criterion(pred[loss_mask == 0], y[loss_mask == 0])\n",
    "        losses.update(loss.item(), batch_size)\n",
    "        if CFG.gradient_accumulation_steps > 1:\n",
    "            loss = loss / CFG.gradient_accumulation_steps\n",
    "        if CFG.apex:\n",
    "            with amp.scale_loss(loss, optimizer) as scaled_loss:\n",
    "                scaled_loss.backward()\n",
    "        else:\n",
    "            loss.backward()\n",
    "        grad_norm = torch.nn.utils.clip_grad_norm_(model.parameters(), CFG.max_grad_norm)\n",
    "        if (step + 1) % CFG.gradient_accumulation_steps == 0:\n",
    "            optimizer.step()\n",
    "            optimizer.zero_grad()\n",
    "            if CFG.batch_scheduler:\n",
    "                scheduler.step()\n",
    "        end = time.time()\n",
    "        if step % CFG.print_freq == 0 or step == (len(train_loader)-1):\n",
    "            print('Epoch: [{0}][{1}/{2}] '\n",
    "                  'Elapsed {remain:s} '\n",
    "                  'Loss: {loss.val:.4f}({loss.avg:.4f}) '\n",
    "                  'Grad: {grad_norm:.4f}  '\n",
    "                  'LR: {lr:.6f}  '\n",
    "                  .format(\n",
    "                   epoch+1, step, len(train_loader),\n",
    "                   remain=timeSince(start, float(step+1)/len(train_loader)),\n",
    "                   loss=losses,\n",
    "                   grad_norm=grad_norm,\n",
    "                   lr=scheduler.get_lr()[0],\n",
    "                   ))\n",
    "        wandb.log({f\"[fold{fold}] loss\": losses.val,\n",
    "                   f\"[fold{fold}] lr\": scheduler.get_lr()[0]})\n",
    "    return losses.avg\n",
    "\n",
    "\n",
    "def valid_fn(valid_loader, model, criterion, device):\n",
    "    model.eval()\n",
    "    preds = []\n",
    "    losses = AverageMeter()\n",
    "    start = end = time.time()\n",
    "    for step, (cate_seq_x, cont_seq_x, u_out, y) in enumerate(valid_loader):\n",
    "        loss_mask = u_out == 0\n",
    "        cate_seq_x, cont_seq_x, y = cate_seq_x.to(device), cont_seq_x.to(device), y.to(device)\n",
    "        batch_size = cont_seq_x.size(0)\n",
    "        with torch.no_grad():\n",
    "            pred = model(cate_seq_x, cont_seq_x)\n",
    "        loss = 2. * criterion(pred[loss_mask], y[loss_mask]) + criterion(pred[loss_mask == 0], y[loss_mask == 0])\n",
    "        losses.update(loss.item(), batch_size)\n",
    "        preds.append(pred.view(-1).detach().cpu().numpy())\n",
    "        if CFG.gradient_accumulation_steps > 1:\n",
    "            loss = loss / CFG.gradient_accumulation_steps\n",
    "        end = time.time()\n",
    "        if step % CFG.print_freq == 0 or step == (len(valid_loader)-1):\n",
    "            print('EVAL: [{0}/{1}] '\n",
    "                  'Elapsed {remain:s} '\n",
    "                  'Loss: {loss.val:.4f}({loss.avg:.4f}) '\n",
    "                  .format(\n",
    "                   step, len(valid_loader),\n",
    "                   remain=timeSince(start, float(step+1)/len(valid_loader)),\n",
    "                   loss=losses,\n",
    "                   ))\n",
    "    preds = np.concatenate(preds)\n",
    "    return losses.avg, preds\n",
    "\n",
    "\n",
    "def inference_fn(test_loader, model, device):\n",
    "    model.eval()\n",
    "    model.to(device)\n",
    "    preds = []\n",
    "    tk0 = tqdm(enumerate(test_loader), total=len(test_loader))\n",
    "    for step, (cate_seq_x, cont_seq_x) in tk0:\n",
    "        cate_seq_x, cont_seq_x = cate_seq_x.to(device), cont_seq_x.to(device)\n",
    "        with torch.no_grad():\n",
    "            pred = model(cate_seq_x, cont_seq_x)\n",
    "        preds.append(pred.view(-1).detach().cpu().numpy())\n",
    "    preds = np.concatenate(preds)\n",
    "    return preds"
   ]
  },
  {
   "cell_type": "code",
   "execution_count": 13,
   "metadata": {},
   "outputs": [],
   "source": [
    "# ====================================================\n",
    "# train loop\n",
    "# ====================================================\n",
    "def train_loop(folds, fold):\n",
    "\n",
    "    LOGGER.info(f\"========== fold: {fold} training ==========\")\n",
    "\n",
    "    # ====================================================\n",
    "    # loader\n",
    "    # ====================================================\n",
    "    trn_idx = folds[folds['fold'] != fold].index\n",
    "    val_idx = folds[folds['fold'] == fold].index\n",
    "    \n",
    "    train_folds = train.loc[trn_idx].reset_index(drop=True)\n",
    "    valid_folds = train.loc[val_idx].reset_index(drop=True)\n",
    "    y_true = valid_folds['pressure'].values\n",
    "    non_expiratory_phase_val_idx = valid_folds[valid_folds['u_out'] == 0].index # The expiratory phase is not scored\n",
    "\n",
    "    train_dataset = TrainDataset(train_folds)\n",
    "    valid_dataset = TrainDataset(valid_folds)\n",
    "\n",
    "    train_loader = DataLoader(train_dataset,\n",
    "                              batch_size=CFG.batch_size,\n",
    "                              shuffle=True,\n",
    "                              num_workers=CFG.num_workers, pin_memory=True, drop_last=True)\n",
    "    valid_loader = DataLoader(valid_dataset,\n",
    "                              batch_size=CFG.batch_size,\n",
    "                              shuffle=False,\n",
    "                              num_workers=CFG.num_workers, pin_memory=True, drop_last=False)\n",
    "\n",
    "    # ====================================================\n",
    "    # model & optimizer\n",
    "    # ====================================================\n",
    "    model = CustomModel(CFG)\n",
    "    model.to(device)\n",
    "\n",
    "    optimizer = AdamW(model.parameters(), lr=CFG.lr, weight_decay=CFG.weight_decay)\n",
    "    num_train_steps = int(len(train_folds) / CFG.batch_size * CFG.epochs)\n",
    "    \n",
    "    def get_scheduler(optimizer):\n",
    "        if CFG.scheduler=='linear':\n",
    "            scheduler = get_linear_schedule_with_warmup(\n",
    "                optimizer, num_warmup_steps=CFG.num_warmup_steps, num_training_steps=num_train_steps\n",
    "            )\n",
    "        elif CFG.scheduler=='cosine':\n",
    "            scheduler = get_cosine_schedule_with_warmup(\n",
    "                optimizer, num_warmup_steps=CFG.num_warmup_steps, num_training_steps=num_train_steps, num_cycles=CFG.num_cycles\n",
    "            )\n",
    "        elif CFG.scheduler=='ReduceLROnPlateau':\n",
    "            scheduler = ReduceLROnPlateau(optimizer, mode='min', factor=CFG.factor, patience=CFG.patience, verbose=True, eps=CFG.eps)\n",
    "        elif CFG.scheduler=='CosineAnnealingLR':\n",
    "            scheduler = CosineAnnealingLR(optimizer, T_max=CFG.T_max, eta_min=CFG.min_lr, last_epoch=-1)\n",
    "        elif CFG.scheduler=='CosineAnnealingWarmRestarts':\n",
    "            scheduler = CosineAnnealingWarmRestarts(optimizer, T_0=CFG.T_0, T_mult=1, eta_min=CFG.min_lr, last_epoch=-1)\n",
    "        return scheduler\n",
    "\n",
    "    scheduler = get_scheduler(optimizer)\n",
    "\n",
    "    # ====================================================\n",
    "    # apex\n",
    "    # ====================================================\n",
    "    if CFG.apex:\n",
    "        model, optimizer = amp.initialize(model, optimizer, opt_level='O1', verbosity=0)\n",
    "\n",
    "    # ====================================================\n",
    "    # loop\n",
    "    # ====================================================\n",
    "    criterion = nn.L1Loss()\n",
    "\n",
    "    best_score = np.inf\n",
    "\n",
    "    for epoch in range(CFG.epochs):\n",
    "\n",
    "        start_time = time.time()\n",
    "\n",
    "        # train\n",
    "        avg_loss = train_fn(fold, train_loader, model, criterion, optimizer, epoch, scheduler, device)\n",
    "\n",
    "        # eval\n",
    "        avg_val_loss, preds = valid_fn(valid_loader, model, criterion, device)\n",
    "        \n",
    "        if isinstance(scheduler, ReduceLROnPlateau):\n",
    "            scheduler.step(avg_val_loss)\n",
    "        elif isinstance(scheduler, CosineAnnealingLR):\n",
    "            scheduler.step()\n",
    "        elif isinstance(scheduler, CosineAnnealingWarmRestarts):\n",
    "            scheduler.step()\n",
    "\n",
    "        # scoring\n",
    "        score = get_score(y_true[non_expiratory_phase_val_idx], preds[non_expiratory_phase_val_idx])\n",
    "\n",
    "        elapsed = time.time() - start_time\n",
    "\n",
    "        LOGGER.info(f'Epoch {epoch+1} - avg_train_loss: {avg_loss:.4f}  avg_val_loss: {avg_val_loss:.4f}  time: {elapsed:.0f}s')\n",
    "        LOGGER.info(f'Epoch {epoch+1} - MAE Score (without expiratory phase): {score:.4f}')\n",
    "        wandb.log({f\"[fold{fold}] epoch\": epoch+1, \n",
    "                   f\"[fold{fold}] avg_train_loss\": avg_loss, \n",
    "                   f\"[fold{fold}] avg_val_loss\": avg_val_loss,\n",
    "                   f\"[fold{fold}] score\": score})\n",
    "        \n",
    "        if score < best_score:\n",
    "            best_score = score\n",
    "            LOGGER.info(f'Epoch {epoch+1} - Save Best Score: {score:.4f} Model')\n",
    "            torch.save({'model': model.state_dict(),\n",
    "                        'preds': preds},\n",
    "                        OUTPUT_DIR+f\"fold{fold}_best.pth\")\n",
    "            \n",
    "    preds = torch.load(OUTPUT_DIR+f\"fold{fold}_best.pth\", map_location=torch.device('cpu'))['preds']\n",
    "    valid_folds['preds'] = preds\n",
    "\n",
    "    torch.cuda.empty_cache()\n",
    "    gc.collect()\n",
    "    \n",
    "    return valid_folds"
   ]
  },
  {
   "cell_type": "code",
   "execution_count": 14,
   "metadata": {},
   "outputs": [],
   "source": [
    "# ====================================================\n",
    "# main\n",
    "# ====================================================\n",
    "def main():\n",
    "    \n",
    "    \"\"\"\n",
    "    Prepare: 1.train 2.test\n",
    "    \"\"\"\n",
    "    \n",
    "    def get_result(result_df):\n",
    "        preds = result_df['preds'].values\n",
    "        labels = result_df['pressure'].values\n",
    "        non_expiratory_phase_val_idx = result_df[result_df['u_out'] == 0].index # The expiratory phase is not scored\n",
    "        score = get_score(labels[non_expiratory_phase_val_idx], preds[non_expiratory_phase_val_idx])\n",
    "        LOGGER.info(f'Score (without expiratory phase): {score:<.4f}')\n",
    "    \n",
    "    if CFG.train:\n",
    "        # train \n",
    "        oof_df = pd.DataFrame()\n",
    "        for fold in range(CFG.n_fold):\n",
    "            if fold in CFG.trn_fold:\n",
    "                _oof_df = train_loop(train, fold)\n",
    "                oof_df = pd.concat([oof_df, _oof_df])\n",
    "                LOGGER.info(f\"========== fold: {fold} result ==========\")\n",
    "                get_result(_oof_df)\n",
    "        # CV result\n",
    "        LOGGER.info(f\"========== CV ==========\")\n",
    "        get_result(oof_df)\n",
    "        # save result\n",
    "        oof_df.to_csv(OUTPUT_DIR+'oof_df.csv', index=False)\n",
    "    \n",
    "    if CFG.inference:\n",
    "        test_dataset = TestDataset(test)\n",
    "        test_loader = DataLoader(test_dataset, batch_size=CFG.batch_size * 2, shuffle=False, num_workers=CFG.num_workers, pin_memory=True)\n",
    "        for fold in CFG.trn_fold:\n",
    "            model = CustomModel(CFG)\n",
    "            path = OUTPUT_DIR+f\"fold{fold}_best.pth\"\n",
    "            state = torch.load(path, map_location=torch.device('cpu'))\n",
    "            model.load_state_dict(state['model'])\n",
    "            predictions = inference_fn(test_loader, model, device)\n",
    "            test[f'fold{fold}'] = predictions\n",
    "            del state, predictions; gc.collect()\n",
    "            torch.cuda.empty_cache()\n",
    "        # submission\n",
    "        test['pressure'] = test[[f'fold{fold}' for fold in range(CFG.n_fold)]].mean(1)\n",
    "        test[['id', 'pressure']+[f'fold{fold}' for fold in range(CFG.n_fold)]].to_csv(OUTPUT_DIR+'raw_submission.csv', index=False)\n",
    "        test[['id', 'pressure']].to_csv(OUTPUT_DIR+'submission.csv', index=False)\n",
    "    \n",
    "    wandb.finish()"
   ]
  },
  {
   "cell_type": "code",
   "execution_count": null,
   "metadata": {},
   "outputs": [
    {
     "name": "stderr",
     "output_type": "stream",
     "text": [
      "========== fold: 0 training ==========\n"
     ]
    },
    {
     "name": "stdout",
     "output_type": "stream",
     "text": [
      "init LSTM(1024, 1024, batch_first=True, dropout=0.2, bidirectional=True)\n",
      "init LSTM(2048, 512, batch_first=True, dropout=0.2, bidirectional=True)\n",
      "Epoch: [1][0/58] Elapsed 0m 3s (remain 3m 37s) Loss: 43.0618(43.0618) Grad: 99.2324  LR: 0.005000  \n",
      "Epoch: [1][20/58] Elapsed 0m 25s (remain 0m 44s) Loss: 21.4631(22.7620) Grad: 2.1846  LR: 0.005000  \n",
      "Epoch: [1][40/58] Elapsed 0m 46s (remain 0m 19s) Loss: 21.4807(22.2200) Grad: 1.2424  LR: 0.005000  \n",
      "Epoch: [1][57/58] Elapsed 1m 4s (remain 0m 0s) Loss: 20.8656(21.9009) Grad: 1.7008  LR: 0.005000  \n",
      "EVAL: [0/15] Elapsed 0m 3s (remain 0m 42s) Loss: 20.7135(20.7135) \n"
     ]
    },
    {
     "name": "stderr",
     "output_type": "stream",
     "text": [
      "Epoch 1 - avg_train_loss: 21.9009  avg_val_loss: 20.6635  time: 75s\n",
      "Epoch 1 - MAE Score (without expiratory phase): 8.5404\n",
      "Epoch 1 - Save Best Score: 8.5404 Model\n"
     ]
    },
    {
     "name": "stdout",
     "output_type": "stream",
     "text": [
      "EVAL: [14/15] Elapsed 0m 9s (remain 0m 0s) Loss: 19.7490(20.6635) \n",
      "Epoch: [2][0/58] Elapsed 0m 3s (remain 3m 28s) Loss: 21.6081(21.6081) Grad: 4.4648  LR: 0.004990  \n",
      "Epoch: [2][20/58] Elapsed 0m 25s (remain 0m 44s) Loss: 16.0664(19.1737) Grad: 12.4566  LR: 0.004990  \n",
      "Epoch: [2][40/58] Elapsed 0m 46s (remain 0m 19s) Loss: 15.0924(17.2054) Grad: 15.6772  LR: 0.004990  \n",
      "Epoch: [2][57/58] Elapsed 1m 4s (remain 0m 0s) Loss: 11.0612(16.3626) Grad: 3.6790  LR: 0.004990  \n",
      "EVAL: [0/15] Elapsed 0m 2s (remain 0m 39s) Loss: 13.5983(13.5983) \n"
     ]
    },
    {
     "name": "stderr",
     "output_type": "stream",
     "text": [
      "Epoch 2 - avg_train_loss: 16.3626  avg_val_loss: 13.4878  time: 75s\n",
      "Epoch 2 - MAE Score (without expiratory phase): 5.7702\n",
      "Epoch 2 - Save Best Score: 5.7702 Model\n"
     ]
    },
    {
     "name": "stdout",
     "output_type": "stream",
     "text": [
      "EVAL: [14/15] Elapsed 0m 9s (remain 0m 0s) Loss: 13.0102(13.4878) \n",
      "Epoch: [3][0/58] Elapsed 0m 3s (remain 3m 25s) Loss: 13.4367(13.4367) Grad: 51.9475  LR: 0.004966  \n",
      "Epoch: [3][20/58] Elapsed 0m 25s (remain 0m 44s) Loss: 9.8162(10.8194) Grad: 29.5382  LR: 0.004966  \n",
      "Epoch: [3][40/58] Elapsed 0m 46s (remain 0m 19s) Loss: 9.5004(10.7723) Grad: 36.5495  LR: 0.004966  \n",
      "Epoch: [3][57/58] Elapsed 1m 5s (remain 0m 0s) Loss: 8.8124(10.2084) Grad: 46.6899  LR: 0.004966  \n",
      "EVAL: [0/15] Elapsed 0m 2s (remain 0m 40s) Loss: 7.4294(7.4294) \n"
     ]
    },
    {
     "name": "stderr",
     "output_type": "stream",
     "text": [
      "Epoch 3 - avg_train_loss: 10.2084  avg_val_loss: 7.5038  time: 75s\n",
      "Epoch 3 - MAE Score (without expiratory phase): 3.3187\n",
      "Epoch 3 - Save Best Score: 3.3187 Model\n"
     ]
    },
    {
     "name": "stdout",
     "output_type": "stream",
     "text": [
      "EVAL: [14/15] Elapsed 0m 9s (remain 0m 0s) Loss: 7.4160(7.5038) \n",
      "Epoch: [4][0/58] Elapsed 0m 3s (remain 3m 27s) Loss: 7.5514(7.5514) Grad: 23.7469  LR: 0.004931  \n",
      "Epoch: [4][20/58] Elapsed 0m 25s (remain 0m 44s) Loss: 6.8513(8.0333) Grad: 28.1060  LR: 0.004931  \n",
      "Epoch: [4][40/58] Elapsed 0m 46s (remain 0m 19s) Loss: 8.7502(7.7457) Grad: 72.2111  LR: 0.004931  \n",
      "Epoch: [4][57/58] Elapsed 1m 5s (remain 0m 0s) Loss: 6.1300(7.5266) Grad: 42.8631  LR: 0.004931  \n",
      "EVAL: [0/15] Elapsed 0m 2s (remain 0m 40s) Loss: 6.7655(6.7655) \n"
     ]
    },
    {
     "name": "stderr",
     "output_type": "stream",
     "text": [
      "Epoch 4 - avg_train_loss: 7.5266  avg_val_loss: 6.6685  time: 75s\n",
      "Epoch 4 - MAE Score (without expiratory phase): 2.7972\n",
      "Epoch 4 - Save Best Score: 2.7972 Model\n"
     ]
    },
    {
     "name": "stdout",
     "output_type": "stream",
     "text": [
      "EVAL: [14/15] Elapsed 0m 9s (remain 0m 0s) Loss: 6.5242(6.6685) \n",
      "Epoch: [5][0/58] Elapsed 0m 3s (remain 3m 29s) Loss: 6.6454(6.6454) Grad: 66.1289  LR: 0.004887  \n",
      "Epoch: [5][20/58] Elapsed 0m 25s (remain 0m 44s) Loss: 5.3566(6.6194) Grad: 19.3231  LR: 0.004887  \n",
      "Epoch: [5][40/58] Elapsed 0m 46s (remain 0m 19s) Loss: 5.0050(6.6194) Grad: 22.3870  LR: 0.004887  \n",
      "Epoch: [5][57/58] Elapsed 1m 5s (remain 0m 0s) Loss: 5.5528(6.8986) Grad: 25.0409  LR: 0.004887  \n",
      "EVAL: [0/15] Elapsed 0m 2s (remain 0m 41s) Loss: 7.0257(7.0257) \n"
     ]
    },
    {
     "name": "stderr",
     "output_type": "stream",
     "text": [
      "Epoch 5 - avg_train_loss: 6.8986  avg_val_loss: 7.1438  time: 75s\n",
      "Epoch 5 - MAE Score (without expiratory phase): 3.0718\n"
     ]
    },
    {
     "name": "stdout",
     "output_type": "stream",
     "text": [
      "EVAL: [14/15] Elapsed 0m 9s (remain 0m 0s) Loss: 7.0301(7.1438) \n",
      "Epoch: [6][0/58] Elapsed 0m 3s (remain 3m 29s) Loss: 7.2182(7.2182) Grad: 64.0696  LR: 0.004834  \n",
      "Epoch: [6][20/58] Elapsed 0m 25s (remain 0m 44s) Loss: 6.7795(6.4947) Grad: 71.6981  LR: 0.004834  \n",
      "Epoch: [6][40/58] Elapsed 0m 46s (remain 0m 19s) Loss: 12.8337(7.2626) Grad: 73.2607  LR: 0.004834  \n",
      "Epoch: [6][57/58] Elapsed 1m 5s (remain 0m 0s) Loss: 8.3129(7.6874) Grad: 65.9396  LR: 0.004834  \n",
      "EVAL: [0/15] Elapsed 0m 2s (remain 0m 41s) Loss: 6.0052(6.0052) \n"
     ]
    },
    {
     "name": "stderr",
     "output_type": "stream",
     "text": [
      "Epoch 6 - avg_train_loss: 7.6874  avg_val_loss: 6.0389  time: 75s\n",
      "Epoch 6 - MAE Score (without expiratory phase): 2.6115\n",
      "Epoch 6 - Save Best Score: 2.6115 Model\n"
     ]
    },
    {
     "name": "stdout",
     "output_type": "stream",
     "text": [
      "EVAL: [14/15] Elapsed 0m 9s (remain 0m 0s) Loss: 5.7446(6.0389) \n",
      "Epoch: [7][0/58] Elapsed 0m 3s (remain 3m 24s) Loss: 5.9714(5.9714) Grad: 21.1832  LR: 0.004772  \n",
      "Epoch: [7][20/58] Elapsed 0m 25s (remain 0m 44s) Loss: 7.7483(7.4770) Grad: 70.5318  LR: 0.004772  \n",
      "Epoch: [7][40/58] Elapsed 0m 46s (remain 0m 19s) Loss: 7.9836(7.3389) Grad: 73.7547  LR: 0.004772  \n",
      "Epoch: [7][57/58] Elapsed 1m 5s (remain 0m 0s) Loss: 4.7994(6.7831) Grad: 19.1844  LR: 0.004772  \n",
      "EVAL: [0/15] Elapsed 0m 2s (remain 0m 40s) Loss: 4.3909(4.3909) \n"
     ]
    },
    {
     "name": "stderr",
     "output_type": "stream",
     "text": [
      "Epoch 7 - avg_train_loss: 6.7831  avg_val_loss: 4.3745  time: 75s\n",
      "Epoch 7 - MAE Score (without expiratory phase): 1.8412\n",
      "Epoch 7 - Save Best Score: 1.8412 Model\n"
     ]
    },
    {
     "name": "stdout",
     "output_type": "stream",
     "text": [
      "EVAL: [14/15] Elapsed 0m 9s (remain 0m 0s) Loss: 4.3145(4.3745) \n",
      "Epoch: [8][0/58] Elapsed 0m 3s (remain 3m 30s) Loss: 4.6114(4.6114) Grad: 4.6525  LR: 0.004701  \n",
      "Epoch: [8][20/58] Elapsed 0m 25s (remain 0m 44s) Loss: 5.3502(5.0352) Grad: 65.2393  LR: 0.004701  \n",
      "Epoch: [8][40/58] Elapsed 0m 46s (remain 0m 19s) Loss: 5.6758(5.1166) Grad: 67.1082  LR: 0.004701  \n",
      "Epoch: [8][57/58] Elapsed 1m 5s (remain 0m 0s) Loss: 4.3568(5.0339) Grad: 32.2758  LR: 0.004701  \n",
      "EVAL: [0/15] Elapsed 0m 2s (remain 0m 41s) Loss: 4.1454(4.1454) \n"
     ]
    },
    {
     "name": "stderr",
     "output_type": "stream",
     "text": [
      "Epoch 8 - avg_train_loss: 5.0339  avg_val_loss: 4.0856  time: 75s\n",
      "Epoch 8 - MAE Score (without expiratory phase): 1.7106\n",
      "Epoch 8 - Save Best Score: 1.7106 Model\n"
     ]
    },
    {
     "name": "stdout",
     "output_type": "stream",
     "text": [
      "EVAL: [14/15] Elapsed 0m 9s (remain 0m 0s) Loss: 4.0263(4.0856) \n",
      "Epoch: [9][0/58] Elapsed 0m 3s (remain 3m 25s) Loss: 4.2124(4.2124) Grad: 27.7872  LR: 0.004621  \n",
      "Epoch: [9][20/58] Elapsed 0m 25s (remain 0m 44s) Loss: 4.1133(5.0148) Grad: 26.9561  LR: 0.004621  \n",
      "Epoch: [9][40/58] Elapsed 0m 46s (remain 0m 19s) Loss: 3.8149(4.8906) Grad: 18.2761  LR: 0.004621  \n",
      "Epoch: [9][57/58] Elapsed 1m 5s (remain 0m 0s) Loss: 5.8067(4.9401) Grad: 73.9853  LR: 0.004621  \n",
      "EVAL: [0/15] Elapsed 0m 2s (remain 0m 40s) Loss: 7.1333(7.1333) \n"
     ]
    },
    {
     "name": "stderr",
     "output_type": "stream",
     "text": [
      "Epoch 9 - avg_train_loss: 4.9401  avg_val_loss: 7.2108  time: 75s\n",
      "Epoch 9 - MAE Score (without expiratory phase): 2.6683\n"
     ]
    },
    {
     "name": "stdout",
     "output_type": "stream",
     "text": [
      "EVAL: [14/15] Elapsed 0m 9s (remain 0m 0s) Loss: 7.2729(7.2108) \n",
      "Epoch: [10][0/58] Elapsed 0m 3s (remain 3m 23s) Loss: 7.2315(7.2315) Grad: 77.4510  LR: 0.004532  \n",
      "Epoch: [10][20/58] Elapsed 0m 25s (remain 0m 44s) Loss: 4.3898(5.4106) Grad: 39.4857  LR: 0.004532  \n",
      "Epoch: [10][40/58] Elapsed 0m 46s (remain 0m 19s) Loss: 4.2558(5.0124) Grad: 43.1808  LR: 0.004532  \n",
      "Epoch: [10][57/58] Elapsed 1m 5s (remain 0m 0s) Loss: 4.8198(4.9541) Grad: 60.9985  LR: 0.004532  \n",
      "EVAL: [0/15] Elapsed 0m 3s (remain 0m 42s) Loss: 4.5460(4.5460) \n"
     ]
    },
    {
     "name": "stderr",
     "output_type": "stream",
     "text": [
      "Epoch 10 - avg_train_loss: 4.9541  avg_val_loss: 4.5674  time: 75s\n",
      "Epoch 10 - MAE Score (without expiratory phase): 1.8378\n"
     ]
    },
    {
     "name": "stdout",
     "output_type": "stream",
     "text": [
      "EVAL: [14/15] Elapsed 0m 9s (remain 0m 0s) Loss: 4.6191(4.5674) \n",
      "Epoch: [11][0/58] Elapsed 0m 3s (remain 3m 33s) Loss: 4.6830(4.6830) Grad: 56.0074  LR: 0.004436  \n",
      "Epoch: [11][20/58] Elapsed 0m 25s (remain 0m 44s) Loss: 3.7562(4.4336) Grad: 20.6323  LR: 0.004436  \n",
      "Epoch: [11][40/58] Elapsed 0m 47s (remain 0m 19s) Loss: 3.6274(4.4403) Grad: 24.6395  LR: 0.004436  \n",
      "Epoch: [11][57/58] Elapsed 1m 5s (remain 0m 0s) Loss: 3.7028(4.4627) Grad: 11.7766  LR: 0.004436  \n",
      "EVAL: [0/15] Elapsed 0m 2s (remain 0m 41s) Loss: 3.9157(3.9157) \n"
     ]
    },
    {
     "name": "stderr",
     "output_type": "stream",
     "text": [
      "Epoch 11 - avg_train_loss: 4.4627  avg_val_loss: 3.9107  time: 76s\n",
      "Epoch 11 - MAE Score (without expiratory phase): 1.5550\n",
      "Epoch 11 - Save Best Score: 1.5550 Model\n"
     ]
    },
    {
     "name": "stdout",
     "output_type": "stream",
     "text": [
      "EVAL: [14/15] Elapsed 0m 9s (remain 0m 0s) Loss: 3.9549(3.9107) \n",
      "Epoch: [12][0/58] Elapsed 0m 3s (remain 3m 23s) Loss: 4.0602(4.0602) Grad: 37.3980  LR: 0.004332  \n",
      "Epoch: [12][20/58] Elapsed 0m 25s (remain 0m 44s) Loss: 3.7321(4.3220) Grad: 32.3513  LR: 0.004332  \n",
      "Epoch: [12][40/58] Elapsed 0m 46s (remain 0m 19s) Loss: 3.9824(4.3309) Grad: 40.2172  LR: 0.004332  \n",
      "Epoch: [12][57/58] Elapsed 1m 5s (remain 0m 0s) Loss: 4.0315(4.4213) Grad: 16.1609  LR: 0.004332  \n",
      "EVAL: [0/15] Elapsed 0m 2s (remain 0m 40s) Loss: 4.5912(4.5912) \n"
     ]
    },
    {
     "name": "stderr",
     "output_type": "stream",
     "text": [
      "Epoch 12 - avg_train_loss: 4.4213  avg_val_loss: 4.4904  time: 75s\n",
      "Epoch 12 - MAE Score (without expiratory phase): 1.8601\n"
     ]
    },
    {
     "name": "stdout",
     "output_type": "stream",
     "text": [
      "EVAL: [14/15] Elapsed 0m 9s (remain 0m 0s) Loss: 4.4598(4.4904) \n",
      "Epoch: [13][0/58] Elapsed 0m 3s (remain 3m 27s) Loss: 4.4653(4.4653) Grad: 60.5685  LR: 0.004221  \n",
      "Epoch: [13][20/58] Elapsed 0m 25s (remain 0m 44s) Loss: 3.8813(4.4126) Grad: 36.1569  LR: 0.004221  \n",
      "Epoch: [13][40/58] Elapsed 0m 46s (remain 0m 19s) Loss: 3.5424(4.2449) Grad: 23.6477  LR: 0.004221  \n",
      "Epoch: [13][57/58] Elapsed 1m 5s (remain 0m 0s) Loss: 3.5824(4.1923) Grad: 26.9209  LR: 0.004221  \n",
      "EVAL: [0/15] Elapsed 0m 2s (remain 0m 40s) Loss: 4.0983(4.0983) \n"
     ]
    },
    {
     "name": "stderr",
     "output_type": "stream",
     "text": [
      "Epoch 13 - avg_train_loss: 4.1923  avg_val_loss: 4.1102  time: 75s\n",
      "Epoch 13 - MAE Score (without expiratory phase): 1.6315\n"
     ]
    },
    {
     "name": "stdout",
     "output_type": "stream",
     "text": [
      "EVAL: [14/15] Elapsed 0m 9s (remain 0m 0s) Loss: 4.1719(4.1102) \n",
      "Epoch: [14][0/58] Elapsed 0m 3s (remain 3m 28s) Loss: 4.3344(4.3344) Grad: 58.1089  LR: 0.004103  \n",
      "Epoch: [14][20/58] Elapsed 0m 25s (remain 0m 44s) Loss: 4.4730(4.2032) Grad: 68.5314  LR: 0.004103  \n",
      "Epoch: [14][40/58] Elapsed 0m 46s (remain 0m 19s) Loss: 4.5074(4.1761) Grad: 64.4112  LR: 0.004103  \n",
      "Epoch: [14][57/58] Elapsed 1m 5s (remain 0m 0s) Loss: 3.7366(4.1306) Grad: 46.0386  LR: 0.004103  \n",
      "EVAL: [0/15] Elapsed 0m 2s (remain 0m 40s) Loss: 4.7085(4.7085) \n"
     ]
    },
    {
     "name": "stderr",
     "output_type": "stream",
     "text": [
      "Epoch 14 - avg_train_loss: 4.1306  avg_val_loss: 4.7132  time: 75s\n",
      "Epoch 14 - MAE Score (without expiratory phase): 1.9266\n"
     ]
    },
    {
     "name": "stdout",
     "output_type": "stream",
     "text": [
      "EVAL: [14/15] Elapsed 0m 9s (remain 0m 0s) Loss: 4.6649(4.7132) \n",
      "Epoch: [15][0/58] Elapsed 0m 3s (remain 3m 32s) Loss: 4.8524(4.8524) Grad: 77.0532  LR: 0.003979  \n",
      "Epoch: [15][20/58] Elapsed 0m 25s (remain 0m 44s) Loss: 4.1127(4.1552) Grad: 54.8252  LR: 0.003979  \n",
      "Epoch: [15][40/58] Elapsed 0m 46s (remain 0m 19s) Loss: 3.3552(4.0890) Grad: 10.3027  LR: 0.003979  \n",
      "Epoch: [15][57/58] Elapsed 1m 5s (remain 0m 0s) Loss: 3.9287(4.0978) Grad: 41.2398  LR: 0.003979  \n",
      "EVAL: [0/15] Elapsed 0m 2s (remain 0m 40s) Loss: 4.4141(4.4141) \n"
     ]
    },
    {
     "name": "stderr",
     "output_type": "stream",
     "text": [
      "Epoch 15 - avg_train_loss: 4.0978  avg_val_loss: 4.3166  time: 75s\n",
      "Epoch 15 - MAE Score (without expiratory phase): 1.7589\n"
     ]
    },
    {
     "name": "stdout",
     "output_type": "stream",
     "text": [
      "EVAL: [14/15] Elapsed 0m 9s (remain 0m 0s) Loss: 4.3293(4.3166) \n",
      "Epoch: [16][0/58] Elapsed 0m 3s (remain 3m 30s) Loss: 4.2733(4.2733) Grad: 67.0944  LR: 0.003849  \n",
      "Epoch: [16][20/58] Elapsed 0m 25s (remain 0m 44s) Loss: 3.9145(4.0750) Grad: 57.8673  LR: 0.003849  \n",
      "Epoch: [16][40/58] Elapsed 0m 46s (remain 0m 19s) Loss: 4.0110(3.9806) Grad: 57.1629  LR: 0.003849  \n",
      "Epoch: [16][57/58] Elapsed 1m 5s (remain 0m 0s) Loss: 3.5311(3.9345) Grad: 41.5977  LR: 0.003849  \n",
      "EVAL: [0/15] Elapsed 0m 2s (remain 0m 40s) Loss: 4.7093(4.7093) \n"
     ]
    },
    {
     "name": "stderr",
     "output_type": "stream",
     "text": [
      "Epoch 16 - avg_train_loss: 3.9345  avg_val_loss: 4.6281  time: 76s\n",
      "Epoch 16 - MAE Score (without expiratory phase): 1.8479\n"
     ]
    },
    {
     "name": "stdout",
     "output_type": "stream",
     "text": [
      "EVAL: [14/15] Elapsed 0m 9s (remain 0m 0s) Loss: 4.6622(4.6281) \n",
      "Epoch: [17][0/58] Elapsed 0m 3s (remain 3m 25s) Loss: 4.4376(4.4376) Grad: 70.2523  LR: 0.003714  \n",
      "Epoch: [17][20/58] Elapsed 0m 25s (remain 0m 44s) Loss: 3.5963(3.8618) Grad: 46.7843  LR: 0.003714  \n",
      "Epoch: [17][40/58] Elapsed 0m 46s (remain 0m 19s) Loss: 4.2197(3.8832) Grad: 62.4398  LR: 0.003714  \n",
      "Epoch: [17][57/58] Elapsed 1m 5s (remain 0m 0s) Loss: 3.0950(3.8670) Grad: 7.4187  LR: 0.003714  \n",
      "EVAL: [0/15] Elapsed 0m 2s (remain 0m 40s) Loss: 3.4424(3.4424) \n"
     ]
    },
    {
     "name": "stderr",
     "output_type": "stream",
     "text": [
      "Epoch 17 - avg_train_loss: 3.8670  avg_val_loss: 3.3391  time: 75s\n",
      "Epoch 17 - MAE Score (without expiratory phase): 1.3577\n",
      "Epoch 17 - Save Best Score: 1.3577 Model\n"
     ]
    },
    {
     "name": "stdout",
     "output_type": "stream",
     "text": [
      "EVAL: [14/15] Elapsed 0m 9s (remain 0m 0s) Loss: 3.3719(3.3391) \n",
      "Epoch: [18][0/58] Elapsed 0m 3s (remain 3m 31s) Loss: 3.6384(3.6384) Grad: 36.6873  LR: 0.003574  \n",
      "Epoch: [18][20/58] Elapsed 0m 25s (remain 0m 44s) Loss: 3.7514(3.8281) Grad: 53.8832  LR: 0.003574  \n",
      "Epoch: [18][40/58] Elapsed 0m 47s (remain 0m 19s) Loss: 4.7243(4.0639) Grad: 49.0307  LR: 0.003574  \n",
      "Epoch: [18][57/58] Elapsed 1m 5s (remain 0m 0s) Loss: 3.2867(3.9547) Grad: 18.6736  LR: 0.003574  \n",
      "EVAL: [0/15] Elapsed 0m 2s (remain 0m 39s) Loss: 3.3590(3.3590) \n"
     ]
    },
    {
     "name": "stderr",
     "output_type": "stream",
     "text": [
      "Epoch 18 - avg_train_loss: 3.9547  avg_val_loss: 3.3343  time: 75s\n",
      "Epoch 18 - MAE Score (without expiratory phase): 1.3731\n"
     ]
    },
    {
     "name": "stdout",
     "output_type": "stream",
     "text": [
      "EVAL: [14/15] Elapsed 0m 9s (remain 0m 0s) Loss: 3.3700(3.3343) \n",
      "Epoch: [19][0/58] Elapsed 0m 3s (remain 3m 30s) Loss: 3.3853(3.3853) Grad: 28.9433  LR: 0.003430  \n",
      "Epoch: [19][20/58] Elapsed 0m 25s (remain 0m 44s) Loss: 4.0709(3.5718) Grad: 75.6106  LR: 0.003430  \n",
      "Epoch: [19][40/58] Elapsed 0m 46s (remain 0m 19s) Loss: 3.2806(3.6118) Grad: 17.5515  LR: 0.003430  \n",
      "Epoch: [19][57/58] Elapsed 1m 5s (remain 0m 0s) Loss: 4.0477(3.6619) Grad: 54.4597  LR: 0.003430  \n",
      "EVAL: [0/15] Elapsed 0m 2s (remain 0m 41s) Loss: 3.8532(3.8532) \n"
     ]
    },
    {
     "name": "stderr",
     "output_type": "stream",
     "text": [
      "Epoch 19 - avg_train_loss: 3.6619  avg_val_loss: 3.8005  time: 75s\n",
      "Epoch 19 - MAE Score (without expiratory phase): 1.5982\n"
     ]
    },
    {
     "name": "stdout",
     "output_type": "stream",
     "text": [
      "EVAL: [14/15] Elapsed 0m 9s (remain 0m 0s) Loss: 3.7836(3.8005) \n",
      "Epoch: [20][0/58] Elapsed 0m 3s (remain 3m 32s) Loss: 3.9540(3.9540) Grad: 63.8070  LR: 0.003282  \n",
      "Epoch: [20][20/58] Elapsed 0m 25s (remain 0m 44s) Loss: 3.4067(3.5162) Grad: 38.5738  LR: 0.003282  \n",
      "Epoch: [20][40/58] Elapsed 0m 47s (remain 0m 19s) Loss: 4.1070(3.5310) Grad: 63.3706  LR: 0.003282  \n",
      "Epoch: [20][57/58] Elapsed 1m 5s (remain 0m 0s) Loss: 3.9439(3.5417) Grad: 71.2411  LR: 0.003282  \n",
      "EVAL: [0/15] Elapsed 0m 2s (remain 0m 39s) Loss: 4.9206(4.9206) \n"
     ]
    },
    {
     "name": "stderr",
     "output_type": "stream",
     "text": [
      "Epoch 20 - avg_train_loss: 3.5417  avg_val_loss: 4.8288  time: 75s\n",
      "Epoch 20 - MAE Score (without expiratory phase): 1.9158\n"
     ]
    },
    {
     "name": "stdout",
     "output_type": "stream",
     "text": [
      "EVAL: [14/15] Elapsed 0m 9s (remain 0m 0s) Loss: 4.8958(4.8288) \n",
      "Epoch: [21][0/58] Elapsed 0m 3s (remain 3m 32s) Loss: 4.7580(4.7580) Grad: 79.6525  LR: 0.003132  \n",
      "Epoch: [21][20/58] Elapsed 0m 25s (remain 0m 44s) Loss: 3.8601(4.0176) Grad: 57.9641  LR: 0.003132  \n",
      "Epoch: [21][40/58] Elapsed 0m 47s (remain 0m 19s) Loss: 4.2001(3.9890) Grad: 38.4309  LR: 0.003132  \n",
      "Epoch: [21][57/58] Elapsed 1m 5s (remain 0m 0s) Loss: 3.5706(3.9495) Grad: 49.4196  LR: 0.003132  \n",
      "EVAL: [0/15] Elapsed 0m 2s (remain 0m 40s) Loss: 3.7671(3.7671) \n"
     ]
    },
    {
     "name": "stderr",
     "output_type": "stream",
     "text": [
      "Epoch 21 - avg_train_loss: 3.9495  avg_val_loss: 3.7157  time: 76s\n",
      "Epoch 21 - MAE Score (without expiratory phase): 1.3957\n"
     ]
    },
    {
     "name": "stdout",
     "output_type": "stream",
     "text": [
      "EVAL: [14/15] Elapsed 0m 9s (remain 0m 0s) Loss: 3.7622(3.7157) \n",
      "Epoch: [22][0/58] Elapsed 0m 3s (remain 3m 27s) Loss: 3.7507(3.7507) Grad: 34.4504  LR: 0.002978  \n",
      "Epoch: [22][20/58] Elapsed 0m 25s (remain 0m 44s) Loss: 4.0203(3.7588) Grad: 58.1285  LR: 0.002978  \n",
      "Epoch: [22][40/58] Elapsed 0m 46s (remain 0m 19s) Loss: 3.2737(3.7467) Grad: 21.7646  LR: 0.002978  \n",
      "Epoch: [22][57/58] Elapsed 1m 5s (remain 0m 0s) Loss: 3.2091(3.6428) Grad: 25.3015  LR: 0.002978  \n",
      "EVAL: [0/15] Elapsed 0m 3s (remain 0m 42s) Loss: 3.1262(3.1262) \n"
     ]
    },
    {
     "name": "stderr",
     "output_type": "stream",
     "text": [
      "Epoch 22 - avg_train_loss: 3.6428  avg_val_loss: 3.0885  time: 75s\n",
      "Epoch 22 - MAE Score (without expiratory phase): 1.2488\n",
      "Epoch 22 - Save Best Score: 1.2488 Model\n"
     ]
    },
    {
     "name": "stdout",
     "output_type": "stream",
     "text": [
      "EVAL: [14/15] Elapsed 0m 9s (remain 0m 0s) Loss: 3.1313(3.0885) \n",
      "Epoch: [23][0/58] Elapsed 0m 3s (remain 3m 26s) Loss: 3.1732(3.1732) Grad: 43.6665  LR: 0.002823  \n",
      "Epoch: [23][20/58] Elapsed 0m 25s (remain 0m 44s) Loss: 3.4181(3.2367) Grad: 50.7432  LR: 0.002823  \n",
      "Epoch: [23][40/58] Elapsed 0m 46s (remain 0m 19s) Loss: 2.9276(3.2183) Grad: 10.2820  LR: 0.002823  \n",
      "Epoch: [23][57/58] Elapsed 1m 5s (remain 0m 0s) Loss: 3.1081(3.2744) Grad: 23.6745  LR: 0.002823  \n",
      "EVAL: [0/15] Elapsed 0m 2s (remain 0m 40s) Loss: 3.3877(3.3877) \n"
     ]
    },
    {
     "name": "stderr",
     "output_type": "stream",
     "text": [
      "Epoch 23 - avg_train_loss: 3.2744  avg_val_loss: 3.3624  time: 75s\n",
      "Epoch 23 - MAE Score (without expiratory phase): 1.3965\n"
     ]
    },
    {
     "name": "stdout",
     "output_type": "stream",
     "text": [
      "EVAL: [14/15] Elapsed 0m 9s (remain 0m 0s) Loss: 3.3054(3.3624) \n",
      "Epoch: [24][0/58] Elapsed 0m 3s (remain 3m 30s) Loss: 3.4984(3.4984) Grad: 56.0800  LR: 0.002667  \n",
      "Epoch: [24][20/58] Elapsed 0m 25s (remain 0m 44s) Loss: 3.2318(3.1822) Grad: 45.3718  LR: 0.002667  \n",
      "Epoch: [24][40/58] Elapsed 0m 46s (remain 0m 19s) Loss: 3.2097(3.1546) Grad: 51.4225  LR: 0.002667  \n",
      "Epoch: [24][57/58] Elapsed 1m 5s (remain 0m 0s) Loss: 2.8707(3.1710) Grad: 4.2317  LR: 0.002667  \n",
      "EVAL: [0/15] Elapsed 0m 3s (remain 0m 42s) Loss: 2.9274(2.9274) \n"
     ]
    },
    {
     "name": "stderr",
     "output_type": "stream",
     "text": [
      "Epoch 24 - avg_train_loss: 3.1710  avg_val_loss: 2.8676  time: 75s\n",
      "Epoch 24 - MAE Score (without expiratory phase): 1.1679\n",
      "Epoch 24 - Save Best Score: 1.1679 Model\n"
     ]
    },
    {
     "name": "stdout",
     "output_type": "stream",
     "text": [
      "EVAL: [14/15] Elapsed 0m 9s (remain 0m 0s) Loss: 2.8866(2.8676) \n",
      "Epoch: [25][0/58] Elapsed 0m 3s (remain 3m 25s) Loss: 3.0072(3.0072) Grad: 26.9311  LR: 0.002510  \n",
      "Epoch: [25][20/58] Elapsed 0m 25s (remain 0m 44s) Loss: 2.7064(3.0503) Grad: 2.5992  LR: 0.002510  \n",
      "Epoch: [25][40/58] Elapsed 0m 46s (remain 0m 19s) Loss: 3.5265(3.0868) Grad: 64.6027  LR: 0.002510  \n",
      "Epoch: [25][57/58] Elapsed 1m 5s (remain 0m 0s) Loss: 2.9867(3.1376) Grad: 20.9455  LR: 0.002510  \n",
      "EVAL: [0/15] Elapsed 0m 2s (remain 0m 41s) Loss: 2.9387(2.9387) \n"
     ]
    },
    {
     "name": "stderr",
     "output_type": "stream",
     "text": [
      "Epoch 25 - avg_train_loss: 3.1376  avg_val_loss: 2.9105  time: 75s\n",
      "Epoch 25 - MAE Score (without expiratory phase): 1.1584\n",
      "Epoch 25 - Save Best Score: 1.1584 Model\n"
     ]
    },
    {
     "name": "stdout",
     "output_type": "stream",
     "text": [
      "EVAL: [14/15] Elapsed 0m 10s (remain 0m 0s) Loss: 2.9406(2.9105) \n",
      "Epoch: [26][0/58] Elapsed 0m 3s (remain 3m 26s) Loss: 3.1077(3.1077) Grad: 41.0857  LR: 0.002353  \n",
      "Epoch: [26][20/58] Elapsed 0m 25s (remain 0m 44s) Loss: 3.5292(3.1305) Grad: 62.2757  LR: 0.002353  \n",
      "Epoch: [26][40/58] Elapsed 0m 46s (remain 0m 19s) Loss: 3.4992(3.1047) Grad: 65.7276  LR: 0.002353  \n",
      "Epoch: [26][57/58] Elapsed 1m 5s (remain 0m 0s) Loss: 2.9068(3.0786) Grad: 33.5603  LR: 0.002353  \n",
      "EVAL: [0/15] Elapsed 0m 2s (remain 0m 40s) Loss: 2.7564(2.7564) \n"
     ]
    },
    {
     "name": "stderr",
     "output_type": "stream",
     "text": [
      "Epoch 26 - avg_train_loss: 3.0786  avg_val_loss: 2.7130  time: 75s\n",
      "Epoch 26 - MAE Score (without expiratory phase): 1.0923\n",
      "Epoch 26 - Save Best Score: 1.0923 Model\n"
     ]
    },
    {
     "name": "stdout",
     "output_type": "stream",
     "text": [
      "EVAL: [14/15] Elapsed 0m 9s (remain 0m 0s) Loss: 2.7410(2.7130) \n",
      "Epoch: [27][0/58] Elapsed 0m 3s (remain 3m 36s) Loss: 2.8531(2.8531) Grad: 14.8018  LR: 0.002196  \n",
      "Epoch: [27][20/58] Elapsed 0m 25s (remain 0m 44s) Loss: 2.5763(2.9188) Grad: 6.8642  LR: 0.002196  \n",
      "Epoch: [27][40/58] Elapsed 0m 47s (remain 0m 19s) Loss: 3.1931(2.9867) Grad: 44.5204  LR: 0.002196  \n",
      "Epoch: [27][57/58] Elapsed 1m 5s (remain 0m 0s) Loss: 3.0137(2.9898) Grad: 49.6507  LR: 0.002196  \n",
      "EVAL: [0/15] Elapsed 0m 3s (remain 0m 43s) Loss: 3.1760(3.1760) \n"
     ]
    },
    {
     "name": "stderr",
     "output_type": "stream",
     "text": [
      "Epoch 27 - avg_train_loss: 2.9898  avg_val_loss: 3.1089  time: 76s\n",
      "Epoch 27 - MAE Score (without expiratory phase): 1.2412\n"
     ]
    },
    {
     "name": "stdout",
     "output_type": "stream",
     "text": [
      "EVAL: [14/15] Elapsed 0m 9s (remain 0m 0s) Loss: 3.1308(3.1089) \n",
      "Epoch: [28][0/58] Elapsed 0m 3s (remain 3m 37s) Loss: 3.1114(3.1114) Grad: 54.2775  LR: 0.002041  \n",
      "Epoch: [28][20/58] Elapsed 0m 25s (remain 0m 44s) Loss: 2.7745(2.8747) Grad: 34.1364  LR: 0.002041  \n",
      "Epoch: [28][40/58] Elapsed 0m 47s (remain 0m 19s) Loss: 2.6935(2.9052) Grad: 23.8167  LR: 0.002041  \n",
      "Epoch: [28][57/58] Elapsed 1m 5s (remain 0m 0s) Loss: 2.7599(2.8726) Grad: 20.9327  LR: 0.002041  \n",
      "EVAL: [0/15] Elapsed 0m 2s (remain 0m 41s) Loss: 2.8715(2.8715) \n"
     ]
    },
    {
     "name": "stderr",
     "output_type": "stream",
     "text": [
      "Epoch 28 - avg_train_loss: 2.8726  avg_val_loss: 2.7913  time: 75s\n",
      "Epoch 28 - MAE Score (without expiratory phase): 1.1254\n"
     ]
    },
    {
     "name": "stdout",
     "output_type": "stream",
     "text": [
      "EVAL: [14/15] Elapsed 0m 9s (remain 0m 0s) Loss: 2.8351(2.7913) \n",
      "Epoch: [29][0/58] Elapsed 0m 3s (remain 3m 41s) Loss: 2.7505(2.7505) Grad: 34.1392  LR: 0.001888  \n",
      "Epoch: [29][20/58] Elapsed 0m 25s (remain 0m 44s) Loss: 2.5786(2.7726) Grad: 5.0908  LR: 0.001888  \n",
      "Epoch: [29][40/58] Elapsed 0m 47s (remain 0m 19s) Loss: 2.6814(2.7932) Grad: 22.3905  LR: 0.001888  \n",
      "Epoch: [29][57/58] Elapsed 1m 5s (remain 0m 0s) Loss: 2.8694(2.8058) Grad: 38.4533  LR: 0.001888  \n",
      "EVAL: [0/15] Elapsed 0m 3s (remain 0m 43s) Loss: 2.7184(2.7184) \n"
     ]
    },
    {
     "name": "stderr",
     "output_type": "stream",
     "text": [
      "Epoch 29 - avg_train_loss: 2.8058  avg_val_loss: 2.6550  time: 76s\n",
      "Epoch 29 - MAE Score (without expiratory phase): 1.0502\n",
      "Epoch 29 - Save Best Score: 1.0502 Model\n"
     ]
    },
    {
     "name": "stdout",
     "output_type": "stream",
     "text": [
      "EVAL: [14/15] Elapsed 0m 10s (remain 0m 0s) Loss: 2.6924(2.6550) \n",
      "Epoch: [30][0/58] Elapsed 0m 3s (remain 3m 31s) Loss: 2.7041(2.7041) Grad: 24.1630  LR: 0.001737  \n",
      "Epoch: [30][20/58] Elapsed 0m 25s (remain 0m 44s) Loss: 2.6668(2.6798) Grad: 18.6372  LR: 0.001737  \n",
      "Epoch: [30][40/58] Elapsed 0m 47s (remain 0m 19s) Loss: 2.7933(2.7628) Grad: 42.4383  LR: 0.001737  \n",
      "Epoch: [30][57/58] Elapsed 1m 5s (remain 0m 0s) Loss: 2.6840(2.7330) Grad: 32.2748  LR: 0.001737  \n",
      "EVAL: [0/15] Elapsed 0m 2s (remain 0m 41s) Loss: 2.9460(2.9460) \n"
     ]
    },
    {
     "name": "stderr",
     "output_type": "stream",
     "text": [
      "Epoch 30 - avg_train_loss: 2.7330  avg_val_loss: 2.8774  time: 75s\n",
      "Epoch 30 - MAE Score (without expiratory phase): 1.1673\n"
     ]
    },
    {
     "name": "stdout",
     "output_type": "stream",
     "text": [
      "EVAL: [14/15] Elapsed 0m 9s (remain 0m 0s) Loss: 2.9176(2.8774) \n"
     ]
    },
    {
     "name": "stderr",
     "output_type": "stream",
     "text": [
      "========== fold: 0 result ==========\n",
      "Score (without expiratory phase): 1.0502\n",
      "========== fold: 1 training ==========\n"
     ]
    },
    {
     "name": "stdout",
     "output_type": "stream",
     "text": [
      "init LSTM(1024, 1024, batch_first=True, dropout=0.2, bidirectional=True)\n",
      "init LSTM(2048, 512, batch_first=True, dropout=0.2, bidirectional=True)\n",
      "Epoch: [1][0/58] Elapsed 0m 3s (remain 3m 30s) Loss: 41.5834(41.5834) Grad: 98.5469  LR: 0.005000  \n",
      "Epoch: [1][20/58] Elapsed 0m 25s (remain 0m 44s) Loss: 21.4635(22.7512) Grad: 2.1771  LR: 0.005000  \n",
      "Epoch: [1][40/58] Elapsed 0m 46s (remain 0m 19s) Loss: 20.7616(22.1905) Grad: 2.0312  LR: 0.005000  \n",
      "Epoch: [1][57/58] Elapsed 1m 4s (remain 0m 0s) Loss: 22.3632(22.0211) Grad: 3.3057  LR: 0.005000  \n",
      "EVAL: [0/15] Elapsed 0m 2s (remain 0m 39s) Loss: 21.4225(21.4225) \n"
     ]
    },
    {
     "name": "stderr",
     "output_type": "stream",
     "text": [
      "Epoch 1 - avg_train_loss: 22.0211  avg_val_loss: 21.4703  time: 75s\n",
      "Epoch 1 - MAE Score (without expiratory phase): 8.7665\n",
      "Epoch 1 - Save Best Score: 8.7665 Model\n"
     ]
    },
    {
     "name": "stdout",
     "output_type": "stream",
     "text": [
      "EVAL: [14/15] Elapsed 0m 9s (remain 0m 0s) Loss: 20.7964(21.4703) \n",
      "Epoch: [2][0/58] Elapsed 0m 3s (remain 3m 30s) Loss: 21.3292(21.3292) Grad: 1.8613  LR: 0.004990  \n",
      "Epoch: [2][20/58] Elapsed 0m 25s (remain 0m 44s) Loss: 21.1050(21.3823) Grad: 1.1219  LR: 0.004990  \n",
      "Epoch: [2][40/58] Elapsed 0m 46s (remain 0m 19s) Loss: 19.0956(20.8855) Grad: 6.7711  LR: 0.004990  \n",
      "Epoch: [2][57/58] Elapsed 1m 4s (remain 0m 0s) Loss: 16.1640(20.1571) Grad: 9.1993  LR: 0.004990  \n",
      "EVAL: [0/15] Elapsed 0m 3s (remain 0m 42s) Loss: 16.8109(16.8109) \n"
     ]
    },
    {
     "name": "stderr",
     "output_type": "stream",
     "text": [
      "Epoch 2 - avg_train_loss: 20.1571  avg_val_loss: 16.7942  time: 75s\n",
      "Epoch 2 - MAE Score (without expiratory phase): 7.6363\n",
      "Epoch 2 - Save Best Score: 7.6363 Model\n"
     ]
    },
    {
     "name": "stdout",
     "output_type": "stream",
     "text": [
      "EVAL: [14/15] Elapsed 0m 9s (remain 0m 0s) Loss: 15.9829(16.7942) \n",
      "Epoch: [3][0/58] Elapsed 0m 3s (remain 3m 32s) Loss: 17.0925(17.0925) Grad: 40.2117  LR: 0.004966  \n",
      "Epoch: [3][20/58] Elapsed 0m 25s (remain 0m 44s) Loss: 12.0685(14.7968) Grad: 20.2209  LR: 0.004966  \n",
      "Epoch: [3][40/58] Elapsed 0m 46s (remain 0m 19s) Loss: 11.0308(14.2897) Grad: 27.1124  LR: 0.004966  \n",
      "Epoch: [3][57/58] Elapsed 1m 5s (remain 0m 0s) Loss: 11.0347(13.5058) Grad: 31.7709  LR: 0.004966  \n",
      "EVAL: [0/15] Elapsed 0m 2s (remain 0m 41s) Loss: 11.8637(11.8637) \n"
     ]
    },
    {
     "name": "stderr",
     "output_type": "stream",
     "text": [
      "Epoch 3 - avg_train_loss: 13.5058  avg_val_loss: 11.7462  time: 75s\n",
      "Epoch 3 - MAE Score (without expiratory phase): 4.7313\n",
      "Epoch 3 - Save Best Score: 4.7313 Model\n"
     ]
    },
    {
     "name": "stdout",
     "output_type": "stream",
     "text": [
      "EVAL: [14/15] Elapsed 0m 9s (remain 0m 0s) Loss: 11.5735(11.7462) \n",
      "Epoch: [4][0/58] Elapsed 0m 3s (remain 3m 30s) Loss: 11.9228(11.9228) Grad: 34.2313  LR: 0.004931  \n",
      "Epoch: [4][20/58] Elapsed 0m 25s (remain 0m 44s) Loss: 8.2852(10.2447) Grad: 25.7259  LR: 0.004931  \n",
      "Epoch: [4][40/58] Elapsed 0m 46s (remain 0m 19s) Loss: 9.7236(9.3085) Grad: 62.9300  LR: 0.004931  \n",
      "Epoch: [4][57/58] Elapsed 1m 5s (remain 0m 0s) Loss: 8.8672(9.3006) Grad: 33.3637  LR: 0.004931  \n",
      "EVAL: [0/15] Elapsed 0m 2s (remain 0m 40s) Loss: 8.1316(8.1316) \n"
     ]
    },
    {
     "name": "stderr",
     "output_type": "stream",
     "text": [
      "Epoch 4 - avg_train_loss: 9.3006  avg_val_loss: 8.0736  time: 75s\n",
      "Epoch 4 - MAE Score (without expiratory phase): 3.5117\n",
      "Epoch 4 - Save Best Score: 3.5117 Model\n"
     ]
    },
    {
     "name": "stdout",
     "output_type": "stream",
     "text": [
      "EVAL: [14/15] Elapsed 0m 9s (remain 0m 0s) Loss: 7.8495(8.0736) \n",
      "Epoch: [5][0/58] Elapsed 0m 3s (remain 3m 24s) Loss: 8.1342(8.1342) Grad: 33.8735  LR: 0.004887  \n",
      "Epoch: [5][20/58] Elapsed 0m 25s (remain 0m 44s) Loss: 9.5606(7.4594) Grad: 83.0764  LR: 0.004887  \n",
      "Epoch: [5][40/58] Elapsed 0m 46s (remain 0m 19s) Loss: 8.6674(7.3838) Grad: 71.0164  LR: 0.004887  \n",
      "Epoch: [5][57/58] Elapsed 1m 5s (remain 0m 0s) Loss: 7.0143(7.2808) Grad: 55.7834  LR: 0.004887  \n",
      "EVAL: [0/15] Elapsed 0m 2s (remain 0m 41s) Loss: 7.5086(7.5086) \n"
     ]
    },
    {
     "name": "stderr",
     "output_type": "stream",
     "text": [
      "Epoch 5 - avg_train_loss: 7.2808  avg_val_loss: 7.3982  time: 75s\n",
      "Epoch 5 - MAE Score (without expiratory phase): 3.0262\n",
      "Epoch 5 - Save Best Score: 3.0262 Model\n"
     ]
    },
    {
     "name": "stdout",
     "output_type": "stream",
     "text": [
      "EVAL: [14/15] Elapsed 0m 9s (remain 0m 0s) Loss: 7.1066(7.3982) \n",
      "Epoch: [6][0/58] Elapsed 0m 3s (remain 3m 23s) Loss: 7.5053(7.5053) Grad: 65.5969  LR: 0.004834  \n",
      "Epoch: [6][20/58] Elapsed 0m 25s (remain 0m 44s) Loss: 5.1087(5.8981) Grad: 35.2274  LR: 0.004834  \n",
      "Epoch: [6][40/58] Elapsed 0m 46s (remain 0m 19s) Loss: 5.1450(5.7482) Grad: 53.4767  LR: 0.004834  \n",
      "Epoch: [6][57/58] Elapsed 1m 5s (remain 0m 0s) Loss: 5.8990(5.9635) Grad: 39.0331  LR: 0.004834  \n",
      "EVAL: [0/15] Elapsed 0m 2s (remain 0m 41s) Loss: 5.7890(5.7890) \n"
     ]
    },
    {
     "name": "stderr",
     "output_type": "stream",
     "text": [
      "Epoch 6 - avg_train_loss: 5.9635  avg_val_loss: 5.8042  time: 75s\n",
      "Epoch 6 - MAE Score (without expiratory phase): 2.5036\n",
      "Epoch 6 - Save Best Score: 2.5036 Model\n"
     ]
    },
    {
     "name": "stdout",
     "output_type": "stream",
     "text": [
      "EVAL: [14/15] Elapsed 0m 9s (remain 0m 0s) Loss: 5.6863(5.8042) \n",
      "Epoch: [7][0/58] Elapsed 0m 3s (remain 3m 34s) Loss: 5.6792(5.6792) Grad: 46.3143  LR: 0.004772  \n",
      "Epoch: [7][20/58] Elapsed 0m 25s (remain 0m 44s) Loss: 8.4333(5.6772) Grad: 89.0447  LR: 0.004772  \n",
      "Epoch: [7][40/58] Elapsed 0m 46s (remain 0m 19s) Loss: 5.1245(5.5487) Grad: 58.7569  LR: 0.004772  \n",
      "Epoch: [7][57/58] Elapsed 1m 5s (remain 0m 0s) Loss: 7.4604(5.4540) Grad: 89.7641  LR: 0.004772  \n",
      "EVAL: [0/15] Elapsed 0m 2s (remain 0m 40s) Loss: 6.3759(6.3759) \n"
     ]
    },
    {
     "name": "stderr",
     "output_type": "stream",
     "text": [
      "Epoch 7 - avg_train_loss: 5.4540  avg_val_loss: 6.3050  time: 75s\n",
      "Epoch 7 - MAE Score (without expiratory phase): 2.5680\n"
     ]
    },
    {
     "name": "stdout",
     "output_type": "stream",
     "text": [
      "EVAL: [14/15] Elapsed 0m 9s (remain 0m 0s) Loss: 6.1282(6.3050) \n",
      "Epoch: [8][0/58] Elapsed 0m 3s (remain 3m 24s) Loss: 6.2775(6.2775) Grad: 72.0813  LR: 0.004701  \n",
      "Epoch: [8][20/58] Elapsed 0m 25s (remain 0m 44s) Loss: 4.9195(5.6119) Grad: 29.3271  LR: 0.004701  \n",
      "Epoch: [8][40/58] Elapsed 0m 46s (remain 0m 19s) Loss: 5.1275(5.6559) Grad: 28.9534  LR: 0.004701  \n",
      "Epoch: [8][57/58] Elapsed 1m 4s (remain 0m 0s) Loss: 4.5646(5.4227) Grad: 31.6538  LR: 0.004701  \n",
      "EVAL: [0/15] Elapsed 0m 2s (remain 0m 40s) Loss: 4.1146(4.1146) \n"
     ]
    },
    {
     "name": "stderr",
     "output_type": "stream",
     "text": [
      "Epoch 8 - avg_train_loss: 5.4227  avg_val_loss: 4.0670  time: 75s\n",
      "Epoch 8 - MAE Score (without expiratory phase): 1.6935\n",
      "Epoch 8 - Save Best Score: 1.6935 Model\n"
     ]
    },
    {
     "name": "stdout",
     "output_type": "stream",
     "text": [
      "EVAL: [14/15] Elapsed 0m 9s (remain 0m 0s) Loss: 3.9389(4.0670) \n",
      "Epoch: [9][0/58] Elapsed 0m 3s (remain 3m 31s) Loss: 4.0952(4.0952) Grad: 29.2887  LR: 0.004621  \n",
      "Epoch: [9][20/58] Elapsed 0m 25s (remain 0m 44s) Loss: 5.8442(5.6873) Grad: 36.4191  LR: 0.004621  \n",
      "Epoch: [9][40/58] Elapsed 0m 46s (remain 0m 19s) Loss: 4.0544(5.3493) Grad: 18.6278  LR: 0.004621  \n",
      "Epoch: [9][57/58] Elapsed 1m 5s (remain 0m 0s) Loss: 5.8626(5.2020) Grad: 77.1422  LR: 0.004621  \n",
      "EVAL: [0/15] Elapsed 0m 2s (remain 0m 40s) Loss: 5.6777(5.6777) \n"
     ]
    },
    {
     "name": "stderr",
     "output_type": "stream",
     "text": [
      "Epoch 9 - avg_train_loss: 5.2020  avg_val_loss: 5.5784  time: 75s\n",
      "Epoch 9 - MAE Score (without expiratory phase): 2.2593\n"
     ]
    },
    {
     "name": "stdout",
     "output_type": "stream",
     "text": [
      "EVAL: [14/15] Elapsed 0m 9s (remain 0m 0s) Loss: 5.4614(5.5784) \n",
      "Epoch: [10][0/58] Elapsed 0m 3s (remain 3m 33s) Loss: 5.6760(5.6760) Grad: 71.1574  LR: 0.004532  \n",
      "Epoch: [10][20/58] Elapsed 0m 25s (remain 0m 44s) Loss: 6.5229(4.7468) Grad: 85.5360  LR: 0.004532  \n",
      "Epoch: [10][40/58] Elapsed 0m 46s (remain 0m 19s) Loss: 4.3782(4.6736) Grad: 46.5557  LR: 0.004532  \n",
      "Epoch: [10][57/58] Elapsed 1m 5s (remain 0m 0s) Loss: 3.6808(4.6381) Grad: 4.1628  LR: 0.004532  \n",
      "EVAL: [0/15] Elapsed 0m 2s (remain 0m 39s) Loss: 3.8538(3.8538) \n"
     ]
    },
    {
     "name": "stderr",
     "output_type": "stream",
     "text": [
      "Epoch 10 - avg_train_loss: 4.6381  avg_val_loss: 3.7747  time: 75s\n",
      "Epoch 10 - MAE Score (without expiratory phase): 1.5393\n",
      "Epoch 10 - Save Best Score: 1.5393 Model\n"
     ]
    },
    {
     "name": "stdout",
     "output_type": "stream",
     "text": [
      "EVAL: [14/15] Elapsed 0m 9s (remain 0m 0s) Loss: 3.6536(3.7747) \n",
      "Epoch: [11][0/58] Elapsed 0m 3s (remain 3m 33s) Loss: 3.9661(3.9661) Grad: 29.7194  LR: 0.004436  \n",
      "Epoch: [11][20/58] Elapsed 0m 25s (remain 0m 44s) Loss: 4.2291(4.3917) Grad: 38.1196  LR: 0.004436  \n",
      "Epoch: [11][40/58] Elapsed 0m 46s (remain 0m 19s) Loss: 3.8712(4.4101) Grad: 30.0692  LR: 0.004436  \n",
      "Epoch: [11][57/58] Elapsed 1m 5s (remain 0m 0s) Loss: 5.2087(4.4393) Grad: 71.1424  LR: 0.004436  \n",
      "EVAL: [0/15] Elapsed 0m 2s (remain 0m 41s) Loss: 3.8925(3.8925) \n"
     ]
    },
    {
     "name": "stderr",
     "output_type": "stream",
     "text": [
      "Epoch 11 - avg_train_loss: 4.4393  avg_val_loss: 3.8332  time: 75s\n",
      "Epoch 11 - MAE Score (without expiratory phase): 1.5378\n",
      "Epoch 11 - Save Best Score: 1.5378 Model\n"
     ]
    },
    {
     "name": "stdout",
     "output_type": "stream",
     "text": [
      "EVAL: [14/15] Elapsed 0m 9s (remain 0m 0s) Loss: 3.7275(3.8332) \n",
      "Epoch: [12][0/58] Elapsed 0m 3s (remain 3m 28s) Loss: 3.8963(3.8963) Grad: 29.6567  LR: 0.004332  \n",
      "Epoch: [12][20/58] Elapsed 0m 25s (remain 0m 44s) Loss: 4.6877(4.2479) Grad: 63.7690  LR: 0.004332  \n",
      "Epoch: [12][40/58] Elapsed 0m 46s (remain 0m 19s) Loss: 6.1357(4.3114) Grad: 82.2940  LR: 0.004332  \n",
      "Epoch: [12][57/58] Elapsed 1m 5s (remain 0m 0s) Loss: 3.6200(4.2780) Grad: 19.0588  LR: 0.004332  \n",
      "EVAL: [0/15] Elapsed 0m 2s (remain 0m 40s) Loss: 3.9099(3.9099) \n"
     ]
    },
    {
     "name": "stderr",
     "output_type": "stream",
     "text": [
      "Epoch 12 - avg_train_loss: 4.2780  avg_val_loss: 3.8091  time: 75s\n",
      "Epoch 12 - MAE Score (without expiratory phase): 1.5640\n"
     ]
    },
    {
     "name": "stdout",
     "output_type": "stream",
     "text": [
      "EVAL: [14/15] Elapsed 0m 9s (remain 0m 0s) Loss: 3.6565(3.8091) \n",
      "Epoch: [13][0/58] Elapsed 0m 3s (remain 3m 27s) Loss: 3.8856(3.8856) Grad: 26.8749  LR: 0.004221  \n",
      "Epoch: [13][20/58] Elapsed 0m 25s (remain 0m 44s) Loss: 3.4650(4.1018) Grad: 16.8925  LR: 0.004221  \n",
      "Epoch: [13][40/58] Elapsed 0m 46s (remain 0m 19s) Loss: 4.2398(4.2010) Grad: 53.0558  LR: 0.004221  \n",
      "Epoch: [13][57/58] Elapsed 1m 5s (remain 0m 0s) Loss: 4.4583(4.2005) Grad: 70.0953  LR: 0.004221  \n",
      "EVAL: [0/15] Elapsed 0m 2s (remain 0m 41s) Loss: 4.1362(4.1362) \n"
     ]
    },
    {
     "name": "stderr",
     "output_type": "stream",
     "text": [
      "Epoch 13 - avg_train_loss: 4.2005  avg_val_loss: 3.9827  time: 75s\n",
      "Epoch 13 - MAE Score (without expiratory phase): 1.6137\n"
     ]
    },
    {
     "name": "stdout",
     "output_type": "stream",
     "text": [
      "EVAL: [14/15] Elapsed 0m 9s (remain 0m 0s) Loss: 3.8327(3.9827) \n",
      "Epoch: [14][0/58] Elapsed 0m 3s (remain 3m 35s) Loss: 4.0330(4.0330) Grad: 49.7647  LR: 0.004103  \n",
      "Epoch: [14][20/58] Elapsed 0m 25s (remain 0m 44s) Loss: 3.4457(4.1251) Grad: 16.1815  LR: 0.004103  \n",
      "Epoch: [14][40/58] Elapsed 0m 46s (remain 0m 19s) Loss: 3.9727(4.4347) Grad: 47.6942  LR: 0.004103  \n",
      "Epoch: [14][57/58] Elapsed 1m 5s (remain 0m 0s) Loss: 3.3014(4.2612) Grad: 11.6929  LR: 0.004103  \n",
      "EVAL: [0/15] Elapsed 0m 2s (remain 0m 41s) Loss: 3.2585(3.2585) \n"
     ]
    },
    {
     "name": "stderr",
     "output_type": "stream",
     "text": [
      "Epoch 14 - avg_train_loss: 4.2612  avg_val_loss: 3.1979  time: 75s\n",
      "Epoch 14 - MAE Score (without expiratory phase): 1.3074\n",
      "Epoch 14 - Save Best Score: 1.3074 Model\n"
     ]
    },
    {
     "name": "stdout",
     "output_type": "stream",
     "text": [
      "EVAL: [14/15] Elapsed 0m 9s (remain 0m 0s) Loss: 3.0718(3.1979) \n",
      "Epoch: [15][0/58] Elapsed 0m 3s (remain 3m 31s) Loss: 3.2940(3.2940) Grad: 10.3580  LR: 0.003979  \n",
      "Epoch: [15][20/58] Elapsed 0m 25s (remain 0m 44s) Loss: 4.3147(3.9135) Grad: 68.7119  LR: 0.003979  \n",
      "Epoch: [15][40/58] Elapsed 0m 46s (remain 0m 19s) Loss: 3.4797(3.8383) Grad: 34.0741  LR: 0.003979  \n",
      "Epoch: [15][57/58] Elapsed 1m 5s (remain 0m 0s) Loss: 4.6725(3.8368) Grad: 72.0604  LR: 0.003979  \n",
      "EVAL: [0/15] Elapsed 0m 2s (remain 0m 41s) Loss: 4.8580(4.8580) \n"
     ]
    },
    {
     "name": "stderr",
     "output_type": "stream",
     "text": [
      "Epoch 15 - avg_train_loss: 3.8368  avg_val_loss: 4.8115  time: 75s\n",
      "Epoch 15 - MAE Score (without expiratory phase): 1.9535\n"
     ]
    },
    {
     "name": "stdout",
     "output_type": "stream",
     "text": [
      "EVAL: [14/15] Elapsed 0m 9s (remain 0m 0s) Loss: 4.7843(4.8115) \n",
      "Epoch: [16][0/58] Elapsed 0m 3s (remain 3m 24s) Loss: 4.8908(4.8908) Grad: 80.7451  LR: 0.003849  \n",
      "Epoch: [16][20/58] Elapsed 0m 25s (remain 0m 44s) Loss: 4.2041(3.9692) Grad: 65.0204  LR: 0.003849  \n",
      "Epoch: [16][40/58] Elapsed 0m 46s (remain 0m 19s) Loss: 4.1179(3.9385) Grad: 65.6187  LR: 0.003849  \n",
      "Epoch: [16][57/58] Elapsed 1m 4s (remain 0m 0s) Loss: 3.5307(3.8730) Grad: 39.9351  LR: 0.003849  \n",
      "EVAL: [0/15] Elapsed 0m 3s (remain 0m 42s) Loss: 3.7149(3.7149) \n"
     ]
    },
    {
     "name": "stderr",
     "output_type": "stream",
     "text": [
      "Epoch 16 - avg_train_loss: 3.8730  avg_val_loss: 3.6063  time: 75s\n",
      "Epoch 16 - MAE Score (without expiratory phase): 1.4372\n"
     ]
    },
    {
     "name": "stdout",
     "output_type": "stream",
     "text": [
      "EVAL: [14/15] Elapsed 0m 9s (remain 0m 0s) Loss: 3.4804(3.6063) \n",
      "Epoch: [17][0/58] Elapsed 0m 3s (remain 3m 35s) Loss: 3.7972(3.7972) Grad: 47.0013  LR: 0.003714  \n",
      "Epoch: [17][20/58] Elapsed 0m 25s (remain 0m 44s) Loss: 3.3323(3.7054) Grad: 38.8222  LR: 0.003714  \n",
      "Epoch: [17][40/58] Elapsed 0m 46s (remain 0m 19s) Loss: 5.5170(3.7432) Grad: 84.4365  LR: 0.003714  \n",
      "Epoch: [17][57/58] Elapsed 1m 5s (remain 0m 0s) Loss: 3.4779(3.9307) Grad: 31.4076  LR: 0.003714  \n",
      "EVAL: [0/15] Elapsed 0m 2s (remain 0m 39s) Loss: 3.5942(3.5942) \n"
     ]
    },
    {
     "name": "stderr",
     "output_type": "stream",
     "text": [
      "Epoch 17 - avg_train_loss: 3.9307  avg_val_loss: 3.5220  time: 75s\n",
      "Epoch 17 - MAE Score (without expiratory phase): 1.4061\n"
     ]
    },
    {
     "name": "stdout",
     "output_type": "stream",
     "text": [
      "EVAL: [14/15] Elapsed 0m 9s (remain 0m 0s) Loss: 3.4361(3.5220) \n",
      "Epoch: [18][0/58] Elapsed 0m 3s (remain 3m 23s) Loss: 3.5927(3.5927) Grad: 41.0157  LR: 0.003574  \n",
      "Epoch: [18][20/58] Elapsed 0m 25s (remain 0m 44s) Loss: 3.5276(3.6568) Grad: 56.4692  LR: 0.003574  \n",
      "Epoch: [18][40/58] Elapsed 0m 46s (remain 0m 19s) Loss: 4.6544(3.6373) Grad: 72.2122  LR: 0.003574  \n",
      "Epoch: [18][57/58] Elapsed 1m 5s (remain 0m 0s) Loss: 3.4826(3.6217) Grad: 46.2487  LR: 0.003574  \n",
      "EVAL: [0/15] Elapsed 0m 2s (remain 0m 41s) Loss: 3.3477(3.3477) \n"
     ]
    },
    {
     "name": "stderr",
     "output_type": "stream",
     "text": [
      "Epoch 18 - avg_train_loss: 3.6217  avg_val_loss: 3.2598  time: 75s\n",
      "Epoch 18 - MAE Score (without expiratory phase): 1.3132\n"
     ]
    },
    {
     "name": "stdout",
     "output_type": "stream",
     "text": [
      "EVAL: [14/15] Elapsed 0m 9s (remain 0m 0s) Loss: 3.1743(3.2598) \n",
      "Epoch: [19][0/58] Elapsed 0m 3s (remain 3m 34s) Loss: 3.4257(3.4257) Grad: 33.4963  LR: 0.003430  \n",
      "Epoch: [19][20/58] Elapsed 0m 25s (remain 0m 44s) Loss: 4.0070(3.4674) Grad: 65.9837  LR: 0.003430  \n",
      "Epoch: [19][40/58] Elapsed 0m 47s (remain 0m 19s) Loss: 3.7929(3.4647) Grad: 60.3691  LR: 0.003430  \n",
      "Epoch: [19][57/58] Elapsed 1m 5s (remain 0m 0s) Loss: 4.0870(3.4792) Grad: 65.0646  LR: 0.003430  \n",
      "EVAL: [0/15] Elapsed 0m 2s (remain 0m 41s) Loss: 3.3233(3.3233) \n"
     ]
    },
    {
     "name": "stderr",
     "output_type": "stream",
     "text": [
      "Epoch 19 - avg_train_loss: 3.4792  avg_val_loss: 3.2425  time: 75s\n",
      "Epoch 19 - MAE Score (without expiratory phase): 1.3025\n",
      "Epoch 19 - Save Best Score: 1.3025 Model\n"
     ]
    },
    {
     "name": "stdout",
     "output_type": "stream",
     "text": [
      "EVAL: [14/15] Elapsed 0m 9s (remain 0m 0s) Loss: 3.1626(3.2425) \n",
      "Epoch: [20][0/58] Elapsed 0m 3s (remain 3m 25s) Loss: 3.3047(3.3047) Grad: 40.9643  LR: 0.003282  \n",
      "Epoch: [20][20/58] Elapsed 0m 25s (remain 0m 44s) Loss: 3.7081(3.2699) Grad: 64.9763  LR: 0.003282  \n",
      "Epoch: [20][40/58] Elapsed 0m 46s (remain 0m 19s) Loss: 5.5745(3.4796) Grad: 81.7947  LR: 0.003282  \n",
      "Epoch: [20][57/58] Elapsed 1m 5s (remain 0m 0s) Loss: 4.6349(3.7089) Grad: 69.1411  LR: 0.003282  \n",
      "EVAL: [0/15] Elapsed 0m 2s (remain 0m 40s) Loss: 3.1731(3.1731) \n"
     ]
    },
    {
     "name": "stderr",
     "output_type": "stream",
     "text": [
      "Epoch 20 - avg_train_loss: 3.7089  avg_val_loss: 3.0796  time: 75s\n",
      "Epoch 20 - MAE Score (without expiratory phase): 1.2545\n",
      "Epoch 20 - Save Best Score: 1.2545 Model\n"
     ]
    },
    {
     "name": "stdout",
     "output_type": "stream",
     "text": [
      "EVAL: [14/15] Elapsed 0m 9s (remain 0m 0s) Loss: 2.9818(3.0796) \n",
      "Epoch: [21][0/58] Elapsed 0m 3s (remain 3m 32s) Loss: 3.1989(3.1989) Grad: 21.2598  LR: 0.003132  \n",
      "Epoch: [21][20/58] Elapsed 0m 25s (remain 0m 44s) Loss: 3.5427(3.6646) Grad: 50.9413  LR: 0.003132  \n",
      "Epoch: [21][40/58] Elapsed 0m 47s (remain 0m 19s) Loss: 3.2318(3.4374) Grad: 47.8068  LR: 0.003132  \n",
      "Epoch: [21][57/58] Elapsed 1m 5s (remain 0m 0s) Loss: 3.8862(3.3830) Grad: 68.2741  LR: 0.003132  \n",
      "EVAL: [0/15] Elapsed 0m 2s (remain 0m 40s) Loss: 3.2115(3.2115) \n"
     ]
    },
    {
     "name": "stderr",
     "output_type": "stream",
     "text": [
      "Epoch 21 - avg_train_loss: 3.3830  avg_val_loss: 3.1809  time: 75s\n",
      "Epoch 21 - MAE Score (without expiratory phase): 1.2966\n"
     ]
    },
    {
     "name": "stdout",
     "output_type": "stream",
     "text": [
      "EVAL: [14/15] Elapsed 0m 9s (remain 0m 0s) Loss: 3.1516(3.1809) \n",
      "Epoch: [22][0/58] Elapsed 0m 3s (remain 3m 32s) Loss: 3.2252(3.2252) Grad: 54.1325  LR: 0.002978  \n",
      "Epoch: [22][20/58] Elapsed 0m 25s (remain 0m 44s) Loss: 3.1347(3.0917) Grad: 44.2275  LR: 0.002978  \n",
      "Epoch: [22][40/58] Elapsed 0m 47s (remain 0m 19s) Loss: 3.3140(3.1344) Grad: 50.5873  LR: 0.002978  \n",
      "Epoch: [22][57/58] Elapsed 1m 5s (remain 0m 0s) Loss: 3.7473(3.1816) Grad: 66.7325  LR: 0.002978  \n",
      "EVAL: [0/15] Elapsed 0m 3s (remain 0m 42s) Loss: 3.5855(3.5855) \n"
     ]
    },
    {
     "name": "stderr",
     "output_type": "stream",
     "text": [
      "Epoch 22 - avg_train_loss: 3.1816  avg_val_loss: 3.5315  time: 76s\n",
      "Epoch 22 - MAE Score (without expiratory phase): 1.3838\n"
     ]
    },
    {
     "name": "stdout",
     "output_type": "stream",
     "text": [
      "EVAL: [14/15] Elapsed 0m 10s (remain 0m 0s) Loss: 3.4945(3.5315) \n",
      "Epoch: [23][0/58] Elapsed 0m 3s (remain 3m 37s) Loss: 3.6112(3.6112) Grad: 65.8890  LR: 0.002823  \n",
      "Epoch: [23][20/58] Elapsed 0m 25s (remain 0m 45s) Loss: 3.3761(3.6460) Grad: 45.8980  LR: 0.002823  \n",
      "Epoch: [23][40/58] Elapsed 0m 47s (remain 0m 19s) Loss: 2.8335(3.4765) Grad: 11.1975  LR: 0.002823  \n",
      "Epoch: [23][57/58] Elapsed 1m 5s (remain 0m 0s) Loss: 2.9351(3.5496) Grad: 15.4237  LR: 0.002823  \n",
      "EVAL: [0/15] Elapsed 0m 3s (remain 0m 43s) Loss: 3.3633(3.3633) \n"
     ]
    },
    {
     "name": "stderr",
     "output_type": "stream",
     "text": [
      "Epoch 23 - avg_train_loss: 3.5496  avg_val_loss: 3.2531  time: 76s\n",
      "Epoch 23 - MAE Score (without expiratory phase): 1.3241\n"
     ]
    },
    {
     "name": "stdout",
     "output_type": "stream",
     "text": [
      "EVAL: [14/15] Elapsed 0m 10s (remain 0m 0s) Loss: 3.1465(3.2531) \n",
      "Epoch: [24][0/58] Elapsed 0m 3s (remain 3m 27s) Loss: 3.3066(3.3066) Grad: 49.2692  LR: 0.002667  \n",
      "Epoch: [24][20/58] Elapsed 0m 25s (remain 0m 44s) Loss: 2.7968(2.9237) Grad: 11.3404  LR: 0.002667  \n",
      "Epoch: [24][40/58] Elapsed 0m 47s (remain 0m 19s) Loss: 2.8049(2.9354) Grad: 8.7547  LR: 0.002667  \n",
      "Epoch: [24][57/58] Elapsed 1m 5s (remain 0m 0s) Loss: 2.9987(2.9593) Grad: 50.4070  LR: 0.002667  \n",
      "EVAL: [0/15] Elapsed 0m 2s (remain 0m 40s) Loss: 3.4004(3.4004) \n"
     ]
    },
    {
     "name": "stderr",
     "output_type": "stream",
     "text": [
      "Epoch 24 - avg_train_loss: 2.9593  avg_val_loss: 3.3107  time: 76s\n",
      "Epoch 24 - MAE Score (without expiratory phase): 1.3686\n"
     ]
    },
    {
     "name": "stdout",
     "output_type": "stream",
     "text": [
      "EVAL: [14/15] Elapsed 0m 9s (remain 0m 0s) Loss: 3.2018(3.3107) \n",
      "Epoch: [25][0/58] Elapsed 0m 3s (remain 3m 33s) Loss: 3.3313(3.3313) Grad: 61.6953  LR: 0.002510  \n",
      "Epoch: [25][20/58] Elapsed 0m 25s (remain 0m 44s) Loss: 2.5786(2.9565) Grad: 16.4304  LR: 0.002510  \n",
      "Epoch: [25][40/58] Elapsed 0m 47s (remain 0m 19s) Loss: 3.3733(2.9536) Grad: 65.1424  LR: 0.002510  \n",
      "Epoch: [25][57/58] Elapsed 1m 5s (remain 0m 0s) Loss: 3.3082(3.0711) Grad: 44.8018  LR: 0.002510  \n",
      "EVAL: [0/15] Elapsed 0m 2s (remain 0m 40s) Loss: 2.9782(2.9782) \n"
     ]
    },
    {
     "name": "stderr",
     "output_type": "stream",
     "text": [
      "Epoch 25 - avg_train_loss: 3.0711  avg_val_loss: 2.9146  time: 76s\n",
      "Epoch 25 - MAE Score (without expiratory phase): 1.1441\n",
      "Epoch 25 - Save Best Score: 1.1441 Model\n"
     ]
    },
    {
     "name": "stdout",
     "output_type": "stream",
     "text": [
      "EVAL: [14/15] Elapsed 0m 9s (remain 0m 0s) Loss: 2.8533(2.9146) \n",
      "Epoch: [26][0/58] Elapsed 0m 3s (remain 3m 29s) Loss: 2.9835(2.9835) Grad: 39.9628  LR: 0.002353  \n",
      "Epoch: [26][20/58] Elapsed 0m 25s (remain 0m 44s) Loss: 3.6257(3.3597) Grad: 40.4772  LR: 0.002353  \n",
      "Epoch: [26][40/58] Elapsed 0m 47s (remain 0m 19s) Loss: 2.7433(3.1970) Grad: 28.9852  LR: 0.002353  \n",
      "Epoch: [26][57/58] Elapsed 1m 5s (remain 0m 0s) Loss: 2.9391(3.0957) Grad: 44.6898  LR: 0.002353  \n",
      "EVAL: [0/15] Elapsed 0m 3s (remain 0m 42s) Loss: 2.7501(2.7501) \n"
     ]
    },
    {
     "name": "stderr",
     "output_type": "stream",
     "text": [
      "Epoch 26 - avg_train_loss: 3.0957  avg_val_loss: 2.6627  time: 76s\n",
      "Epoch 26 - MAE Score (without expiratory phase): 1.0674\n",
      "Epoch 26 - Save Best Score: 1.0674 Model\n"
     ]
    },
    {
     "name": "stdout",
     "output_type": "stream",
     "text": [
      "EVAL: [14/15] Elapsed 0m 9s (remain 0m 0s) Loss: 2.5673(2.6627) \n",
      "Epoch: [27][0/58] Elapsed 0m 3s (remain 3m 27s) Loss: 2.6975(2.6975) Grad: 25.9291  LR: 0.002196  \n",
      "Epoch: [27][20/58] Elapsed 0m 25s (remain 0m 44s) Loss: 2.6895(2.7241) Grad: 36.4483  LR: 0.002196  \n",
      "Epoch: [27][40/58] Elapsed 0m 47s (remain 0m 19s) Loss: 2.8072(2.7673) Grad: 27.4948  LR: 0.002196  \n",
      "Epoch: [27][57/58] Elapsed 1m 5s (remain 0m 0s) Loss: 2.9419(2.7664) Grad: 43.9792  LR: 0.002196  \n",
      "EVAL: [0/15] Elapsed 0m 3s (remain 0m 43s) Loss: 2.6395(2.6395) \n"
     ]
    },
    {
     "name": "stderr",
     "output_type": "stream",
     "text": [
      "Epoch 27 - avg_train_loss: 2.7664  avg_val_loss: 2.5710  time: 76s\n",
      "Epoch 27 - MAE Score (without expiratory phase): 1.0504\n",
      "Epoch 27 - Save Best Score: 1.0504 Model\n"
     ]
    },
    {
     "name": "stdout",
     "output_type": "stream",
     "text": [
      "EVAL: [14/15] Elapsed 0m 9s (remain 0m 0s) Loss: 2.5108(2.5710) \n",
      "Epoch: [28][0/58] Elapsed 0m 3s (remain 3m 35s) Loss: 2.6378(2.6378) Grad: 24.0933  LR: 0.002041  \n",
      "Epoch: [28][20/58] Elapsed 0m 25s (remain 0m 44s) Loss: 2.7640(2.8964) Grad: 22.7280  LR: 0.002041  \n",
      "Epoch: [28][40/58] Elapsed 0m 47s (remain 0m 19s) Loss: 2.6513(2.8650) Grad: 21.5173  LR: 0.002041  \n",
      "Epoch: [28][57/58] Elapsed 1m 5s (remain 0m 0s) Loss: 2.7010(2.8168) Grad: 23.8368  LR: 0.002041  \n",
      "EVAL: [0/15] Elapsed 0m 2s (remain 0m 41s) Loss: 2.5178(2.5178) \n"
     ]
    },
    {
     "name": "stderr",
     "output_type": "stream",
     "text": [
      "Epoch 28 - avg_train_loss: 2.8168  avg_val_loss: 2.4382  time: 76s\n",
      "Epoch 28 - MAE Score (without expiratory phase): 0.9972\n",
      "Epoch 28 - Save Best Score: 0.9972 Model\n"
     ]
    },
    {
     "name": "stdout",
     "output_type": "stream",
     "text": [
      "EVAL: [14/15] Elapsed 0m 9s (remain 0m 0s) Loss: 2.3680(2.4382) \n",
      "Epoch: [29][0/58] Elapsed 0m 3s (remain 3m 29s) Loss: 2.5123(2.5123) Grad: 10.9916  LR: 0.001888  \n",
      "Epoch: [29][20/58] Elapsed 0m 25s (remain 0m 44s) Loss: 2.5710(2.5484) Grad: 22.0075  LR: 0.001888  \n",
      "Epoch: [29][40/58] Elapsed 0m 47s (remain 0m 19s) Loss: 2.9642(2.6121) Grad: 51.0200  LR: 0.001888  \n",
      "Epoch: [29][57/58] Elapsed 1m 5s (remain 0m 0s) Loss: 2.6464(2.6283) Grad: 31.3169  LR: 0.001888  \n",
      "EVAL: [0/15] Elapsed 0m 2s (remain 0m 40s) Loss: 2.4768(2.4768) \n"
     ]
    },
    {
     "name": "stderr",
     "output_type": "stream",
     "text": [
      "Epoch 29 - avg_train_loss: 2.6283  avg_val_loss: 2.4117  time: 75s\n",
      "Epoch 29 - MAE Score (without expiratory phase): 0.9847\n",
      "Epoch 29 - Save Best Score: 0.9847 Model\n"
     ]
    },
    {
     "name": "stdout",
     "output_type": "stream",
     "text": [
      "EVAL: [14/15] Elapsed 0m 9s (remain 0m 0s) Loss: 2.3600(2.4117) \n",
      "Epoch: [30][0/58] Elapsed 0m 3s (remain 3m 26s) Loss: 2.4516(2.4516) Grad: 14.8115  LR: 0.001737  \n",
      "Epoch: [30][20/58] Elapsed 0m 25s (remain 0m 44s) Loss: 2.5701(2.6585) Grad: 34.0407  LR: 0.001737  \n",
      "Epoch: [30][40/58] Elapsed 0m 47s (remain 0m 19s) Loss: 2.4803(2.6420) Grad: 20.8386  LR: 0.001737  \n",
      "Epoch: [30][57/58] Elapsed 1m 5s (remain 0m 0s) Loss: 2.7930(2.6405) Grad: 41.7913  LR: 0.001737  \n",
      "EVAL: [0/15] Elapsed 0m 3s (remain 0m 42s) Loss: 2.5769(2.5769) \n"
     ]
    },
    {
     "name": "stderr",
     "output_type": "stream",
     "text": [
      "Epoch 30 - avg_train_loss: 2.6405  avg_val_loss: 2.5124  time: 76s\n",
      "Epoch 30 - MAE Score (without expiratory phase): 1.0086\n"
     ]
    },
    {
     "name": "stdout",
     "output_type": "stream",
     "text": [
      "EVAL: [14/15] Elapsed 0m 9s (remain 0m 0s) Loss: 2.4540(2.5124) \n"
     ]
    },
    {
     "name": "stderr",
     "output_type": "stream",
     "text": [
      "========== fold: 1 result ==========\n",
      "Score (without expiratory phase): 0.9847\n",
      "========== fold: 2 training ==========\n"
     ]
    },
    {
     "name": "stdout",
     "output_type": "stream",
     "text": [
      "init LSTM(1024, 1024, batch_first=True, dropout=0.2, bidirectional=True)\n",
      "init LSTM(2048, 512, batch_first=True, dropout=0.2, bidirectional=True)\n",
      "Epoch: [1][0/58] Elapsed 0m 3s (remain 3m 29s) Loss: 41.0453(41.0453) Grad: 100.0238  LR: 0.005000  \n",
      "Epoch: [1][20/58] Elapsed 0m 25s (remain 0m 44s) Loss: 22.4674(23.0266) Grad: 5.1796  LR: 0.005000  \n",
      "Epoch: [1][40/58] Elapsed 0m 47s (remain 0m 19s) Loss: 21.2969(22.3586) Grad: 0.1649  LR: 0.005000  \n",
      "Epoch: [1][57/58] Elapsed 1m 5s (remain 0m 0s) Loss: 21.7994(22.1009) Grad: 2.5172  LR: 0.005000  \n",
      "EVAL: [0/15] Elapsed 0m 2s (remain 0m 40s) Loss: 22.3628(22.3628) \n"
     ]
    },
    {
     "name": "stderr",
     "output_type": "stream",
     "text": [
      "Epoch 1 - avg_train_loss: 22.1009  avg_val_loss: 21.5981  time: 75s\n",
      "Epoch 1 - MAE Score (without expiratory phase): 8.7530\n",
      "Epoch 1 - Save Best Score: 8.7530 Model\n"
     ]
    },
    {
     "name": "stdout",
     "output_type": "stream",
     "text": [
      "EVAL: [14/15] Elapsed 0m 9s (remain 0m 0s) Loss: 21.5639(21.5981) \n",
      "Epoch: [2][0/58] Elapsed 0m 3s (remain 3m 35s) Loss: 21.1430(21.1430) Grad: 1.2096  LR: 0.004990  \n",
      "Epoch: [2][20/58] Elapsed 0m 25s (remain 0m 44s) Loss: 20.9734(21.5360) Grad: 1.9646  LR: 0.004990  \n",
      "Epoch: [2][40/58] Elapsed 0m 46s (remain 0m 19s) Loss: 21.3115(21.5583) Grad: 2.9399  LR: 0.004990  \n",
      "Epoch: [2][57/58] Elapsed 1m 5s (remain 0m 0s) Loss: 21.1342(21.4414) Grad: 0.9412  LR: 0.004990  \n",
      "EVAL: [0/15] Elapsed 0m 2s (remain 0m 41s) Loss: 21.7973(21.7973) \n"
     ]
    },
    {
     "name": "stderr",
     "output_type": "stream",
     "text": [
      "Epoch 2 - avg_train_loss: 21.4414  avg_val_loss: 21.0278  time: 75s\n",
      "Epoch 2 - MAE Score (without expiratory phase): 8.6759\n",
      "Epoch 2 - Save Best Score: 8.6759 Model\n"
     ]
    },
    {
     "name": "stdout",
     "output_type": "stream",
     "text": [
      "EVAL: [14/15] Elapsed 0m 9s (remain 0m 0s) Loss: 20.9827(21.0278) \n",
      "Epoch: [3][0/58] Elapsed 0m 3s (remain 3m 29s) Loss: 20.9347(20.9347) Grad: 0.9804  LR: 0.004966  \n",
      "Epoch: [3][20/58] Elapsed 0m 25s (remain 0m 44s) Loss: 18.6342(20.1343) Grad: 8.4359  LR: 0.004966  \n",
      "Epoch: [3][40/58] Elapsed 0m 46s (remain 0m 19s) Loss: 16.5061(19.1988) Grad: 16.2190  LR: 0.004966  \n",
      "Epoch: [3][57/58] Elapsed 1m 5s (remain 0m 0s) Loss: 12.3950(18.0315) Grad: 20.9162  LR: 0.004966  \n",
      "EVAL: [0/15] Elapsed 0m 2s (remain 0m 41s) Loss: 13.4752(13.4752) \n"
     ]
    },
    {
     "name": "stderr",
     "output_type": "stream",
     "text": [
      "Epoch 3 - avg_train_loss: 18.0315  avg_val_loss: 13.0212  time: 76s\n",
      "Epoch 3 - MAE Score (without expiratory phase): 5.7924\n",
      "Epoch 3 - Save Best Score: 5.7924 Model\n"
     ]
    },
    {
     "name": "stdout",
     "output_type": "stream",
     "text": [
      "EVAL: [14/15] Elapsed 0m 9s (remain 0m 0s) Loss: 12.9025(13.0212) \n",
      "Epoch: [4][0/58] Elapsed 0m 3s (remain 3m 30s) Loss: 13.3597(13.3597) Grad: 44.5901  LR: 0.004931  \n",
      "Epoch: [4][20/58] Elapsed 0m 25s (remain 0m 44s) Loss: 14.2722(12.4619) Grad: 54.3480  LR: 0.004931  \n",
      "Epoch: [4][40/58] Elapsed 0m 47s (remain 0m 19s) Loss: 11.9688(12.2077) Grad: 40.2468  LR: 0.004931  \n",
      "Epoch: [4][57/58] Elapsed 1m 5s (remain 0m 0s) Loss: 7.8914(11.4659) Grad: 24.7585  LR: 0.004931  \n",
      "EVAL: [0/15] Elapsed 0m 2s (remain 0m 40s) Loss: 10.4642(10.4642) \n"
     ]
    },
    {
     "name": "stderr",
     "output_type": "stream",
     "text": [
      "Epoch 4 - avg_train_loss: 11.4659  avg_val_loss: 10.0833  time: 76s\n",
      "Epoch 4 - MAE Score (without expiratory phase): 4.3063\n",
      "Epoch 4 - Save Best Score: 4.3063 Model\n"
     ]
    },
    {
     "name": "stdout",
     "output_type": "stream",
     "text": [
      "EVAL: [14/15] Elapsed 0m 9s (remain 0m 0s) Loss: 10.0658(10.0833) \n",
      "Epoch: [5][0/58] Elapsed 0m 3s (remain 3m 26s) Loss: 10.1376(10.1376) Grad: 61.4009  LR: 0.004887  \n",
      "Epoch: [5][20/58] Elapsed 0m 25s (remain 0m 44s) Loss: 8.5743(10.6101) Grad: 16.8230  LR: 0.004887  \n",
      "Epoch: [5][40/58] Elapsed 0m 47s (remain 0m 19s) Loss: 8.1722(9.6369) Grad: 45.0883  LR: 0.004887  \n",
      "Epoch: [5][57/58] Elapsed 1m 5s (remain 0m 0s) Loss: 8.4685(9.6900) Grad: 36.7500  LR: 0.004887  \n",
      "EVAL: [0/15] Elapsed 0m 2s (remain 0m 41s) Loss: 7.5006(7.5006) \n"
     ]
    },
    {
     "name": "stderr",
     "output_type": "stream",
     "text": [
      "Epoch 5 - avg_train_loss: 9.6900  avg_val_loss: 7.0853  time: 76s\n",
      "Epoch 5 - MAE Score (without expiratory phase): 3.0937\n",
      "Epoch 5 - Save Best Score: 3.0937 Model\n"
     ]
    },
    {
     "name": "stdout",
     "output_type": "stream",
     "text": [
      "EVAL: [14/15] Elapsed 0m 9s (remain 0m 0s) Loss: 7.0838(7.0853) \n",
      "Epoch: [6][0/58] Elapsed 0m 3s (remain 3m 33s) Loss: 7.1721(7.1721) Grad: 11.2510  LR: 0.004834  \n",
      "Epoch: [6][20/58] Elapsed 0m 25s (remain 0m 45s) Loss: 7.6785(7.4445) Grad: 62.9063  LR: 0.004834  \n",
      "Epoch: [6][40/58] Elapsed 0m 47s (remain 0m 19s) Loss: 5.8114(7.4055) Grad: 17.0070  LR: 0.004834  \n",
      "Epoch: [6][57/58] Elapsed 1m 5s (remain 0m 0s) Loss: 7.3107(7.2432) Grad: 48.1861  LR: 0.004834  \n",
      "EVAL: [0/15] Elapsed 0m 2s (remain 0m 41s) Loss: 9.4860(9.4860) \n"
     ]
    },
    {
     "name": "stderr",
     "output_type": "stream",
     "text": [
      "Epoch 6 - avg_train_loss: 7.2432  avg_val_loss: 9.2417  time: 76s\n",
      "Epoch 6 - MAE Score (without expiratory phase): 3.6985\n"
     ]
    },
    {
     "name": "stdout",
     "output_type": "stream",
     "text": [
      "EVAL: [14/15] Elapsed 0m 9s (remain 0m 0s) Loss: 9.3315(9.2417) \n",
      "Epoch: [7][0/58] Elapsed 0m 3s (remain 3m 30s) Loss: 9.4195(9.4195) Grad: 82.2315  LR: 0.004772  \n",
      "Epoch: [7][20/58] Elapsed 0m 25s (remain 0m 44s) Loss: 5.3245(6.4031) Grad: 35.1046  LR: 0.004772  \n",
      "Epoch: [7][40/58] Elapsed 0m 47s (remain 0m 19s) Loss: 6.8357(6.2751) Grad: 75.2774  LR: 0.004772  \n",
      "Epoch: [7][57/58] Elapsed 1m 5s (remain 0m 0s) Loss: 6.7786(6.3744) Grad: 65.5012  LR: 0.004772  \n",
      "EVAL: [0/15] Elapsed 0m 2s (remain 0m 41s) Loss: 7.2991(7.2991) \n"
     ]
    },
    {
     "name": "stderr",
     "output_type": "stream",
     "text": [
      "Epoch 7 - avg_train_loss: 6.3744  avg_val_loss: 7.0265  time: 76s\n",
      "Epoch 7 - MAE Score (without expiratory phase): 2.8206\n",
      "Epoch 7 - Save Best Score: 2.8206 Model\n"
     ]
    },
    {
     "name": "stdout",
     "output_type": "stream",
     "text": [
      "EVAL: [14/15] Elapsed 0m 10s (remain 0m 0s) Loss: 7.1019(7.0265) \n",
      "Epoch: [8][0/58] Elapsed 0m 3s (remain 3m 36s) Loss: 7.1231(7.1231) Grad: 67.2547  LR: 0.004701  \n",
      "Epoch: [8][20/58] Elapsed 0m 25s (remain 0m 45s) Loss: 4.6564(5.6366) Grad: 21.0043  LR: 0.004701  \n",
      "Epoch: [8][40/58] Elapsed 0m 47s (remain 0m 19s) Loss: 5.3040(5.5330) Grad: 54.7192  LR: 0.004701  \n",
      "Epoch: [8][57/58] Elapsed 1m 5s (remain 0m 0s) Loss: 5.5255(5.4896) Grad: 56.1420  LR: 0.004701  \n",
      "EVAL: [0/15] Elapsed 0m 2s (remain 0m 41s) Loss: 6.9481(6.9481) \n"
     ]
    },
    {
     "name": "stderr",
     "output_type": "stream",
     "text": [
      "Epoch 8 - avg_train_loss: 5.4896  avg_val_loss: 6.7799  time: 76s\n",
      "Epoch 8 - MAE Score (without expiratory phase): 2.7345\n",
      "Epoch 8 - Save Best Score: 2.7345 Model\n"
     ]
    },
    {
     "name": "stdout",
     "output_type": "stream",
     "text": [
      "EVAL: [14/15] Elapsed 0m 9s (remain 0m 0s) Loss: 6.7949(6.7799) \n",
      "Epoch: [9][0/58] Elapsed 0m 3s (remain 3m 31s) Loss: 6.8801(6.8801) Grad: 88.5377  LR: 0.004621  \n",
      "Epoch: [9][20/58] Elapsed 0m 25s (remain 0m 44s) Loss: 6.4830(5.2878) Grad: 76.3788  LR: 0.004621  \n",
      "Epoch: [9][40/58] Elapsed 0m 47s (remain 0m 19s) Loss: 6.9334(5.1738) Grad: 84.9911  LR: 0.004621  \n",
      "Epoch: [9][57/58] Elapsed 1m 5s (remain 0m 0s) Loss: 4.6442(5.1660) Grad: 42.6727  LR: 0.004621  \n",
      "EVAL: [0/15] Elapsed 0m 2s (remain 0m 40s) Loss: 6.1435(6.1435) \n"
     ]
    },
    {
     "name": "stderr",
     "output_type": "stream",
     "text": [
      "Epoch 9 - avg_train_loss: 5.1660  avg_val_loss: 5.9235  time: 76s\n",
      "Epoch 9 - MAE Score (without expiratory phase): 2.4486\n",
      "Epoch 9 - Save Best Score: 2.4486 Model\n"
     ]
    },
    {
     "name": "stdout",
     "output_type": "stream",
     "text": [
      "EVAL: [14/15] Elapsed 0m 9s (remain 0m 0s) Loss: 6.1371(5.9235) \n",
      "Epoch: [10][0/58] Elapsed 0m 3s (remain 3m 27s) Loss: 6.1859(6.1859) Grad: 82.9858  LR: 0.004532  \n",
      "Epoch: [10][20/58] Elapsed 0m 25s (remain 0m 44s) Loss: 4.5706(5.3473) Grad: 26.2170  LR: 0.004532  \n",
      "Epoch: [10][40/58] Elapsed 0m 47s (remain 0m 19s) Loss: 6.0441(5.1219) Grad: 83.9896  LR: 0.004532  \n",
      "Epoch: [10][57/58] Elapsed 1m 5s (remain 0m 0s) Loss: 6.7170(5.0535) Grad: 81.8781  LR: 0.004532  \n",
      "EVAL: [0/15] Elapsed 0m 2s (remain 0m 41s) Loss: 4.5540(4.5540) \n"
     ]
    },
    {
     "name": "stderr",
     "output_type": "stream",
     "text": [
      "Epoch 10 - avg_train_loss: 5.0535  avg_val_loss: 4.3324  time: 76s\n",
      "Epoch 10 - MAE Score (without expiratory phase): 1.7997\n",
      "Epoch 10 - Save Best Score: 1.7997 Model\n"
     ]
    },
    {
     "name": "stdout",
     "output_type": "stream",
     "text": [
      "EVAL: [14/15] Elapsed 0m 9s (remain 0m 0s) Loss: 4.4506(4.3324) \n",
      "Epoch: [11][0/58] Elapsed 0m 3s (remain 3m 35s) Loss: 4.3169(4.3169) Grad: 37.9593  LR: 0.004436  \n",
      "Epoch: [11][20/58] Elapsed 0m 25s (remain 0m 45s) Loss: 4.8217(5.1742) Grad: 44.9083  LR: 0.004436  \n",
      "Epoch: [11][40/58] Elapsed 0m 47s (remain 0m 19s) Loss: 4.0426(4.8298) Grad: 43.7727  LR: 0.004436  \n",
      "Epoch: [11][57/58] Elapsed 1m 6s (remain 0m 0s) Loss: 4.6364(4.9600) Grad: 42.4745  LR: 0.004436  \n",
      "EVAL: [0/15] Elapsed 0m 2s (remain 0m 41s) Loss: 5.2834(5.2834) \n"
     ]
    },
    {
     "name": "stderr",
     "output_type": "stream",
     "text": [
      "Epoch 11 - avg_train_loss: 4.9600  avg_val_loss: 5.0466  time: 76s\n",
      "Epoch 11 - MAE Score (without expiratory phase): 2.0841\n"
     ]
    },
    {
     "name": "stdout",
     "output_type": "stream",
     "text": [
      "EVAL: [14/15] Elapsed 0m 9s (remain 0m 0s) Loss: 5.0795(5.0466) \n",
      "Epoch: [12][0/58] Elapsed 0m 3s (remain 3m 36s) Loss: 5.1304(5.1304) Grad: 63.0252  LR: 0.004332  \n",
      "Epoch: [12][20/58] Elapsed 0m 25s (remain 0m 45s) Loss: 4.0050(4.3710) Grad: 42.4336  LR: 0.004332  \n",
      "Epoch: [12][40/58] Elapsed 0m 47s (remain 0m 19s) Loss: 3.9271(4.3638) Grad: 33.2938  LR: 0.004332  \n",
      "Epoch: [12][57/58] Elapsed 1m 6s (remain 0m 0s) Loss: 4.0774(4.3726) Grad: 50.5097  LR: 0.004332  \n",
      "EVAL: [0/15] Elapsed 0m 3s (remain 0m 42s) Loss: 3.7756(3.7756) \n"
     ]
    },
    {
     "name": "stderr",
     "output_type": "stream",
     "text": [
      "Epoch 12 - avg_train_loss: 4.3726  avg_val_loss: 3.6048  time: 76s\n",
      "Epoch 12 - MAE Score (without expiratory phase): 1.4805\n",
      "Epoch 12 - Save Best Score: 1.4805 Model\n"
     ]
    },
    {
     "name": "stdout",
     "output_type": "stream",
     "text": [
      "EVAL: [14/15] Elapsed 0m 9s (remain 0m 0s) Loss: 3.6830(3.6048) \n",
      "Epoch: [13][0/58] Elapsed 0m 3s (remain 3m 38s) Loss: 3.7645(3.7645) Grad: 19.8591  LR: 0.004221  \n",
      "Epoch: [13][20/58] Elapsed 0m 25s (remain 0m 45s) Loss: 3.5384(4.3868) Grad: 14.4916  LR: 0.004221  \n",
      "Epoch: [13][40/58] Elapsed 0m 47s (remain 0m 19s) Loss: 4.1394(4.4273) Grad: 54.9368  LR: 0.004221  \n",
      "Epoch: [13][57/58] Elapsed 1m 6s (remain 0m 0s) Loss: 4.9852(4.3630) Grad: 81.9746  LR: 0.004221  \n",
      "EVAL: [0/15] Elapsed 0m 2s (remain 0m 39s) Loss: 4.2362(4.2362) \n"
     ]
    },
    {
     "name": "stderr",
     "output_type": "stream",
     "text": [
      "Epoch 13 - avg_train_loss: 4.3630  avg_val_loss: 4.1042  time: 76s\n",
      "Epoch 13 - MAE Score (without expiratory phase): 1.6469\n"
     ]
    },
    {
     "name": "stdout",
     "output_type": "stream",
     "text": [
      "EVAL: [14/15] Elapsed 0m 9s (remain 0m 0s) Loss: 4.2503(4.1042) \n",
      "Epoch: [14][0/58] Elapsed 0m 3s (remain 3m 31s) Loss: 4.1054(4.1054) Grad: 56.7208  LR: 0.004103  \n",
      "Epoch: [14][20/58] Elapsed 0m 25s (remain 0m 45s) Loss: 5.2522(4.1597) Grad: 74.9793  LR: 0.004103  \n",
      "Epoch: [14][40/58] Elapsed 0m 47s (remain 0m 19s) Loss: 4.3728(4.2014) Grad: 67.2458  LR: 0.004103  \n",
      "Epoch: [14][57/58] Elapsed 1m 5s (remain 0m 0s) Loss: 4.8426(4.1753) Grad: 82.7455  LR: 0.004103  \n",
      "EVAL: [0/15] Elapsed 0m 2s (remain 0m 40s) Loss: 4.3915(4.3915) \n"
     ]
    },
    {
     "name": "stderr",
     "output_type": "stream",
     "text": [
      "Epoch 14 - avg_train_loss: 4.1753  avg_val_loss: 4.2338  time: 76s\n",
      "Epoch 14 - MAE Score (without expiratory phase): 1.6799\n"
     ]
    },
    {
     "name": "stdout",
     "output_type": "stream",
     "text": [
      "EVAL: [14/15] Elapsed 0m 9s (remain 0m 0s) Loss: 4.2229(4.2338) \n",
      "Epoch: [15][0/58] Elapsed 0m 3s (remain 3m 33s) Loss: 4.3807(4.3807) Grad: 75.3647  LR: 0.003979  \n",
      "Epoch: [15][20/58] Elapsed 0m 25s (remain 0m 45s) Loss: 4.3203(4.0659) Grad: 62.6431  LR: 0.003979  \n",
      "Epoch: [15][40/58] Elapsed 0m 47s (remain 0m 19s) Loss: 3.3329(3.9136) Grad: 16.6574  LR: 0.003979  \n",
      "Epoch: [15][57/58] Elapsed 1m 5s (remain 0m 0s) Loss: 5.8581(3.9724) Grad: 89.5791  LR: 0.003979  \n",
      "EVAL: [0/15] Elapsed 0m 3s (remain 0m 43s) Loss: 3.7507(3.7507) \n"
     ]
    },
    {
     "name": "stderr",
     "output_type": "stream",
     "text": [
      "Epoch 15 - avg_train_loss: 3.9724  avg_val_loss: 3.6172  time: 76s\n",
      "Epoch 15 - MAE Score (without expiratory phase): 1.5113\n"
     ]
    },
    {
     "name": "stdout",
     "output_type": "stream",
     "text": [
      "EVAL: [14/15] Elapsed 0m 9s (remain 0m 0s) Loss: 3.6284(3.6172) \n",
      "Epoch: [16][0/58] Elapsed 0m 3s (remain 3m 24s) Loss: 3.5666(3.5666) Grad: 40.5926  LR: 0.003849  \n",
      "Epoch: [16][20/58] Elapsed 0m 25s (remain 0m 44s) Loss: 5.1153(4.7813) Grad: 84.0220  LR: 0.003849  \n",
      "Epoch: [16][40/58] Elapsed 0m 47s (remain 0m 19s) Loss: 3.5209(4.5442) Grad: 38.2645  LR: 0.003849  \n",
      "Epoch: [16][57/58] Elapsed 1m 5s (remain 0m 0s) Loss: 3.7970(4.3533) Grad: 52.4727  LR: 0.003849  \n",
      "EVAL: [0/15] Elapsed 0m 2s (remain 0m 41s) Loss: 4.4126(4.4126) \n"
     ]
    },
    {
     "name": "stderr",
     "output_type": "stream",
     "text": [
      "Epoch 16 - avg_train_loss: 4.3533  avg_val_loss: 4.2031  time: 76s\n",
      "Epoch 16 - MAE Score (without expiratory phase): 1.7794\n"
     ]
    },
    {
     "name": "stdout",
     "output_type": "stream",
     "text": [
      "EVAL: [14/15] Elapsed 0m 9s (remain 0m 0s) Loss: 4.3411(4.2031) \n",
      "Epoch: [17][0/58] Elapsed 0m 3s (remain 3m 28s) Loss: 4.1600(4.1600) Grad: 68.3957  LR: 0.003714  \n",
      "Epoch: [17][20/58] Elapsed 0m 25s (remain 0m 44s) Loss: 3.4323(3.6475) Grad: 32.2720  LR: 0.003714  \n",
      "Epoch: [17][40/58] Elapsed 0m 47s (remain 0m 19s) Loss: 4.3676(3.9965) Grad: 65.8970  LR: 0.003714  \n",
      "Epoch: [17][57/58] Elapsed 1m 5s (remain 0m 0s) Loss: 3.4917(3.9702) Grad: 40.3745  LR: 0.003714  \n",
      "EVAL: [0/15] Elapsed 0m 2s (remain 0m 40s) Loss: 3.8896(3.8896) \n"
     ]
    },
    {
     "name": "stderr",
     "output_type": "stream",
     "text": [
      "Epoch 17 - avg_train_loss: 3.9702  avg_val_loss: 3.6918  time: 76s\n",
      "Epoch 17 - MAE Score (without expiratory phase): 1.4935\n"
     ]
    },
    {
     "name": "stdout",
     "output_type": "stream",
     "text": [
      "EVAL: [14/15] Elapsed 0m 10s (remain 0m 0s) Loss: 3.7161(3.6918) \n",
      "Epoch: [18][0/58] Elapsed 0m 3s (remain 3m 26s) Loss: 3.7638(3.7638) Grad: 56.0685  LR: 0.003574  \n",
      "Epoch: [18][20/58] Elapsed 0m 25s (remain 0m 44s) Loss: 4.2032(4.4774) Grad: 41.9604  LR: 0.003574  \n",
      "Epoch: [18][40/58] Elapsed 0m 47s (remain 0m 19s) Loss: 4.3726(4.3411) Grad: 69.4117  LR: 0.003574  \n",
      "Epoch: [18][57/58] Elapsed 1m 5s (remain 0m 0s) Loss: 4.1056(4.3518) Grad: 45.7240  LR: 0.003574  \n",
      "EVAL: [0/15] Elapsed 0m 3s (remain 0m 42s) Loss: 4.3669(4.3669) \n"
     ]
    },
    {
     "name": "stderr",
     "output_type": "stream",
     "text": [
      "Epoch 18 - avg_train_loss: 4.3518  avg_val_loss: 4.1452  time: 76s\n",
      "Epoch 18 - MAE Score (without expiratory phase): 1.6635\n"
     ]
    },
    {
     "name": "stdout",
     "output_type": "stream",
     "text": [
      "EVAL: [14/15] Elapsed 0m 9s (remain 0m 0s) Loss: 4.1337(4.1452) \n",
      "Epoch: [19][0/58] Elapsed 0m 3s (remain 3m 29s) Loss: 4.2048(4.2048) Grad: 46.3468  LR: 0.003430  \n",
      "Epoch: [19][20/58] Elapsed 0m 25s (remain 0m 44s) Loss: 3.8473(3.5127) Grad: 71.8881  LR: 0.003430  \n",
      "Epoch: [19][40/58] Elapsed 0m 47s (remain 0m 19s) Loss: 4.7052(3.5739) Grad: 85.9486  LR: 0.003430  \n",
      "Epoch: [19][57/58] Elapsed 1m 5s (remain 0m 0s) Loss: 3.1659(3.5035) Grad: 33.2060  LR: 0.003430  \n",
      "EVAL: [0/15] Elapsed 0m 2s (remain 0m 41s) Loss: 3.2279(3.2279) \n"
     ]
    },
    {
     "name": "stderr",
     "output_type": "stream",
     "text": [
      "Epoch 19 - avg_train_loss: 3.5035  avg_val_loss: 3.1597  time: 76s\n",
      "Epoch 19 - MAE Score (without expiratory phase): 1.2770\n",
      "Epoch 19 - Save Best Score: 1.2770 Model\n"
     ]
    },
    {
     "name": "stdout",
     "output_type": "stream",
     "text": [
      "EVAL: [14/15] Elapsed 0m 9s (remain 0m 0s) Loss: 3.2519(3.1597) \n",
      "Epoch: [20][0/58] Elapsed 0m 3s (remain 3m 30s) Loss: 3.2988(3.2988) Grad: 33.9140  LR: 0.003282  \n",
      "Epoch: [20][20/58] Elapsed 0m 25s (remain 0m 44s) Loss: 4.2273(3.4553) Grad: 78.4927  LR: 0.003282  \n",
      "Epoch: [20][40/58] Elapsed 0m 47s (remain 0m 19s) Loss: 3.1983(3.4174) Grad: 41.2976  LR: 0.003282  \n",
      "Epoch: [20][57/58] Elapsed 1m 5s (remain 0m 0s) Loss: 3.0727(3.4703) Grad: 7.3713  LR: 0.003282  \n",
      "EVAL: [0/15] Elapsed 0m 2s (remain 0m 40s) Loss: 3.3266(3.3266) \n"
     ]
    },
    {
     "name": "stderr",
     "output_type": "stream",
     "text": [
      "Epoch 20 - avg_train_loss: 3.4703  avg_val_loss: 3.2325  time: 76s\n",
      "Epoch 20 - MAE Score (without expiratory phase): 1.3216\n"
     ]
    },
    {
     "name": "stdout",
     "output_type": "stream",
     "text": [
      "EVAL: [14/15] Elapsed 0m 9s (remain 0m 0s) Loss: 3.3149(3.2325) \n",
      "Epoch: [21][0/58] Elapsed 0m 3s (remain 3m 30s) Loss: 3.2496(3.2496) Grad: 39.1827  LR: 0.003132  \n",
      "Epoch: [21][20/58] Elapsed 0m 25s (remain 0m 44s) Loss: 3.2363(3.3717) Grad: 32.0653  LR: 0.003132  \n",
      "Epoch: [21][40/58] Elapsed 0m 47s (remain 0m 19s) Loss: 3.5099(3.3805) Grad: 64.5492  LR: 0.003132  \n",
      "Epoch: [21][57/58] Elapsed 1m 5s (remain 0m 0s) Loss: 3.0724(3.3439) Grad: 12.8978  LR: 0.003132  \n",
      "EVAL: [0/15] Elapsed 0m 2s (remain 0m 41s) Loss: 3.1156(3.1156) \n"
     ]
    },
    {
     "name": "stderr",
     "output_type": "stream",
     "text": [
      "Epoch 21 - avg_train_loss: 3.3439  avg_val_loss: 3.0533  time: 76s\n",
      "Epoch 21 - MAE Score (without expiratory phase): 1.2341\n",
      "Epoch 21 - Save Best Score: 1.2341 Model\n"
     ]
    },
    {
     "name": "stdout",
     "output_type": "stream",
     "text": [
      "EVAL: [14/15] Elapsed 0m 10s (remain 0m 0s) Loss: 3.1080(3.0533) \n",
      "Epoch: [22][0/58] Elapsed 0m 3s (remain 3m 37s) Loss: 3.1125(3.1125) Grad: 29.6319  LR: 0.002978  \n",
      "Epoch: [22][20/58] Elapsed 0m 25s (remain 0m 45s) Loss: 3.3636(3.2412) Grad: 51.6772  LR: 0.002978  \n",
      "Epoch: [22][40/58] Elapsed 0m 47s (remain 0m 19s) Loss: 2.8668(3.3131) Grad: 22.5534  LR: 0.002978  \n",
      "Epoch: [22][57/58] Elapsed 1m 6s (remain 0m 0s) Loss: 3.7520(3.2960) Grad: 84.3108  LR: 0.002978  \n",
      "EVAL: [0/15] Elapsed 0m 3s (remain 0m 43s) Loss: 3.9742(3.9742) \n"
     ]
    },
    {
     "name": "stderr",
     "output_type": "stream",
     "text": [
      "Epoch 22 - avg_train_loss: 3.2960  avg_val_loss: 3.8356  time: 76s\n",
      "Epoch 22 - MAE Score (without expiratory phase): 1.5606\n"
     ]
    },
    {
     "name": "stdout",
     "output_type": "stream",
     "text": [
      "EVAL: [14/15] Elapsed 0m 9s (remain 0m 0s) Loss: 3.9338(3.8356) \n",
      "Epoch: [23][0/58] Elapsed 0m 3s (remain 3m 30s) Loss: 3.7135(3.7135) Grad: 74.9450  LR: 0.002823  \n",
      "Epoch: [23][20/58] Elapsed 0m 25s (remain 0m 44s) Loss: 3.1597(3.1061) Grad: 44.4119  LR: 0.002823  \n",
      "Epoch: [23][40/58] Elapsed 0m 47s (remain 0m 19s) Loss: 3.1223(3.0564) Grad: 40.1242  LR: 0.002823  \n",
      "Epoch: [23][57/58] Elapsed 1m 5s (remain 0m 0s) Loss: 2.8941(3.0868) Grad: 36.7321  LR: 0.002823  \n",
      "EVAL: [0/15] Elapsed 0m 2s (remain 0m 41s) Loss: 3.1131(3.1131) \n"
     ]
    },
    {
     "name": "stderr",
     "output_type": "stream",
     "text": [
      "Epoch 23 - avg_train_loss: 3.0868  avg_val_loss: 3.0007  time: 76s\n",
      "Epoch 23 - MAE Score (without expiratory phase): 1.2401\n"
     ]
    },
    {
     "name": "stdout",
     "output_type": "stream",
     "text": [
      "EVAL: [14/15] Elapsed 0m 10s (remain 0m 0s) Loss: 3.0657(3.0007) \n",
      "Epoch: [24][0/58] Elapsed 0m 3s (remain 3m 35s) Loss: 3.1505(3.1505) Grad: 45.0268  LR: 0.002667  \n",
      "Epoch: [24][20/58] Elapsed 0m 25s (remain 0m 45s) Loss: 2.8165(3.0659) Grad: 25.8026  LR: 0.002667  \n",
      "Epoch: [24][40/58] Elapsed 0m 47s (remain 0m 19s) Loss: 2.9866(3.0878) Grad: 44.6002  LR: 0.002667  \n",
      "Epoch: [24][57/58] Elapsed 1m 5s (remain 0m 0s) Loss: 2.8105(3.0627) Grad: 22.9460  LR: 0.002667  \n",
      "EVAL: [0/15] Elapsed 0m 2s (remain 0m 41s) Loss: 3.1102(3.1102) \n"
     ]
    },
    {
     "name": "stderr",
     "output_type": "stream",
     "text": [
      "Epoch 24 - avg_train_loss: 3.0627  avg_val_loss: 3.0333  time: 76s\n",
      "Epoch 24 - MAE Score (without expiratory phase): 1.2352\n"
     ]
    },
    {
     "name": "stdout",
     "output_type": "stream",
     "text": [
      "EVAL: [14/15] Elapsed 0m 9s (remain 0m 0s) Loss: 3.0656(3.0333) \n",
      "Epoch: [25][0/58] Elapsed 0m 3s (remain 3m 38s) Loss: 3.0139(3.0139) Grad: 54.5941  LR: 0.002510  \n",
      "Epoch: [25][20/58] Elapsed 0m 25s (remain 0m 45s) Loss: 3.0146(3.1667) Grad: 48.0906  LR: 0.002510  \n",
      "Epoch: [25][40/58] Elapsed 0m 47s (remain 0m 19s) Loss: 2.7765(3.1475) Grad: 18.8482  LR: 0.002510  \n",
      "Epoch: [25][57/58] Elapsed 1m 6s (remain 0m 0s) Loss: 2.9259(3.0874) Grad: 45.3169  LR: 0.002510  \n",
      "EVAL: [0/15] Elapsed 0m 2s (remain 0m 41s) Loss: 3.2484(3.2484) \n"
     ]
    },
    {
     "name": "stderr",
     "output_type": "stream",
     "text": [
      "Epoch 25 - avg_train_loss: 3.0874  avg_val_loss: 3.1885  time: 76s\n",
      "Epoch 25 - MAE Score (without expiratory phase): 1.2845\n"
     ]
    },
    {
     "name": "stdout",
     "output_type": "stream",
     "text": [
      "EVAL: [14/15] Elapsed 0m 10s (remain 0m 0s) Loss: 3.2170(3.1885) \n",
      "Epoch: [26][0/58] Elapsed 0m 3s (remain 3m 33s) Loss: 3.2832(3.2832) Grad: 69.5133  LR: 0.002353  \n",
      "Epoch: [26][20/58] Elapsed 0m 25s (remain 0m 44s) Loss: 3.2456(2.9271) Grad: 64.4431  LR: 0.002353  \n",
      "Epoch: [26][40/58] Elapsed 0m 47s (remain 0m 19s) Loss: 2.6590(2.8895) Grad: 22.3217  LR: 0.002353  \n",
      "Epoch: [26][57/58] Elapsed 1m 5s (remain 0m 0s) Loss: 3.2873(2.9476) Grad: 62.7208  LR: 0.002353  \n",
      "EVAL: [0/15] Elapsed 0m 3s (remain 0m 42s) Loss: 2.6447(2.6447) \n"
     ]
    },
    {
     "name": "stderr",
     "output_type": "stream",
     "text": [
      "Epoch 26 - avg_train_loss: 2.9476  avg_val_loss: 2.5805  time: 76s\n",
      "Epoch 26 - MAE Score (without expiratory phase): 1.0526\n",
      "Epoch 26 - Save Best Score: 1.0526 Model\n"
     ]
    },
    {
     "name": "stdout",
     "output_type": "stream",
     "text": [
      "EVAL: [14/15] Elapsed 0m 9s (remain 0m 0s) Loss: 2.5827(2.5805) \n",
      "Epoch: [27][0/58] Elapsed 0m 3s (remain 3m 34s) Loss: 2.5832(2.5832) Grad: 9.4821  LR: 0.002196  \n",
      "Epoch: [27][20/58] Elapsed 0m 25s (remain 0m 45s) Loss: 2.7065(2.8982) Grad: 13.1848  LR: 0.002196  \n",
      "Epoch: [27][40/58] Elapsed 0m 47s (remain 0m 19s) Loss: 2.6989(2.8299) Grad: 30.9039  LR: 0.002196  \n",
      "Epoch: [27][57/58] Elapsed 1m 6s (remain 0m 0s) Loss: 2.8221(2.8160) Grad: 38.2131  LR: 0.002196  \n",
      "EVAL: [0/15] Elapsed 0m 3s (remain 0m 43s) Loss: 3.2299(3.2299) \n"
     ]
    },
    {
     "name": "stderr",
     "output_type": "stream",
     "text": [
      "Epoch 27 - avg_train_loss: 2.8160  avg_val_loss: 3.1583  time: 76s\n",
      "Epoch 27 - MAE Score (without expiratory phase): 1.2538\n"
     ]
    },
    {
     "name": "stdout",
     "output_type": "stream",
     "text": [
      "EVAL: [14/15] Elapsed 0m 9s (remain 0m 0s) Loss: 3.1555(3.1583) \n",
      "Epoch: [28][0/58] Elapsed 0m 3s (remain 3m 34s) Loss: 3.2947(3.2947) Grad: 72.1886  LR: 0.002041  \n",
      "Epoch: [28][20/58] Elapsed 0m 25s (remain 0m 45s) Loss: 3.6282(3.2748) Grad: 72.5892  LR: 0.002041  \n",
      "Epoch: [28][40/58] Elapsed 0m 47s (remain 0m 19s) Loss: 2.6070(3.1684) Grad: 28.4841  LR: 0.002041  \n",
      "Epoch: [28][57/58] Elapsed 1m 5s (remain 0m 0s) Loss: 2.7649(3.0297) Grad: 53.5239  LR: 0.002041  \n",
      "EVAL: [0/15] Elapsed 0m 2s (remain 0m 41s) Loss: 2.7952(2.7952) \n"
     ]
    },
    {
     "name": "stderr",
     "output_type": "stream",
     "text": [
      "Epoch 28 - avg_train_loss: 3.0297  avg_val_loss: 2.7345  time: 76s\n",
      "Epoch 28 - MAE Score (without expiratory phase): 1.0976\n"
     ]
    },
    {
     "name": "stdout",
     "output_type": "stream",
     "text": [
      "EVAL: [14/15] Elapsed 0m 9s (remain 0m 0s) Loss: 2.7729(2.7345) \n",
      "Epoch: [29][0/58] Elapsed 0m 3s (remain 3m 38s) Loss: 2.7533(2.7533) Grad: 41.2887  LR: 0.001888  \n",
      "Epoch: [29][20/58] Elapsed 0m 25s (remain 0m 45s) Loss: 2.6209(2.6503) Grad: 14.7774  LR: 0.001888  \n",
      "Epoch: [29][40/58] Elapsed 0m 47s (remain 0m 19s) Loss: 2.7766(2.6732) Grad: 34.2733  LR: 0.001888  \n",
      "Epoch: [29][57/58] Elapsed 1m 6s (remain 0m 0s) Loss: 2.7339(2.6955) Grad: 31.7442  LR: 0.001888  \n",
      "EVAL: [0/15] Elapsed 0m 2s (remain 0m 40s) Loss: 2.5181(2.5181) \n"
     ]
    },
    {
     "name": "stderr",
     "output_type": "stream",
     "text": [
      "Epoch 29 - avg_train_loss: 2.6955  avg_val_loss: 2.4593  time: 76s\n",
      "Epoch 29 - MAE Score (without expiratory phase): 1.0077\n",
      "Epoch 29 - Save Best Score: 1.0077 Model\n"
     ]
    },
    {
     "name": "stdout",
     "output_type": "stream",
     "text": [
      "EVAL: [14/15] Elapsed 0m 10s (remain 0m 0s) Loss: 2.4945(2.4593) \n",
      "Epoch: [30][0/58] Elapsed 0m 3s (remain 3m 33s) Loss: 2.5715(2.5715) Grad: 8.1042  LR: 0.001737  \n",
      "Epoch: [30][20/58] Elapsed 0m 25s (remain 0m 45s) Loss: 2.6646(2.6830) Grad: 35.4086  LR: 0.001737  \n",
      "Epoch: [30][40/58] Elapsed 0m 47s (remain 0m 19s) Loss: 2.8200(2.6503) Grad: 53.4503  LR: 0.001737  \n",
      "Epoch: [30][57/58] Elapsed 1m 5s (remain 0m 0s) Loss: 2.7826(2.6345) Grad: 27.3719  LR: 0.001737  \n",
      "EVAL: [0/15] Elapsed 0m 3s (remain 0m 42s) Loss: 2.5404(2.5404) \n"
     ]
    },
    {
     "name": "stderr",
     "output_type": "stream",
     "text": [
      "Epoch 30 - avg_train_loss: 2.6345  avg_val_loss: 2.4641  time: 76s\n",
      "Epoch 30 - MAE Score (without expiratory phase): 1.0111\n"
     ]
    },
    {
     "name": "stdout",
     "output_type": "stream",
     "text": [
      "EVAL: [14/15] Elapsed 0m 9s (remain 0m 0s) Loss: 2.4733(2.4641) \n"
     ]
    },
    {
     "name": "stderr",
     "output_type": "stream",
     "text": [
      "========== fold: 2 result ==========\n",
      "Score (without expiratory phase): 1.0077\n",
      "========== fold: 3 training ==========\n"
     ]
    },
    {
     "name": "stdout",
     "output_type": "stream",
     "text": [
      "init LSTM(1024, 1024, batch_first=True, dropout=0.2, bidirectional=True)\n",
      "init LSTM(2048, 512, batch_first=True, dropout=0.2, bidirectional=True)\n",
      "Epoch: [1][0/58] Elapsed 0m 3s (remain 3m 33s) Loss: 42.5569(42.5569) Grad: 97.6346  LR: 0.005000  \n",
      "Epoch: [1][20/58] Elapsed 0m 25s (remain 0m 44s) Loss: 22.2870(22.6262) Grad: 5.6554  LR: 0.005000  \n",
      "Epoch: [1][40/58] Elapsed 0m 47s (remain 0m 19s) Loss: 20.9204(22.1148) Grad: 1.9462  LR: 0.005000  \n",
      "Epoch: [1][57/58] Elapsed 1m 5s (remain 0m 0s) Loss: 21.2330(21.9318) Grad: 1.4705  LR: 0.005000  \n",
      "EVAL: [0/15] Elapsed 0m 3s (remain 0m 43s) Loss: 21.4323(21.4323) \n"
     ]
    },
    {
     "name": "stderr",
     "output_type": "stream",
     "text": [
      "Epoch 1 - avg_train_loss: 21.9318  avg_val_loss: 21.6796  time: 75s\n",
      "Epoch 1 - MAE Score (without expiratory phase): 8.7473\n",
      "Epoch 1 - Save Best Score: 8.7473 Model\n"
     ]
    },
    {
     "name": "stdout",
     "output_type": "stream",
     "text": [
      "EVAL: [14/15] Elapsed 0m 9s (remain 0m 0s) Loss: 21.7875(21.6796) \n",
      "Epoch: [2][0/58] Elapsed 0m 3s (remain 3m 30s) Loss: 21.3070(21.3070) Grad: 1.4476  LR: 0.004990  \n",
      "Epoch: [2][20/58] Elapsed 0m 25s (remain 0m 44s) Loss: 21.5372(21.4701) Grad: 1.1175  LR: 0.004990  \n",
      "Epoch: [2][40/58] Elapsed 0m 46s (remain 0m 19s) Loss: 17.1895(20.4421) Grad: 12.3711  LR: 0.004990  \n",
      "Epoch: [2][57/58] Elapsed 1m 5s (remain 0m 0s) Loss: 15.4465(19.5603) Grad: 27.4127  LR: 0.004990  \n",
      "EVAL: [0/15] Elapsed 0m 2s (remain 0m 41s) Loss: 13.8869(13.8869) \n"
     ]
    },
    {
     "name": "stderr",
     "output_type": "stream",
     "text": [
      "Epoch 2 - avg_train_loss: 19.5603  avg_val_loss: 13.9830  time: 75s\n",
      "Epoch 2 - MAE Score (without expiratory phase): 5.4251\n",
      "Epoch 2 - Save Best Score: 5.4251 Model\n"
     ]
    },
    {
     "name": "stdout",
     "output_type": "stream",
     "text": [
      "EVAL: [14/15] Elapsed 0m 9s (remain 0m 0s) Loss: 13.6896(13.9830) \n",
      "Epoch: [3][0/58] Elapsed 0m 3s (remain 3m 24s) Loss: 13.6093(13.6093) Grad: 16.0339  LR: 0.004966  \n",
      "Epoch: [3][20/58] Elapsed 0m 25s (remain 0m 44s) Loss: 15.5514(13.0874) Grad: 50.2287  LR: 0.004966  \n",
      "Epoch: [3][40/58] Elapsed 0m 47s (remain 0m 19s) Loss: 10.8479(12.2591) Grad: 40.9805  LR: 0.004966  \n",
      "Epoch: [3][57/58] Elapsed 1m 5s (remain 0m 0s) Loss: 10.9678(11.7189) Grad: 46.4991  LR: 0.004966  \n",
      "EVAL: [0/15] Elapsed 0m 2s (remain 0m 41s) Loss: 9.9220(9.9220) \n"
     ]
    },
    {
     "name": "stderr",
     "output_type": "stream",
     "text": [
      "Epoch 3 - avg_train_loss: 11.7189  avg_val_loss: 9.9889  time: 76s\n",
      "Epoch 3 - MAE Score (without expiratory phase): 4.2560\n",
      "Epoch 3 - Save Best Score: 4.2560 Model\n"
     ]
    },
    {
     "name": "stdout",
     "output_type": "stream",
     "text": [
      "EVAL: [14/15] Elapsed 0m 9s (remain 0m 0s) Loss: 10.0754(9.9889) \n",
      "Epoch: [4][0/58] Elapsed 0m 3s (remain 3m 27s) Loss: 9.9573(9.9573) Grad: 55.8911  LR: 0.004931  \n",
      "Epoch: [4][20/58] Elapsed 0m 25s (remain 0m 44s) Loss: 6.8701(8.8681) Grad: 3.4637  LR: 0.004931  \n",
      "Epoch: [4][40/58] Elapsed 0m 47s (remain 0m 19s) Loss: 8.1221(8.6806) Grad: 67.2137  LR: 0.004931  \n",
      "Epoch: [4][57/58] Elapsed 1m 5s (remain 0m 0s) Loss: 6.8868(8.3733) Grad: 58.0917  LR: 0.004931  \n",
      "EVAL: [0/15] Elapsed 0m 3s (remain 0m 43s) Loss: 8.6022(8.6022) \n"
     ]
    },
    {
     "name": "stderr",
     "output_type": "stream",
     "text": [
      "Epoch 4 - avg_train_loss: 8.3733  avg_val_loss: 8.5965  time: 76s\n",
      "Epoch 4 - MAE Score (without expiratory phase): 3.3759\n",
      "Epoch 4 - Save Best Score: 3.3759 Model\n"
     ]
    },
    {
     "name": "stdout",
     "output_type": "stream",
     "text": [
      "EVAL: [14/15] Elapsed 0m 10s (remain 0m 0s) Loss: 8.5076(8.5965) \n",
      "Epoch: [5][0/58] Elapsed 0m 3s (remain 3m 26s) Loss: 8.5684(8.5684) Grad: 73.2779  LR: 0.004887  \n",
      "Epoch: [5][20/58] Elapsed 0m 25s (remain 0m 44s) Loss: 6.0747(8.9016) Grad: 21.2239  LR: 0.004887  \n",
      "Epoch: [5][40/58] Elapsed 0m 47s (remain 0m 19s) Loss: 6.5387(8.0566) Grad: 72.0004  LR: 0.004887  \n",
      "Epoch: [5][57/58] Elapsed 1m 5s (remain 0m 0s) Loss: 6.9895(7.4080) Grad: 91.3613  LR: 0.004887  \n",
      "EVAL: [0/15] Elapsed 0m 2s (remain 0m 40s) Loss: 8.2855(8.2855) \n"
     ]
    },
    {
     "name": "stderr",
     "output_type": "stream",
     "text": [
      "Epoch 5 - avg_train_loss: 7.4080  avg_val_loss: 8.3464  time: 75s\n",
      "Epoch 5 - MAE Score (without expiratory phase): 3.4743\n"
     ]
    },
    {
     "name": "stdout",
     "output_type": "stream",
     "text": [
      "EVAL: [14/15] Elapsed 0m 9s (remain 0m 0s) Loss: 8.4234(8.3464) \n",
      "Epoch: [6][0/58] Elapsed 0m 3s (remain 3m 33s) Loss: 8.5616(8.5616) Grad: 98.6791  LR: 0.004834  \n",
      "Epoch: [6][20/58] Elapsed 0m 25s (remain 0m 45s) Loss: 5.6726(5.7410) Grad: 71.9281  LR: 0.004834  \n",
      "Epoch: [6][40/58] Elapsed 0m 47s (remain 0m 19s) Loss: 4.1718(5.5610) Grad: 8.0158  LR: 0.004834  \n",
      "Epoch: [6][57/58] Elapsed 1m 5s (remain 0m 0s) Loss: 7.4105(5.5639) Grad: 99.8925  LR: 0.004834  \n",
      "EVAL: [0/15] Elapsed 0m 3s (remain 0m 42s) Loss: 5.0612(5.0612) \n"
     ]
    },
    {
     "name": "stderr",
     "output_type": "stream",
     "text": [
      "Epoch 6 - avg_train_loss: 5.5639  avg_val_loss: 5.0191  time: 76s\n",
      "Epoch 6 - MAE Score (without expiratory phase): 2.0819\n",
      "Epoch 6 - Save Best Score: 2.0819 Model\n"
     ]
    },
    {
     "name": "stdout",
     "output_type": "stream",
     "text": [
      "EVAL: [14/15] Elapsed 0m 9s (remain 0m 0s) Loss: 5.0892(5.0191) \n",
      "Epoch: [7][0/58] Elapsed 0m 3s (remain 3m 36s) Loss: 5.2738(5.2738) Grad: 59.3017  LR: 0.004772  \n",
      "Epoch: [7][20/58] Elapsed 0m 25s (remain 0m 44s) Loss: 4.6535(5.1252) Grad: 41.8475  LR: 0.004772  \n",
      "Epoch: [7][40/58] Elapsed 0m 47s (remain 0m 19s) Loss: 4.2047(5.0847) Grad: 16.4966  LR: 0.004772  \n",
      "Epoch: [7][57/58] Elapsed 1m 5s (remain 0m 0s) Loss: 4.6247(5.1658) Grad: 37.8552  LR: 0.004772  \n",
      "EVAL: [0/15] Elapsed 0m 3s (remain 0m 43s) Loss: 4.4337(4.4337) \n"
     ]
    },
    {
     "name": "stderr",
     "output_type": "stream",
     "text": [
      "Epoch 7 - avg_train_loss: 5.1658  avg_val_loss: 4.3626  time: 76s\n",
      "Epoch 7 - MAE Score (without expiratory phase): 1.8408\n",
      "Epoch 7 - Save Best Score: 1.8408 Model\n"
     ]
    },
    {
     "name": "stdout",
     "output_type": "stream",
     "text": [
      "EVAL: [14/15] Elapsed 0m 10s (remain 0m 0s) Loss: 4.3971(4.3626) \n",
      "Epoch: [8][0/58] Elapsed 0m 3s (remain 3m 36s) Loss: 4.3250(4.3250) Grad: 24.7519  LR: 0.004701  \n",
      "Epoch: [8][20/58] Elapsed 0m 25s (remain 0m 45s) Loss: 4.0683(4.6969) Grad: 24.6845  LR: 0.004701  \n",
      "Epoch: [8][40/58] Elapsed 0m 47s (remain 0m 19s) Loss: 5.9465(4.8160) Grad: 84.0402  LR: 0.004701  \n",
      "Epoch: [8][57/58] Elapsed 1m 5s (remain 0m 0s) Loss: 3.9834(4.7500) Grad: 33.2624  LR: 0.004701  \n",
      "EVAL: [0/15] Elapsed 0m 2s (remain 0m 40s) Loss: 5.0373(5.0373) \n"
     ]
    },
    {
     "name": "stderr",
     "output_type": "stream",
     "text": [
      "Epoch 8 - avg_train_loss: 4.7500  avg_val_loss: 4.9628  time: 76s\n",
      "Epoch 8 - MAE Score (without expiratory phase): 2.0394\n"
     ]
    },
    {
     "name": "stdout",
     "output_type": "stream",
     "text": [
      "EVAL: [14/15] Elapsed 0m 9s (remain 0m 0s) Loss: 4.9324(4.9628) \n",
      "Epoch: [9][0/58] Elapsed 0m 3s (remain 3m 25s) Loss: 5.0055(5.0055) Grad: 76.9702  LR: 0.004621  \n",
      "Epoch: [9][20/58] Elapsed 0m 25s (remain 0m 44s) Loss: 4.5272(4.9029) Grad: 41.0596  LR: 0.004621  \n",
      "Epoch: [9][40/58] Elapsed 0m 47s (remain 0m 19s) Loss: 5.7147(4.6790) Grad: 85.9773  LR: 0.004621  \n",
      "Epoch: [9][57/58] Elapsed 1m 5s (remain 0m 0s) Loss: 3.8786(4.6028) Grad: 13.9158  LR: 0.004621  \n",
      "EVAL: [0/15] Elapsed 0m 3s (remain 0m 42s) Loss: 4.0790(4.0790) \n"
     ]
    },
    {
     "name": "stderr",
     "output_type": "stream",
     "text": [
      "Epoch 9 - avg_train_loss: 4.6028  avg_val_loss: 4.0246  time: 76s\n",
      "Epoch 9 - MAE Score (without expiratory phase): 1.6494\n",
      "Epoch 9 - Save Best Score: 1.6494 Model\n"
     ]
    },
    {
     "name": "stdout",
     "output_type": "stream",
     "text": [
      "EVAL: [14/15] Elapsed 0m 9s (remain 0m 0s) Loss: 4.0517(4.0246) \n",
      "Epoch: [10][0/58] Elapsed 0m 3s (remain 3m 35s) Loss: 3.9921(3.9921) Grad: 39.4648  LR: 0.004532  \n",
      "Epoch: [10][20/58] Elapsed 0m 25s (remain 0m 44s) Loss: 3.5609(4.3031) Grad: 18.5108  LR: 0.004532  \n",
      "Epoch: [10][40/58] Elapsed 0m 47s (remain 0m 19s) Loss: 3.9612(4.4250) Grad: 31.9817  LR: 0.004532  \n",
      "Epoch: [10][57/58] Elapsed 1m 5s (remain 0m 0s) Loss: 4.9953(4.6071) Grad: 51.0001  LR: 0.004532  \n",
      "EVAL: [0/15] Elapsed 0m 3s (remain 0m 42s) Loss: 5.1980(5.1980) \n"
     ]
    },
    {
     "name": "stderr",
     "output_type": "stream",
     "text": [
      "Epoch 10 - avg_train_loss: 4.6071  avg_val_loss: 5.1714  time: 76s\n",
      "Epoch 10 - MAE Score (without expiratory phase): 2.0035\n"
     ]
    },
    {
     "name": "stdout",
     "output_type": "stream",
     "text": [
      "EVAL: [14/15] Elapsed 0m 9s (remain 0m 0s) Loss: 5.1308(5.1714) \n",
      "Epoch: [11][0/58] Elapsed 0m 3s (remain 3m 27s) Loss: 5.2245(5.2245) Grad: 48.0546  LR: 0.004436  \n",
      "Epoch: [11][20/58] Elapsed 0m 25s (remain 0m 44s) Loss: 4.0369(4.1812) Grad: 35.7545  LR: 0.004436  \n",
      "Epoch: [11][40/58] Elapsed 0m 47s (remain 0m 19s) Loss: 4.5736(4.3168) Grad: 65.0597  LR: 0.004436  \n",
      "Epoch: [11][57/58] Elapsed 1m 5s (remain 0m 0s) Loss: 3.3334(4.2209) Grad: 20.3986  LR: 0.004436  \n",
      "EVAL: [0/15] Elapsed 0m 3s (remain 0m 43s) Loss: 3.6004(3.6004) \n"
     ]
    },
    {
     "name": "stderr",
     "output_type": "stream",
     "text": [
      "Epoch 11 - avg_train_loss: 4.2209  avg_val_loss: 3.5120  time: 76s\n",
      "Epoch 11 - MAE Score (without expiratory phase): 1.4251\n",
      "Epoch 11 - Save Best Score: 1.4251 Model\n"
     ]
    },
    {
     "name": "stdout",
     "output_type": "stream",
     "text": [
      "EVAL: [14/15] Elapsed 0m 9s (remain 0m 0s) Loss: 3.4992(3.5120) \n",
      "Epoch: [12][0/58] Elapsed 0m 3s (remain 3m 30s) Loss: 3.8409(3.8409) Grad: 37.9195  LR: 0.004332  \n",
      "Epoch: [12][20/58] Elapsed 0m 25s (remain 0m 44s) Loss: 4.3038(4.1449) Grad: 71.8038  LR: 0.004332  \n",
      "Epoch: [12][40/58] Elapsed 0m 47s (remain 0m 19s) Loss: 3.3105(4.0788) Grad: 18.8653  LR: 0.004332  \n",
      "Epoch: [12][57/58] Elapsed 1m 5s (remain 0m 0s) Loss: 3.4747(4.0336) Grad: 5.4254  LR: 0.004332  \n",
      "EVAL: [0/15] Elapsed 0m 3s (remain 0m 42s) Loss: 3.4735(3.4735) \n"
     ]
    },
    {
     "name": "stderr",
     "output_type": "stream",
     "text": [
      "Epoch 12 - avg_train_loss: 4.0336  avg_val_loss: 3.4005  time: 76s\n",
      "Epoch 12 - MAE Score (without expiratory phase): 1.3934\n",
      "Epoch 12 - Save Best Score: 1.3934 Model\n"
     ]
    },
    {
     "name": "stdout",
     "output_type": "stream",
     "text": [
      "EVAL: [14/15] Elapsed 0m 10s (remain 0m 0s) Loss: 3.3934(3.4005) \n",
      "Epoch: [13][0/58] Elapsed 0m 3s (remain 3m 38s) Loss: 3.4954(3.4954) Grad: 30.2790  LR: 0.004221  \n",
      "Epoch: [13][20/58] Elapsed 0m 25s (remain 0m 45s) Loss: 3.5293(3.9097) Grad: 33.7683  LR: 0.004221  \n",
      "Epoch: [13][40/58] Elapsed 0m 47s (remain 0m 19s) Loss: 3.7665(3.9244) Grad: 52.9487  LR: 0.004221  \n",
      "Epoch: [13][57/58] Elapsed 1m 5s (remain 0m 0s) Loss: 4.1807(3.9523) Grad: 65.5745  LR: 0.004221  \n",
      "EVAL: [0/15] Elapsed 0m 2s (remain 0m 40s) Loss: 3.8258(3.8258) \n"
     ]
    },
    {
     "name": "stderr",
     "output_type": "stream",
     "text": [
      "Epoch 13 - avg_train_loss: 3.9523  avg_val_loss: 3.8094  time: 76s\n",
      "Epoch 13 - MAE Score (without expiratory phase): 1.5893\n"
     ]
    },
    {
     "name": "stdout",
     "output_type": "stream",
     "text": [
      "EVAL: [14/15] Elapsed 0m 9s (remain 0m 0s) Loss: 3.9394(3.8094) \n",
      "Epoch: [14][0/58] Elapsed 0m 3s (remain 3m 26s) Loss: 4.0178(4.0178) Grad: 61.2223  LR: 0.004103  \n",
      "Epoch: [14][20/58] Elapsed 0m 25s (remain 0m 45s) Loss: 3.6623(3.7549) Grad: 42.2971  LR: 0.004103  \n",
      "Epoch: [14][40/58] Elapsed 0m 47s (remain 0m 19s) Loss: 4.3776(3.7764) Grad: 76.7791  LR: 0.004103  \n",
      "Epoch: [14][57/58] Elapsed 1m 5s (remain 0m 0s) Loss: 3.8233(3.7721) Grad: 47.2750  LR: 0.004103  \n",
      "EVAL: [0/15] Elapsed 0m 2s (remain 0m 40s) Loss: 3.2166(3.2166) \n"
     ]
    },
    {
     "name": "stderr",
     "output_type": "stream",
     "text": [
      "Epoch 14 - avg_train_loss: 3.7721  avg_val_loss: 3.2027  time: 76s\n",
      "Epoch 14 - MAE Score (without expiratory phase): 1.3083\n",
      "Epoch 14 - Save Best Score: 1.3083 Model\n"
     ]
    },
    {
     "name": "stdout",
     "output_type": "stream",
     "text": [
      "EVAL: [14/15] Elapsed 0m 9s (remain 0m 0s) Loss: 3.1782(3.2027) \n",
      "Epoch: [15][0/58] Elapsed 0m 3s (remain 3m 34s) Loss: 3.2279(3.2279) Grad: 11.3830  LR: 0.003979  \n",
      "Epoch: [15][20/58] Elapsed 0m 25s (remain 0m 44s) Loss: 4.0094(3.6571) Grad: 72.0485  LR: 0.003979  \n",
      "Epoch: [15][40/58] Elapsed 0m 47s (remain 0m 19s) Loss: 3.1243(3.6527) Grad: 25.1149  LR: 0.003979  \n",
      "Epoch: [15][57/58] Elapsed 1m 5s (remain 0m 0s) Loss: 3.5180(3.6819) Grad: 39.9783  LR: 0.003979  \n",
      "EVAL: [0/15] Elapsed 0m 2s (remain 0m 41s) Loss: 4.0781(4.0781) \n"
     ]
    },
    {
     "name": "stderr",
     "output_type": "stream",
     "text": [
      "Epoch 15 - avg_train_loss: 3.6819  avg_val_loss: 4.1107  time: 76s\n",
      "Epoch 15 - MAE Score (without expiratory phase): 1.6518\n"
     ]
    },
    {
     "name": "stdout",
     "output_type": "stream",
     "text": [
      "EVAL: [14/15] Elapsed 0m 9s (remain 0m 0s) Loss: 4.2209(4.1107) \n",
      "Epoch: [16][0/58] Elapsed 0m 3s (remain 3m 29s) Loss: 4.2796(4.2796) Grad: 77.5984  LR: 0.003849  \n",
      "Epoch: [16][20/58] Elapsed 0m 25s (remain 0m 44s) Loss: 4.0812(3.6945) Grad: 73.2583  LR: 0.003849  \n",
      "Epoch: [16][40/58] Elapsed 0m 47s (remain 0m 19s) Loss: 3.8132(3.9759) Grad: 31.6407  LR: 0.003849  \n",
      "Epoch: [16][57/58] Elapsed 1m 5s (remain 0m 0s) Loss: 3.1108(3.7724) Grad: 15.2888  LR: 0.003849  \n",
      "EVAL: [0/15] Elapsed 0m 2s (remain 0m 40s) Loss: 3.0251(3.0251) \n"
     ]
    },
    {
     "name": "stderr",
     "output_type": "stream",
     "text": [
      "Epoch 16 - avg_train_loss: 3.7724  avg_val_loss: 2.9830  time: 76s\n",
      "Epoch 16 - MAE Score (without expiratory phase): 1.2051\n",
      "Epoch 16 - Save Best Score: 1.2051 Model\n"
     ]
    },
    {
     "name": "stdout",
     "output_type": "stream",
     "text": [
      "EVAL: [14/15] Elapsed 0m 9s (remain 0m 0s) Loss: 2.9670(2.9830) \n",
      "Epoch: [17][0/58] Elapsed 0m 3s (remain 3m 34s) Loss: 3.0818(3.0818) Grad: 7.8987  LR: 0.003714  \n",
      "Epoch: [17][20/58] Elapsed 0m 25s (remain 0m 44s) Loss: 3.0671(3.3871) Grad: 22.9997  LR: 0.003714  \n",
      "Epoch: [17][40/58] Elapsed 0m 47s (remain 0m 19s) Loss: 3.2859(3.4788) Grad: 32.9234  LR: 0.003714  \n",
      "Epoch: [17][57/58] Elapsed 1m 5s (remain 0m 0s) Loss: 4.1178(3.5158) Grad: 68.4294  LR: 0.003714  \n",
      "EVAL: [0/15] Elapsed 0m 2s (remain 0m 41s) Loss: 3.9624(3.9624) \n"
     ]
    },
    {
     "name": "stderr",
     "output_type": "stream",
     "text": [
      "Epoch 17 - avg_train_loss: 3.5158  avg_val_loss: 3.9897  time: 76s\n",
      "Epoch 17 - MAE Score (without expiratory phase): 1.6577\n"
     ]
    },
    {
     "name": "stdout",
     "output_type": "stream",
     "text": [
      "EVAL: [14/15] Elapsed 0m 9s (remain 0m 0s) Loss: 4.1284(3.9897) \n",
      "Epoch: [18][0/58] Elapsed 0m 3s (remain 3m 38s) Loss: 4.1979(4.1979) Grad: 78.6891  LR: 0.003574  \n",
      "Epoch: [18][20/58] Elapsed 0m 25s (remain 0m 45s) Loss: 4.5388(3.5972) Grad: 76.5393  LR: 0.003574  \n",
      "Epoch: [18][40/58] Elapsed 0m 47s (remain 0m 19s) Loss: 3.9284(3.4880) Grad: 70.2744  LR: 0.003574  \n",
      "Epoch: [18][57/58] Elapsed 1m 5s (remain 0m 0s) Loss: 3.2340(3.4852) Grad: 42.8049  LR: 0.003574  \n",
      "EVAL: [0/15] Elapsed 0m 3s (remain 0m 42s) Loss: 2.9466(2.9466) \n"
     ]
    },
    {
     "name": "stderr",
     "output_type": "stream",
     "text": [
      "Epoch 18 - avg_train_loss: 3.4852  avg_val_loss: 2.9258  time: 76s\n",
      "Epoch 18 - MAE Score (without expiratory phase): 1.1818\n",
      "Epoch 18 - Save Best Score: 1.1818 Model\n"
     ]
    },
    {
     "name": "stdout",
     "output_type": "stream",
     "text": [
      "EVAL: [14/15] Elapsed 0m 9s (remain 0m 0s) Loss: 2.9684(2.9258) \n",
      "Epoch: [19][0/58] Elapsed 0m 3s (remain 3m 28s) Loss: 2.9784(2.9784) Grad: 12.9854  LR: 0.003430  \n",
      "Epoch: [19][20/58] Elapsed 0m 25s (remain 0m 44s) Loss: 3.4989(3.2817) Grad: 58.8077  LR: 0.003430  \n",
      "Epoch: [19][40/58] Elapsed 0m 47s (remain 0m 19s) Loss: 2.9757(3.2962) Grad: 16.8437  LR: 0.003430  \n",
      "Epoch: [19][57/58] Elapsed 1m 5s (remain 0m 0s) Loss: 3.6846(3.3277) Grad: 71.1466  LR: 0.003430  \n",
      "EVAL: [0/15] Elapsed 0m 3s (remain 0m 43s) Loss: 3.5059(3.5059) \n"
     ]
    },
    {
     "name": "stderr",
     "output_type": "stream",
     "text": [
      "Epoch 19 - avg_train_loss: 3.3277  avg_val_loss: 3.4539  time: 76s\n",
      "Epoch 19 - MAE Score (without expiratory phase): 1.3947\n"
     ]
    },
    {
     "name": "stdout",
     "output_type": "stream",
     "text": [
      "EVAL: [14/15] Elapsed 0m 10s (remain 0m 0s) Loss: 3.3917(3.4539) \n",
      "Epoch: [20][0/58] Elapsed 0m 3s (remain 3m 31s) Loss: 3.5157(3.5157) Grad: 63.0706  LR: 0.003282  \n",
      "Epoch: [20][20/58] Elapsed 0m 25s (remain 0m 44s) Loss: 3.7058(3.3483) Grad: 70.0810  LR: 0.003282  \n",
      "Epoch: [20][40/58] Elapsed 0m 47s (remain 0m 19s) Loss: 3.7972(3.2763) Grad: 74.0155  LR: 0.003282  \n",
      "Epoch: [20][57/58] Elapsed 1m 5s (remain 0m 0s) Loss: 3.1770(3.2865) Grad: 43.3020  LR: 0.003282  \n",
      "EVAL: [0/15] Elapsed 0m 2s (remain 0m 40s) Loss: 3.0815(3.0815) \n"
     ]
    },
    {
     "name": "stderr",
     "output_type": "stream",
     "text": [
      "Epoch 20 - avg_train_loss: 3.2865  avg_val_loss: 3.0912  time: 76s\n",
      "Epoch 20 - MAE Score (without expiratory phase): 1.2386\n"
     ]
    },
    {
     "name": "stdout",
     "output_type": "stream",
     "text": [
      "EVAL: [14/15] Elapsed 0m 9s (remain 0m 0s) Loss: 3.1979(3.0912) \n",
      "Epoch: [21][0/58] Elapsed 0m 3s (remain 3m 28s) Loss: 3.1855(3.1855) Grad: 53.1517  LR: 0.003132  \n",
      "Epoch: [21][20/58] Elapsed 0m 25s (remain 0m 44s) Loss: 3.8085(3.2974) Grad: 70.7300  LR: 0.003132  \n",
      "Epoch: [21][40/58] Elapsed 0m 47s (remain 0m 19s) Loss: 3.3813(3.2770) Grad: 56.6244  LR: 0.003132  \n",
      "Epoch: [21][57/58] Elapsed 1m 5s (remain 0m 0s) Loss: 2.8937(3.2521) Grad: 19.0083  LR: 0.003132  \n"
     ]
    }
   ],
   "source": [
    "if __name__ == '__main__':\n",
    "    main()"
   ]
  },
  {
   "cell_type": "code",
   "execution_count": null,
   "metadata": {},
   "outputs": [],
   "source": []
  }
 ],
 "metadata": {
  "kernelspec": {
   "display_name": "Python 3 (ipykernel)",
   "language": "python",
   "name": "python3"
  },
  "language_info": {
   "codemirror_mode": {
    "name": "ipython",
    "version": 3
   },
   "file_extension": ".py",
   "mimetype": "text/x-python",
   "name": "python",
   "nbconvert_exporter": "python",
   "pygments_lexer": "ipython3",
   "version": "3.8.3"
  }
 },
 "nbformat": 4,
 "nbformat_minor": 4
}
