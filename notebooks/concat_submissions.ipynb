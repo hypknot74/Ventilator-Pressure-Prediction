{
 "cells": [
  {
   "cell_type": "code",
   "execution_count": 1,
   "id": "93053270-5a1a-4c3c-b6a1-5c2bd2e756f6",
   "metadata": {},
   "outputs": [],
   "source": [
    "import os\n",
    "import gc\n",
    "import sys\n",
    "import json\n",
    "import math\n",
    "import random\n",
    "from time import time\n",
    "from datetime import datetime\n",
    "from collections import Counter, defaultdict\n",
    "\n",
    "import scipy as sp\n",
    "import numpy as np\n",
    "import pandas as pd"
   ]
  },
  {
   "cell_type": "code",
   "execution_count": 4,
   "id": "9caa9b43-d953-457d-876c-f30d01a02907",
   "metadata": {},
   "outputs": [],
   "source": [
    "base = '1023_lstm_6layer-ver6_mod-feat11'\n",
    "df_5 = pd.read_csv(f'./results/{base}_R5/submission_median.csv')\n",
    "df_20 = pd.read_csv(f'./results/{base}_R20/submission_median.csv')\n",
    "df_50 = pd.read_csv(f'./results/{base}_R50/submission_median.csv')"
   ]
  },
  {
   "cell_type": "code",
   "execution_count": 10,
   "id": "e7665fd5-62a8-4efc-979c-059fc3fb62e1",
   "metadata": {},
   "outputs": [
    {
     "name": "stdout",
     "output_type": "stream",
     "text": [
      "1306800\n",
      "1110400\n",
      "1306800\n"
     ]
    }
   ],
   "source": [
    "print(len(df_5))\n",
    "print(len(df_20))\n",
    "print(len(df_50))"
   ]
  },
  {
   "cell_type": "code",
   "execution_count": 12,
   "id": "60f5348c-2c0a-4177-b9f2-b92ed2fac82a",
   "metadata": {},
   "outputs": [],
   "source": [
    "df = pd.concat([df_5, df_20, df_50])"
   ]
  },
  {
   "cell_type": "code",
   "execution_count": 14,
   "id": "b5488287-814b-4d6a-bb69-7609d2ae454a",
   "metadata": {},
   "outputs": [
    {
     "data": {
      "text/html": [
       "<div>\n",
       "<style scoped>\n",
       "    .dataframe tbody tr th:only-of-type {\n",
       "        vertical-align: middle;\n",
       "    }\n",
       "\n",
       "    .dataframe tbody tr th {\n",
       "        vertical-align: top;\n",
       "    }\n",
       "\n",
       "    .dataframe thead th {\n",
       "        text-align: right;\n",
       "    }\n",
       "</style>\n",
       "<table border=\"1\" class=\"dataframe\">\n",
       "  <thead>\n",
       "    <tr style=\"text-align: right;\">\n",
       "      <th></th>\n",
       "      <th>id</th>\n",
       "      <th>pressure</th>\n",
       "    </tr>\n",
       "  </thead>\n",
       "  <tbody>\n",
       "    <tr>\n",
       "      <th>0</th>\n",
       "      <td>1</td>\n",
       "      <td>6.259305</td>\n",
       "    </tr>\n",
       "    <tr>\n",
       "      <th>1</th>\n",
       "      <td>2</td>\n",
       "      <td>5.978096</td>\n",
       "    </tr>\n",
       "    <tr>\n",
       "      <th>2</th>\n",
       "      <td>3</td>\n",
       "      <td>7.102930</td>\n",
       "    </tr>\n",
       "    <tr>\n",
       "      <th>3</th>\n",
       "      <td>4</td>\n",
       "      <td>7.595045</td>\n",
       "    </tr>\n",
       "    <tr>\n",
       "      <th>4</th>\n",
       "      <td>5</td>\n",
       "      <td>9.141693</td>\n",
       "    </tr>\n",
       "  </tbody>\n",
       "</table>\n",
       "</div>"
      ],
      "text/plain": [
       "   id  pressure\n",
       "0   1  6.259305\n",
       "1   2  5.978096\n",
       "2   3  7.102930\n",
       "3   4  7.595045\n",
       "4   5  9.141693"
      ]
     },
     "execution_count": 14,
     "metadata": {},
     "output_type": "execute_result"
    }
   ],
   "source": [
    "df.head()"
   ]
  },
  {
   "cell_type": "code",
   "execution_count": 15,
   "id": "07f7d265-ef99-488a-862d-1c954143bcdb",
   "metadata": {},
   "outputs": [],
   "source": [
    "df = df.sort_values('id')"
   ]
  },
  {
   "cell_type": "code",
   "execution_count": null,
   "id": "919b9c30-1930-47ac-b3dd-8acbed76fa4d",
   "metadata": {},
   "outputs": [],
   "source": [
    "df.to_csv(f'./concat_submissions/concat_{base}.csv', index=False)"
   ]
  }
 ],
 "metadata": {
  "kernelspec": {
   "display_name": "Python 3 (ipykernel)",
   "language": "python",
   "name": "python3"
  },
  "language_info": {
   "codemirror_mode": {
    "name": "ipython",
    "version": 3
   },
   "file_extension": ".py",
   "mimetype": "text/x-python",
   "name": "python",
   "nbconvert_exporter": "python",
   "pygments_lexer": "ipython3",
   "version": "3.8.3"
  }
 },
 "nbformat": 4,
 "nbformat_minor": 5
}
