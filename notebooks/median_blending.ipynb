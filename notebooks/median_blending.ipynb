{
 "cells": [
  {
   "cell_type": "code",
   "execution_count": 2,
   "id": "ac89262e-51fc-4194-b9fa-9d478c2ab957",
   "metadata": {},
   "outputs": [],
   "source": [
    "import numpy as np # linear algebra\n",
    "import pandas as pd # data processing, CSV file I/O (e.g. pd.read_csv)\n",
    "import os\n",
    "import copy\n",
    "import glob\n",
    "import random\n",
    "from random import random as rd\n",
    "import gc\n",
    "from tqdm import tqdm"
   ]
  },
  {
   "cell_type": "code",
   "execution_count": 3,
   "id": "2b3c507f-1d71-4dc5-9b07-5065e7578167",
   "metadata": {},
   "outputs": [],
   "source": [
    "df_train = pd.read_csv(\"../input/ventilator-pressure-prediction/train.csv\")\n",
    "unique_pressures = df_train[\"pressure\"].unique()\n",
    "sorted_pressures = np.sort(unique_pressures)\n",
    "total_pressures_len = len(sorted_pressures)\n",
    "\n",
    "def find_nearest(prediction):\n",
    "    insert_idx = np.searchsorted(sorted_pressures, prediction)\n",
    "    if insert_idx == total_pressures_len:\n",
    "        return sorted_pressures[-1]\n",
    "    elif insert_idx == 0:\n",
    "        return sorted_pressures[0]\n",
    "    lower_val = sorted_pressures[insert_idx - 1]\n",
    "    upper_val = sorted_pressures[insert_idx]\n",
    "    return lower_val if abs(lower_val - prediction) < abs(upper_val - prediction) else upper_val\n",
    "\n",
    "def set_seed(seed = 42):\n",
    "    np.random.seed(seed)\n",
    "    random_state = np.random.RandomState(seed)\n",
    "    random.seed(seed)\n",
    "    os.environ['PYTHONHASHSEED'] = str(seed)\n",
    "    return random_state\n",
    "\n",
    "def median_blend(dir_path):\n",
    "    file_paths = glob.glob(f'{dir_path}/*')\n",
    "    file_paths.sort()\n",
    "    for path in file_paths:\n",
    "        root, ext = os.path.splitext(path)\n",
    "        basename = os.path.basename(root)\n",
    "        print(basename)\n",
    "    sub_df = pd.read_csv('../input/ventilator-pressure-prediction/sample_submission.csv')\n",
    "    pred = []\n",
    "    for path in tqdm(file_paths):\n",
    "        tmp_df = pd.read_csv(path)\n",
    "        #np.append(pred, tmp_df['pressure'].values, axis=0)\n",
    "        pred.append(tmp_df['pressure'].values)\n",
    "        root, ext = os.path.splitext(path)\n",
    "        basename = os.path.basename(root)\n",
    "    med = np.median(pred, axis=0)\n",
    "    sub_df['pressure'] = med\n",
    "    sub_df[\"pressure\"] = sub_df[\"pressure\"].apply(find_nearest)\n",
    "    output_dir = './mb_submissions/'\n",
    "    os.makedirs(output_dir, exist_ok=True)\n",
    "    sub_df.to_csv(output_dir+f'mb_submission_{input_dir}.csv', index=False)"
   ]
  },
  {
   "cell_type": "code",
   "execution_count": 11,
   "id": "5ea96053-c02a-460b-bb0f-5c962da9cf65",
   "metadata": {},
   "outputs": [
    {
     "name": "stdout",
     "output_type": "stream",
     "text": [
      "0.1361_Median Ensemble of Published Notebooks_submission\n",
      "0.1361_ensemble without overfitting_median_submission\n",
      "0.1368_Median wins! + round _submission\n",
      "0.1378_blebleble_submission\n",
      "0.1385_DNN-LSTM(TPU)_median_submission\n",
      "0.1393_DNN-LSTM - (TPU)_median_submission\n",
      "0.139_Pulp _iction_median_submission\n",
      "0.140_Gaps_Features_submission\n",
      "0.1413_median_submission_1024_tf_ver1\n",
      "0.1437_median_submission_1025_tf_ver1_pca10_500ep\n",
      "0.1439_median_submission_1027_tf_ver1_pca10-ver2\n",
      "0.1452_median_submission_1024_tf_ver2_batch256\n",
      "0.1476_submission_median_ 1026_lstm_hidden=1024_ver7_mod-feat11_dropout=0.0\n",
      "0.148_Random_Weights_Blending_Tool_submission\n",
      "0.148_submission_GB_VPP_To_Infinity_and_Beyond!\n",
      "mb_submission_level1_1026\n",
      "mb_submission_level2_1031\n",
      "mb_submission_level3_1101\n",
      "mb_submission_level4_1101\n",
      "mb_submission_level4_1104_2\n",
      "median_submission_1025_tf_ver1_pca5_500ep\n",
      "median_submission_1026_tf_ver1_CosineDecayRestarts_fds40_500ep\n",
      "median_submission_1026_tf_ver3\n",
      "median_submission_1027_tf_ver4\n",
      "median_submission_1027_tf_ver5\n",
      "median_submission_1031_tf_ver6\n",
      "median_submission_1031_tf_ver7\n",
      "median_submission_1103_tf\n",
      "median_submission_1103_tf_2\n",
      "median_submission_1103_tf_ver1_10000fold\n",
      "median_submission_1103_tf_ver1_1000fold\n",
      "median_submission_1103_tf_ver1_100fold\n",
      "median_submission_1103_tf_ver1_50fold\n",
      "median_submission_1103_tf_ver6_1000fold\n",
      "submission_median_1103_lstm_hidden=1024_6layer-ver6_mod-feat11_1000fold_512batch\n",
      "submission_median_1103_lstm_hidden=1024_6layer-ver6_mod-feat11_dropout=0.0_1000fold\n",
      "submission_median_1103_lstm_hidden=1024_ver11_mod-feat11_10000fold_512batch_seed7\n",
      "submission_median_1103_lstm_hidden=1024_ver11_mod-feat11_10000fold_512batch_seed74\n",
      "submission_median_1103_lstm_hidden=1024_ver11_mod-feat11_1000fold_512batch_seed7\n",
      "submission_median_1103_lstm_hidden=1024_ver11_mod-feat11_1000fold_seed7\n",
      "submission_median_1103_lstm_hidden=1024_ver11_mod-feat11_dropout=0.0_10000fold_512batch\n",
      "submission_median_1103_lstm_hidden=1024_ver11_mod-feat11_dropout=0.0_100fold\n",
      "submission_median_1103_lstm_hidden=1024_ver11_mod-feat11_dropout=0.0_2\n",
      "submission_median_1103_lstm_hidden=1024_ver7_mod-feat11_dropout=0.0_1000fold_512batch \n"
     ]
    },
    {
     "name": "stderr",
     "output_type": "stream",
     "text": [
      "100%|████████████████████████████████████████████████████████████████████████████████████████████████████████████████████████████████████████████████████████████████████████| 44/44 [00:35<00:00,  1.25it/s]\n"
     ]
    }
   ],
   "source": [
    "input_dir='level5_1104_5'\n",
    "median_blend(f'./submissions/{input_dir}')"
   ]
  },
  {
   "cell_type": "code",
   "execution_count": 8,
   "id": "d4ae0d7d-db6a-4564-8e15-11536b8ab83c",
   "metadata": {},
   "outputs": [
    {
     "name": "stdout",
     "output_type": "stream",
     "text": [
      "mb_submission_level1_1026\n",
      "mb_submission_level2_1026\n",
      "mb_submission_level2_1031\n",
      "mb_submission_level3_1026\n",
      "mb_submission_level3_1027\n",
      "mb_submission_level3_1031\n",
      "mb_submission_level3_1031_2\n",
      "mb_submission_level3_1101\n",
      "mb_submission_level4_1026\n",
      "mb_submission_level4_1027\n",
      "mb_submission_level4_1027_2\n",
      "mb_submission_level4_1031\n",
      "mb_submission_level4_1101\n",
      "mb_submission_level5_1026\n",
      "mb_submission_level5_1026_2\n",
      "mb_submission_level5_1027\n",
      "mb_submission_level5_1027_2\n",
      "mb_submission_level5_1027_3\n",
      "mb_submission_level5_1027_4\n",
      "mb_submission_level5_1027_5\n",
      "mb_submission_level5_1027_6\n",
      "mb_submission_level5_1027_7\n",
      "mb_submission_level5_1031\n",
      "mb_submission_level5_1031_2\n",
      "mb_submission_level5_1101\n",
      "mb_submission_level5_1102\n",
      "mb_submission_level5_1103\n",
      "mb_submission_level5_1103_2\n",
      "mb_submission_level6_1027\n",
      "mb_submission_level6_1103\n",
      "mb_submission_top_1028\n"
     ]
    },
    {
     "name": "stderr",
     "output_type": "stream",
     "text": [
      "100%|████████████████████████████████████████████████████████████████████████████████████████████████████████████████████████████████████████████████████████████████████████| 31/31 [00:25<00:00,  1.23it/s]\n"
     ]
    }
   ],
   "source": [
    "input_dir='mb'\n",
    "median_blend(f'./submissions/{input_dir}')"
   ]
  },
  {
   "cell_type": "code",
   "execution_count": null,
   "id": "393bff4b-ce96-4f8f-8c6e-0791527d70dd",
   "metadata": {},
   "outputs": [],
   "source": []
  }
 ],
 "metadata": {
  "kernelspec": {
   "display_name": "Python 3 (ipykernel)",
   "language": "python",
   "name": "python3"
  },
  "language_info": {
   "codemirror_mode": {
    "name": "ipython",
    "version": 3
   },
   "file_extension": ".py",
   "mimetype": "text/x-python",
   "name": "python",
   "nbconvert_exporter": "python",
   "pygments_lexer": "ipython3",
   "version": "3.8.3"
  }
 },
 "nbformat": 4,
 "nbformat_minor": 5
}
