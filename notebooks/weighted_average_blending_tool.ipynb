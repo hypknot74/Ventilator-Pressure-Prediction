{
 "cells": [
  {
   "cell_type": "markdown",
   "id": "55a546c6-bca4-4793-b189-48bd2154f330",
   "metadata": {},
   "source": [
    "# cvやlbのスコアを考慮したアンサンブル\n",
    "スコアをもとに加重平均をしてアンサンブルする  \n",
    "スコアはファイル名に記載する　  \n",
    "e.g. 0.152_submission.csv"
   ]
  },
  {
   "cell_type": "code",
   "execution_count": 1,
   "id": "1a997969",
   "metadata": {
    "_cell_guid": "b1076dfc-b9ad-4769-8c92-a6c4dae69d19",
    "_uuid": "8f2839f25d086af736a60e9eeb907d3b93b6e0e5",
    "papermill": {
     "duration": 0.018484,
     "end_time": "2021-10-07T00:29:51.377585",
     "exception": false,
     "start_time": "2021-10-07T00:29:51.359101",
     "status": "completed"
    },
    "tags": []
   },
   "outputs": [],
   "source": [
    "import numpy as np # linear algebra\n",
    "import pandas as pd # data processing, CSV file I/O (e.g. pd.read_csv)\n",
    "import os\n",
    "import copy\n",
    "import glob\n",
    "import random\n",
    "from random import random as rd\n",
    "import gc"
   ]
  },
  {
   "cell_type": "code",
   "execution_count": 2,
   "id": "ee20e376",
   "metadata": {
    "papermill": {
     "duration": 8.151196,
     "end_time": "2021-10-07T00:29:59.540832",
     "exception": false,
     "start_time": "2021-10-07T00:29:51.389636",
     "status": "completed"
    },
    "tags": []
   },
   "outputs": [],
   "source": [
    "df_train = pd.read_csv(\"../input/ventilator-pressure-prediction/train.csv\")\n",
    "unique_pressures = df_train[\"pressure\"].unique()\n",
    "sorted_pressures = np.sort(unique_pressures)\n",
    "total_pressures_len = len(sorted_pressures)\n",
    "\n",
    "def find_nearest(prediction):\n",
    "    insert_idx = np.searchsorted(sorted_pressures, prediction)\n",
    "    if insert_idx == total_pressures_len:\n",
    "        return sorted_pressures[-1]\n",
    "    elif insert_idx == 0:\n",
    "        return sorted_pressures[0]\n",
    "    lower_val = sorted_pressures[insert_idx - 1]\n",
    "    upper_val = sorted_pressures[insert_idx]\n",
    "    return lower_val if abs(lower_val - prediction) < abs(upper_val - prediction) else upper_val\n",
    "\n",
    "def set_seed(seed = 42):\n",
    "    np.random.seed(seed)\n",
    "    random_state = np.random.RandomState(seed)\n",
    "    random.seed(seed)\n",
    "    os.environ['PYTHONHASHSEED'] = str(seed)\n",
    "    return random_state\n",
    "\n",
    "def blend(dp):\n",
    "    # input: the dataset path of the prediction result files\n",
    "    # file name format: public lb score or pulbic lb score + name, e.g., 0.335_LSTM_baseline\n",
    "    # get all the files to blend\n",
    "    files = []\n",
    "    for file in glob.iglob(f'{dp}/*'):\n",
    "        files.append(file)\n",
    "    \n",
    "    scores = []\n",
    "    predictions = []\n",
    "    for file in files:\n",
    "        root, ext = os.path.splitext(file)\n",
    "        basename = os.path.basename(root)\n",
    "        print(basename)\n",
    "        public_lb_score = int(file.split(\"/\")[-1].split(\".\")[1].split(\"_\")[0]) \n",
    "        scores.append(public_lb_score)\n",
    "        predictions.append((pd.read_csv(file).pressure).ravel())\n",
    "    \n",
    "    for i in range(len(files)):\n",
    "        if i==0:\n",
    "            prediction = predictions[i] * scores[i] / sum(scores)\n",
    "        else:\n",
    "            prediction += predictions[i] * scores[i] / sum(scores)\n",
    "    \n",
    "    output_dir = './wab_submissions/'\n",
    "    os.makedirs(output_dir, exist_ok=True)\n",
    "    output = pd.read_csv(\"../input/ventilator-pressure-prediction/sample_submission.csv\")\n",
    "    output.pressure = prediction\n",
    "    output[\"pressure\"] = output[\"pressure\"].apply(find_nearest)\n",
    "    output.to_csv(output_dir+f'wab_submission_{input_dir}.csv',index=False)"
   ]
  },
  {
   "cell_type": "code",
   "execution_count": 3,
   "id": "bb84005c",
   "metadata": {
    "papermill": {
     "duration": 53.332072,
     "end_time": "2021-10-07T00:30:52.876885",
     "exception": false,
     "start_time": "2021-10-07T00:29:59.544813",
     "status": "completed"
    },
    "tags": []
   },
   "outputs": [
    {
     "name": "stdout",
     "output_type": "stream",
     "text": [
      "0.149_submission_median_1020_lstm_hidden=1024_6layer-ver6_mod-feat11_dropout=0.0\n",
      "0.149_submission_Ventilator_LSTM_Model\n",
      "0.152_submission_median_1012_lstm_hidden=1024_4layer_dropout=0.0_mod-feat5\n",
      "0.153_submission_median_1016_lstm+gru\n",
      "0.151_submission_median_1017_lstm_hidden=1024_6layer-ver2_mod-feat3_dropout=0.0_SELU \n",
      "0.139_Pulp _iction_median_submission\n",
      "0.155_submission_median_1011_lstm_hidden=1024_4layer_dropout=0.0_mod-feat1\n",
      "0.150_submission_median_1016_lstm_hidden=1024_6layer-ver2_mod-feat7_dropout=0.0_noemb\n",
      "0.149_submission_median_1016_lstm_hidden=1024_6layer-ver2_mod-feat7_dropout=0.0\n",
      "0.153_submission_median_1011_lstm_hidden=1024_4layer_dropout=0.0_mod-feat2\n",
      "0.149_submission_median_1018_lstm_hidden=1024_6layer-ver6_mod-feat3_dropout=0.0\n",
      "0.155_submission_median_1013_lstm_hidden=1024_5layer_mod-feat3_seq_emb=2layer\n",
      "0.151_submission_median_1012_lstm_hidden=1024_5layer_mod-feat3\n",
      "0.149_submission_median_1015_lstm_hidden=1024_6layer-ver2_mod-feat3_dropout=0.0\n",
      "0.148_Random_Weights_Blending_Tool_submission\n",
      "0.152_submission_median_1013_lstm_hidden=1024_6layer_mod-feat3\n",
      "0.150_submission_median_1018_lstm_hidden=1024_6layer-ver7_mod-feat3_dropout=0.0\n",
      "0.151_submission_median_1014_lstm_hidden=1024_5layer_mod-feat6\n",
      "0.152_submission_median_1012_lstm_hidden=2048_4layer_mod-feat3\n",
      "0.153_submission_median_1006_lstm_hidden=1024_5layer\n",
      "0.153_submission_median_1012_lstm_hidden=1024_4layer_dropout=0.0_mod-feat4\n",
      "0.149_submission_median_1020_lstm_hidden=1024_6layer-ver5_mod-feat11_dropout=0.0\n",
      "0.157_submission_median_1006_lstm_hidden=2048\n",
      "0.157_submission_median_1013_lstm_hidden=1024_5layer_mod-feat3_seq_emb=2layer-ver2\n",
      "0.148_submission_GB_VPP_To_Infinity_and_Beyond!\n",
      "0.144_median_submission_GB_VPP_Whoppity_dub_dub\n",
      "0.153_submission_median_1017_lstm_hidden=1024_6layer-ver2_feat8_dropout=0.0\n",
      "0.156_submission_median_1010_lstm_hidden=1024_dropout=0.0 \n",
      "0.154_submission_median_1006_lstm_hidden=1024_4layer \n",
      "0.140_Gaps_Features_submission\n",
      "0.153_submission_median_1019_lstm_hidden=1024_6layer-ver5_mod-feat10_dropout=0.0\n",
      "0.151_submission_median_1014_lstm_hidden=2048_5layer_mod-feat3\n",
      "0.150_submission_median_1014_lstm_hidden=1024_6layer-ver2_mod-feat3\n",
      "0.158_submission_median_1008_lstm_hidden=1024_patience=10\n",
      "0.153_submission_median_1010_lstm_hidden=1024_4layer_dropout=0.0\n",
      "0.159_submission_1006_lstm_hidden=1024\n",
      "0.154_submission_median_1010_lstm_hidden=2048_4layer_dropout=0.0\n",
      "0.153_submission_median_1007_lstm_hidden=2048_4layer\n",
      "0.149_submission_median_1017_lstm_hidden=1024_6layer-ver5_mod-feat3_dropout=0.0\n",
      "0.152_submission_median_1011_lstm_hidden=1024_4layer_dropout=0.0_mod-feat1\n",
      "0.154_submission_median_1017_lstm_hidden=1024_6layer-ver4_mod-feat3_dropout=0.0\n"
     ]
    }
   ],
   "source": [
    "input_dir='all'\n",
    "set_seed(seed=42)\n",
    "blend(f'./submissions/{input_dir}')"
   ]
  },
  {
   "cell_type": "code",
   "execution_count": null,
   "id": "0da06a24-4b0a-4803-84b1-fd44e2ea946f",
   "metadata": {},
   "outputs": [],
   "source": []
  }
 ],
 "metadata": {
  "kernelspec": {
   "display_name": "Python 3 (ipykernel)",
   "language": "python",
   "name": "python3"
  },
  "language_info": {
   "codemirror_mode": {
    "name": "ipython",
    "version": 3
   },
   "file_extension": ".py",
   "mimetype": "text/x-python",
   "name": "python",
   "nbconvert_exporter": "python",
   "pygments_lexer": "ipython3",
   "version": "3.8.3"
  },
  "papermill": {
   "default_parameters": {},
   "duration": 69.723602,
   "end_time": "2021-10-07T00:30:54.224271",
   "environment_variables": {},
   "exception": null,
   "input_path": "__notebook__.ipynb",
   "output_path": "__notebook__.ipynb",
   "parameters": {},
   "start_time": "2021-10-07T00:29:44.500669",
   "version": "2.3.3"
  }
 },
 "nbformat": 4,
 "nbformat_minor": 5
}
